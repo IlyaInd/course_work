{
 "cells": [
  {
   "cell_type": "code",
   "execution_count": 1,
   "metadata": {
    "collapsed": true
   },
   "outputs": [],
   "source": [
    "import pandas as pd\n",
    "import numpy as np\n",
    "import matplotlib.pyplot as plt\n",
    "from tqdm.notebook import tqdm\n",
    "from sklearn.preprocessing import LabelEncoder\n",
    "\n",
    "import torch\n",
    "import torch.nn.functional as F\n",
    "from torch.utils.tensorboard import SummaryWriter\n",
    "\n",
    "from torch_geometric import seed_everything\n",
    "from torch_geometric.data import Data, Dataset\n",
    "from torch_geometric.loader import DataLoader\n",
    "from torch_geometric.transforms import RandomLinkSplit\n",
    "\n",
    "%config InlineBackend.figure_format='retina'"
   ]
  },
  {
   "cell_type": "markdown",
   "source": [
    "# Datasets"
   ],
   "metadata": {
    "collapsed": false,
    "pycharm": {
     "name": "#%% md\n"
    }
   }
  },
  {
   "cell_type": "code",
   "execution_count": 2,
   "outputs": [],
   "source": [
    "class PlainData(Data):\n",
    "    \"\"\"\n",
    "    Custom Data class for use in PyG. Basically the same as the original Data class from PyG, but\n",
    "    overrides the __inc__ method because otherwise the DataLoader was incrementing indices unnecessarily.\n",
    "    Now it functions more like the original DataLoader from PyTorch itself.\n",
    "    See here for more information: https://pytorch-geometric.readthedocs.io/en/latest/notes/batching.html\n",
    "    \"\"\"\n",
    "    def __inc__(self, key, value, *args, **kwargs):\n",
    "        return 0\n",
    "\n",
    "class MyDataset(Dataset):\n",
    "    \"\"\"\n",
    "    Dataset object containing supervision/evaluation edges. This will be used by the DataLoader to load\n",
    "    batches of edges to calculate loss or evaluation metrics on. Here, get(idx) will return ALL outgoing edges of the graph\n",
    "    corresponding to user \"idx\". This is because when calculating metrics such as recall@k, we need all of the\n",
    "    user's positive edges in the same batch.\n",
    "    \"\"\"\n",
    "    def __init__(self, root, edge_index, transform=None, pre_transform=None):\n",
    "        self.edge_index = edge_index\n",
    "        self.unique_idxs = torch.unique(edge_index[0,:]).tolist()\n",
    "        self.num_nodes = len(self.unique_idxs)\n",
    "        super().__init__(root, transform, pre_transform)\n",
    "\n",
    "    def len(self):\n",
    "        return self.num_nodes\n",
    "\n",
    "    def get(self, idx): # returns all outgoing edges associated with playlist idx\n",
    "        edge_index = self.edge_index[:, self.edge_index[0,:] == idx]\n",
    "        return PlainData(edge_index=edge_index)"
   ],
   "metadata": {
    "collapsed": false,
    "pycharm": {
     "name": "#%%\n"
    }
   }
  },
  {
   "cell_type": "code",
   "execution_count": 4,
   "outputs": [],
   "source": [
    "class MovieLens:\n",
    "    def __init__(self):\n",
    "        # df = load_pandas_df('100k', ('UserId', 'ItemId', 'Rating'))\n",
    "        df = pd.read_table('ml-100k/u.data', header=None, usecols=[0, 1, 2])\n",
    "        df.columns = ('UserId', 'ItemId', 'Rating')\n",
    "        df = df[df['Rating'] >= 4]\n",
    "        encoder = LabelEncoder()\n",
    "        df['UserId'] = encoder.fit_transform(df['UserId'])\n",
    "        df['ItemId'] = encoder.fit_transform(df['ItemId'])\n",
    "        df['ItemId'] += df['UserId'].max() + 1\n",
    "        self.num_users = df['UserId'].nunique()\n",
    "        self.df = df\n",
    "        self._build_graph()\n",
    "        self._train_test_split()\n",
    "\n",
    "    def _build_edge_index(self):\n",
    "        users = torch.tensor(self.df['UserId'].values, dtype=torch.long)\n",
    "        items = torch.tensor(self.df['ItemId'].values, dtype=torch.long)\n",
    "        source = torch.cat([users, items]).reshape(1, -1)\n",
    "        target = torch.cat([items, users]).reshape(1, -1)\n",
    "        edges = torch.cat([source, target], dim=0)\n",
    "        return edges\n",
    "\n",
    "    def _build_graph(self):\n",
    "        edges = self._build_edge_index()\n",
    "        self.num_nodes = len(edges.unique())\n",
    "        self.edges = edges\n",
    "        graph = Data(edge_index=edges, num_nodes=self.num_nodes)\n",
    "        self.graph = graph\n",
    "\n",
    "    def _train_test_split(self, val_ratio=0.15, test_ratio=0.15):\n",
    "        splitter = RandomLinkSplit(is_undirected=True, add_negative_train_samples=False,\n",
    "                                   neg_sampling_ratio=0, num_val=val_ratio, num_test=test_ratio)\n",
    "        train_split, val_split, test_split = splitter(self.graph)\n",
    "        # Confirm that every node appears in every set above\n",
    "        assert train_split.num_nodes == val_split.num_nodes and train_split.num_nodes == test_split.num_nodes\n",
    "\n",
    "        self.train_split = train_split\n",
    "        self.val_split = val_split\n",
    "        self.test_split = test_split\n",
    "\n",
    "    def get_train(self):\n",
    "        train_ev = MyDataset('movielens', edge_index=self.train_split.edge_label_index)\n",
    "        train_mp = Data(edge_index=self.train_split.edge_index)\n",
    "        return train_ev, train_mp\n",
    "\n",
    "    def get_val(self):\n",
    "        val_ev = MyDataset('movielens', edge_index=self.val_split.edge_label_index)\n",
    "        val_mp = Data(edge_index=self.val_split.edge_index)\n",
    "        return val_ev, val_mp\n",
    "\n",
    "    def get_test(self):\n",
    "        test_ev = MyDataset('movielens', edge_index=self.test_split.edge_label_index)\n",
    "        test_mp = Data(edge_index=self.test_split.edge_index)\n",
    "        return test_ev, test_mp"
   ],
   "metadata": {
    "collapsed": false,
    "pycharm": {
     "name": "#%%\n"
    }
   }
  },
  {
   "cell_type": "code",
   "execution_count": null,
   "outputs": [],
   "source": [
    "mov = MovieLens()\n",
    "\n",
    "train_ev, train_mp = mov.get_train()\n",
    "val_ev, val_mp = mov.get_val()\n",
    "test_ev, test_mp = mov.get_test()"
   ],
   "metadata": {
    "collapsed": false,
    "pycharm": {
     "name": "#%%\n"
    }
   }
  },
  {
   "cell_type": "code",
   "execution_count": 3,
   "outputs": [],
   "source": [
    "def recall_at_k(pred_items: np.array, true_items: np.array):\n",
    "    assert pred_items.shape[0] == true_items.shape[0]\n",
    "    recall_list = []\n",
    "    for i_pred, i_true in zip(pred_items, true_items):\n",
    "        try:\n",
    "            hits = len(np.intersect1d(i_pred, i_true))\n",
    "            recall = hits / len(i_true)\n",
    "            recall_list.append(recall)\n",
    "        except ZeroDivisionError:\n",
    "            print(len(recall_list), i_true)\n",
    "    return np.mean(recall_list)\n",
    "\n",
    "def precision_at_k(pred_items: np.array, true_items: np.array):\n",
    "    assert pred_items.shape[0] == true_items.shape[0]\n",
    "    precision_list = []\n",
    "    for i_pred, i_true in zip(pred_items, true_items):\n",
    "        try:\n",
    "            hits = len(np.intersect1d(i_pred, i_true))\n",
    "            prec = hits / len(i_pred)\n",
    "            precision_list.append(prec)\n",
    "        except ZeroDivisionError:\n",
    "            print(len(precision_list), i_true)\n",
    "    return np.mean(precision_list)"
   ],
   "metadata": {
    "collapsed": false,
    "pycharm": {
     "name": "#%%\n"
    }
   }
  },
  {
   "cell_type": "markdown",
   "source": [
    "# LightGCN"
   ],
   "metadata": {
    "collapsed": false,
    "pycharm": {
     "name": "#%% md\n"
    }
   }
  },
  {
   "cell_type": "code",
   "execution_count": null,
   "outputs": [],
   "source": [
    "from torch_geometric.nn import LightGCN\n",
    "\n",
    "class CustomLightGCN(LightGCN):\n",
    "    def reset_parameters(self):\n",
    "        torch.nn.init.xavier_uniform_(self.embedding.weight, gain=1)\n",
    "        for conv in self.convs:\n",
    "            conv.reset_parameters()"
   ],
   "metadata": {
    "collapsed": false,
    "pycharm": {
     "name": "#%%\n"
    }
   }
  },
  {
   "cell_type": "code",
   "execution_count": null,
   "outputs": [],
   "source": [
    "class Trainer:\n",
    "    def __init__(self, model, optimizer, train_ev, val_ev, batch_size=256):\n",
    "        self.model = model\n",
    "        self.opt = optimizer\n",
    "        self.train_loader = DataLoader(train_ev, batch_size=batch_size, shuffle=True)\n",
    "        self.val_loader = DataLoader(val_ev, batch_size=batch_size, shuffle=False)\n",
    "        self.batch_size = batch_size\n",
    "\n",
    "        self.device = 'cpu'\n",
    "        if torch.cuda.is_available():\n",
    "            self.device = torch.cuda.current_device()\n",
    "            self.model = self.model.to(self.device)\n",
    "\n",
    "        self.global_train_step = 0\n",
    "        self.global_val_step = 0\n",
    "        self.writer = SummaryWriter(\"./logs\")\n",
    "\n",
    "        # сохраняем состояние оптимизатора и модели\n",
    "        # self.cache = self.cache_states()\n",
    "\n",
    "    @staticmethod\n",
    "    def sample_negative_edges(batch, data_mp, num_users, num_nodes):\n",
    "        negs = []\n",
    "        for i in batch.edge_index[0, :]:  # looping over users\n",
    "            assert i < num_users     # just ensuring that i is a user\n",
    "            rand_item = torch.randint(num_users, num_nodes, (1,))  # randomly sample an item\n",
    "            negs.append(rand_item.item())\n",
    "        edge_index_negs = torch.row_stack([batch.edge_index[0, :], torch.LongTensor(negs)])\n",
    "        return Data(edge_index=edge_index_negs, y=torch.LongTensor([0] * len(negs)))\n",
    "\n",
    "\n",
    "    def train(self, data_mp, k, num_users, num_nodes):\n",
    "        model = self.model\n",
    "        opt = self.opt\n",
    "        items = torch.tensor(np.arange(num_users, num_nodes))\n",
    "        recall_all = []\n",
    "\n",
    "        model.train()\n",
    "        for batch in self.train_loader:\n",
    "            del batch.batch; del batch.ptr # delete unwanted attributes\n",
    "\n",
    "            opt.zero_grad()\n",
    "            negs = self.sample_negative_edges(batch, data_mp, num_users, num_nodes)  # sample negative edges\n",
    "            data_mp, batch, negs = data_mp.to(self.device), batch.to(self.device), negs.to(self.device)\n",
    "\n",
    "            pos_scores = model.forward(data_mp['edge_index'], batch['edge_index'])\n",
    "            neg_scores = model.forward(data_mp['edge_index'], negs['edge_index'])\n",
    "\n",
    "            batch_index = batch['edge_index']\n",
    "            users = batch_index[0].unique()\n",
    "            recoms = model.recommend(data_mp['edge_index'], users, items, k=k)\n",
    "\n",
    "            recall_batch = []\n",
    "            for u, rec in zip(users, recoms):\n",
    "                true_items = batch_index[1, batch_index[0] == u].cpu()\n",
    "                hits = len(np.intersect1d(rec.cpu(), true_items))\n",
    "                recall = hits / len(true_items)\n",
    "                recall_batch.append(recall)\n",
    "                recall_all.append(recall)\n",
    "\n",
    "            # loss = pos_scores.shape[0] * model.recommendation_loss(pos_scores, neg_scores)\n",
    "            loss = torch.mean(torch.nn.functional.softplus(neg_scores - pos_scores))\n",
    "            loss.backward()\n",
    "            # for p in list(filter(lambda p: p.grad is not None, model.parameters())):\n",
    "            #     print(f'Gradient norm on this layer = {p.grad.data.norm(2).item()}')  # Посмотрим на норму градиентов\n",
    "            opt.step()\n",
    "\n",
    "            self.writer.add_scalar(\"Recall/train\", np.mean(recall_batch), global_step=self.global_train_step)\n",
    "            self.writer.add_scalar(\"Loss/train\", loss.item(), global_step=self.global_train_step)\n",
    "            self.global_train_step += 1\n",
    "\n",
    "        print(f'Train avg recall = {np.mean(recall_all).round(4)}')\n",
    "        print(f'Current loss = {loss.item()}')\n",
    "        return loss.item()\n",
    "\n",
    "\n",
    "    def test(self, data_mp, k, num_users, num_nodes, train_split=None):\n",
    "        model = self.model\n",
    "        items = torch.LongTensor(np.arange(num_users, num_nodes))\n",
    "\n",
    "        model.eval()\n",
    "        with torch.no_grad():\n",
    "            data_mp = data_mp.to(self.device)\n",
    "\n",
    "            recall_all = []\n",
    "            for batch in self.val_loader:\n",
    "                del batch.batch; del batch.ptr # delete unwanted attributes\n",
    "                batch = batch['edge_index']\n",
    "                batch = batch.to(self.device)\n",
    "                users = batch[0].unique_consecutive()\n",
    "                recoms = model.recommend(data_mp['edge_index'], users, items, k=k)\n",
    "\n",
    "                # --- FAIR BUT LONG METHOD ---\n",
    "                # for user in tqdm(users):\n",
    "                    # seen_items = set(train_split[1, train_split[0] == user].tolist())\n",
    "                    # unseen_items = torch.LongTensor(list(items.difference(seen_items)))\n",
    "                    # rec = model.recommend(data_mp['edge_index'], user, torch.tensor(list(items)), k=k)\n",
    "                    # true_items = batch[1, batch[0] == user].cpu()\n",
    "\n",
    "                recall_batch = []\n",
    "                for u, rec in zip(users, recoms):\n",
    "                    true_items = batch[1, batch[0] == u].cpu()\n",
    "                    hits = len(np.intersect1d(rec.cpu(), true_items))\n",
    "                    recall = hits / len(true_items)\n",
    "                    recall_batch.append(recall)\n",
    "                    recall_all.append(recall)\n",
    "\n",
    "                self.writer.add_scalar(\"Recall/valid\", np.mean(recall_batch), global_step=self.global_val_step)\n",
    "                self.global_val_step += 1\n",
    "\n",
    "        print(f'Valid avg recall = {np.mean(recall_all).round(4)}')"
   ],
   "metadata": {
    "collapsed": false,
    "pycharm": {
     "name": "#%%\n"
    }
   }
  },
  {
   "cell_type": "code",
   "execution_count": 2,
   "outputs": [],
   "source": [
    "%load_ext tensorboard"
   ],
   "metadata": {
    "collapsed": false,
    "pycharm": {
     "name": "#%%\n"
    }
   }
  },
  {
   "cell_type": "code",
   "execution_count": 3,
   "outputs": [
    {
     "data": {
      "text/plain": "Launching TensorBoard..."
     },
     "metadata": {},
     "output_type": "display_data"
    }
   ],
   "source": [
    "%tensorboard --logdir logs/"
   ],
   "metadata": {
    "collapsed": false,
    "pycharm": {
     "name": "#%%\n"
    }
   }
  },
  {
   "cell_type": "markdown",
   "source": [
    "# twin-LGCN-U/E"
   ],
   "metadata": {
    "collapsed": false,
    "pycharm": {
     "name": "#%% md\n"
    }
   }
  },
  {
   "cell_type": "code",
   "execution_count": 4,
   "outputs": [],
   "source": [
    "pd.options.mode.chained_assignment = None"
   ],
   "metadata": {
    "collapsed": false,
    "pycharm": {
     "name": "#%%\n"
    }
   }
  },
  {
   "cell_type": "code",
   "execution_count": 5,
   "outputs": [],
   "source": [
    "from torch_geometric.nn import MessagePassing\n",
    "from torch_geometric import utils\n",
    "from torch_geometric.utils import degree\n",
    "from sklearn.metrics.pairwise import cosine_similarity"
   ],
   "metadata": {
    "collapsed": false,
    "pycharm": {
     "name": "#%%\n"
    }
   }
  },
  {
   "cell_type": "code",
   "execution_count": 6,
   "outputs": [],
   "source": [
    "class SimpleProp(MessagePassing):\n",
    "    def __init__(self, **kwargs):\n",
    "        super().__init__(**kwargs)\n",
    "\n",
    "    def forward(self, x, edge_index, size):\n",
    "        return self.propagate(edge_index, x=x, size=size)\n",
    "\n",
    "    def message(self, x_j):\n",
    "        return x_j"
   ],
   "metadata": {
    "collapsed": false,
    "pycharm": {
     "name": "#%%\n"
    }
   }
  },
  {
   "cell_type": "code",
   "execution_count": 7,
   "outputs": [],
   "source": [
    "class LGCN_U(torch.nn.Module):\n",
    "    def __init__(self, n_users, emb_dim, alphas=(1, 1), normalize=False, **kwargs):\n",
    "        super().__init__()\n",
    "        self.m = n_users\n",
    "        self.normalize = normalize\n",
    "        self.alphas = alphas\n",
    "        self.U_0 = torch.nn.Embedding(self.m, emb_dim)\n",
    "        self.layer_1 = SimpleProp(**kwargs)  # E_1 = R.T @ U\n",
    "        self.layer_2 = SimpleProp(**kwargs)  # U_2 = R @ E_1\n",
    "        self.layer_3 = SimpleProp(**kwargs)  # E_3 = R @ U_2\n",
    "\n",
    "    def get_embeddings(self, edge_index, n=None):\n",
    "        \"\"\"\n",
    "        Propagate messages through the graph and return fused final embeddings of users ans items: U, E.\n",
    "\n",
    "        Parameters:\n",
    "        ----------\n",
    "        edge_index : Tensor\n",
    "            Edge tensor specifying the connectivity of the graph\n",
    "        n : int (optional)\n",
    "            Number of items\n",
    "\n",
    "        Returns:\n",
    "        -------\n",
    "            U : Tensor\n",
    "                User embeddings of shape (m, emb_dim)\n",
    "            E : Tensor\n",
    "                Item embeddings of shape (n, emb_dim)\n",
    "        \"\"\"\n",
    "        if n is None:\n",
    "            n = edge_index[1].max().item() + 1\n",
    "        m = self.m\n",
    "\n",
    "        if self.normalize:\n",
    "            inv_sqrt_user_degrees = degree(edge_index[0]).pow(-0.5)\n",
    "            inv_sqrt_item_degrees = degree(edge_index[1]).pow(-0.5)\n",
    "            # inv_norm = inv_sqrt_user_degrees * inv_sqrt_item_degrees\n",
    "        else:\n",
    "            inv_sqrt_item_degrees = torch.Tensor(1)\n",
    "            inv_sqrt_user_degrees = torch.Tensor(1)\n",
    "\n",
    "        E_1 = self.layer_1.forward(self.U_0.weight, edge_index=edge_index, size=(m, n)) * inv_sqrt_item_degrees.view(-1, 1)\n",
    "        U_2 = self.layer_2.forward(E_1, edge_index[[1, 0], :], size=(n, m)) * inv_sqrt_user_degrees.view(-1, 1)\n",
    "        E_3 = self.layer_3.forward(U_2, edge_index, size=(m, n)) * inv_sqrt_item_degrees.view(-1, 1)\n",
    "\n",
    "        E = 0.5 * (E_1 + E_3)\n",
    "        U = 0.5 * (self.U_0.weight + U_2)\n",
    "        return U, E\n",
    "\n",
    "    def forward(self, edge_index, edge_label_index, n_items=None):\n",
    "        \"\"\"\n",
    "        Computes rankings for pairs of nodes using learned user embeddings.\n",
    "\n",
    "        Parameters\n",
    "        ----------\n",
    "        edge_index: Tensor\n",
    "            Edge tensor specifying the connectivity of the graph\n",
    "        edge_label_index: Tensor, optional\n",
    "            Edge tensor specifying the node pairs for which to compute rankings or probabilities\n",
    "        n_items: int (optional)\n",
    "            Number of items\n",
    "\n",
    "        Returns\n",
    "        -------\n",
    "        scores : Tensor\n",
    "            Scores of edges of shape (edge_index_label, ).\n",
    "        \"\"\"\n",
    "        if edge_label_index is None:\n",
    "            edge_label_index = edge_index\n",
    "\n",
    "        U, E = self.get_embeddings(edge_index, n=n_items)\n",
    "        src = U[edge_label_index[0]]\n",
    "        dst = E[edge_label_index[1]]\n",
    "        return (src * dst).sum(dim=-1)\n",
    "\n",
    "    def recommend_top_k(self, n):\n",
    "        pass"
   ],
   "metadata": {
    "collapsed": false,
    "pycharm": {
     "name": "#%%\n"
    }
   }
  },
  {
   "cell_type": "markdown",
   "source": [
    "### Pipeline (sanity check)"
   ],
   "metadata": {
    "collapsed": false
   }
  },
  {
   "cell_type": "code",
   "execution_count": 246,
   "outputs": [
    {
     "data": {
      "text/plain": "tensor([[0, 0, 1, 2],\n        [0, 1, 2, 0]])"
     },
     "execution_count": 246,
     "metadata": {},
     "output_type": "execute_result"
    }
   ],
   "source": [
    "pos_edges = torch.nonzero(R).T\n",
    "pos_edges"
   ],
   "metadata": {
    "collapsed": false,
    "pycharm": {
     "name": "#%%\n"
    }
   }
  },
  {
   "cell_type": "code",
   "execution_count": 247,
   "outputs": [
    {
     "data": {
      "text/plain": "tensor([[0, 1, 2, 1],\n        [2, 0, 2, 3]])"
     },
     "execution_count": 247,
     "metadata": {},
     "output_type": "execute_result"
    }
   ],
   "source": [
    "neg_edges = utils.negative_sampling(pos_edges, num_nodes=(3, 4))\n",
    "neg_edges"
   ],
   "metadata": {
    "collapsed": false,
    "pycharm": {
     "name": "#%%\n"
    }
   }
  },
  {
   "cell_type": "code",
   "execution_count": 340,
   "outputs": [],
   "source": [
    "model = LGCN_U(n_users=3, emb_dim=3)\n",
    "opt = torch.optim.Adam(model.parameters(), lr=3e-2)\n",
    "metrics = []"
   ],
   "metadata": {
    "collapsed": false,
    "pycharm": {
     "name": "#%%\n"
    }
   }
  },
  {
   "cell_type": "code",
   "execution_count": 351,
   "outputs": [
    {
     "name": "stdout",
     "output_type": "stream",
     "text": [
      "0.24593006074428558\n"
     ]
    },
    {
     "data": {
      "text/plain": "<Figure size 432x288 with 1 Axes>",
      "image/png": "[encoded data removed]"
     },
     "metadata": {
      "image/png": {
       "width": 375,
       "height": 248
      },
      "needs_background": "light"
     },
     "output_type": "display_data"
    }
   ],
   "source": [
    "for i in range(10):\n",
    "    opt.zero_grad()\n",
    "    neg_edges = utils.negative_sampling(pos_edges, num_nodes=(3, 4))\n",
    "    pos_scores = model.predict(edges_index=pos_edges, n_items=4)\n",
    "    neg_scores = model.predict(edges_index=neg_edges, n_items=4)\n",
    "\n",
    "    loss = torch.mean(F.softplus(neg_scores - pos_scores))\n",
    "    # print(loss.item())\n",
    "    loss.backward()\n",
    "    opt.step()\n",
    "    metrics.append(loss.item())\n",
    "print(metrics[-1])\n",
    "plt.plot(metrics)\n",
    "plt.show()"
   ],
   "metadata": {
    "collapsed": false,
    "pycharm": {
     "name": "#%%\n"
    }
   }
  },
  {
   "cell_type": "code",
   "execution_count": 352,
   "outputs": [
    {
     "data": {
      "text/plain": "array([[ 1.       , -0.7746767,  0.8162699],\n       [-0.7746767,  1.       , -0.933676 ],\n       [ 0.8162699, -0.933676 ,  0.9999999]], dtype=float32)"
     },
     "execution_count": 352,
     "metadata": {},
     "output_type": "execute_result"
    }
   ],
   "source": [
    "cosine_similarity(model.forward(edge_index=pos_edges, n=4)[0].data.numpy())"
   ],
   "metadata": {
    "collapsed": false,
    "pycharm": {
     "name": "#%%\n"
    }
   }
  },
  {
   "cell_type": "code",
   "execution_count": 353,
   "outputs": [
    {
     "data": {
      "text/plain": "tensor([[1., 1., 0.],\n        [1., 1., 0.],\n        [0., 0., 1.]])"
     },
     "execution_count": 353,
     "metadata": {},
     "output_type": "execute_result"
    }
   ],
   "source": [
    "new_R = torch.Tensor([[1, 1, 0], [1, 1, 0], [0, 0, 1]])\n",
    "new_R"
   ],
   "metadata": {
    "collapsed": false,
    "pycharm": {
     "name": "#%%\n"
    }
   }
  },
  {
   "cell_type": "code",
   "execution_count": 354,
   "outputs": [
    {
     "data": {
      "text/plain": "tensor([[0, 0, 1, 1, 2],\n        [4, 5, 4, 5, 6]])"
     },
     "execution_count": 354,
     "metadata": {},
     "output_type": "execute_result"
    }
   ],
   "source": [
    "new_edges = torch.nonzero(new_R).T\n",
    "new_edges[1] += 4\n",
    "new_edges"
   ],
   "metadata": {
    "collapsed": false,
    "pycharm": {
     "name": "#%%\n"
    }
   }
  },
  {
   "cell_type": "code",
   "execution_count": 355,
   "outputs": [
    {
     "data": {
      "text/plain": "array([[ 0.9999999 ,  0.09845882,  0.4470191 ],\n       [ 0.09845882,  0.9999999 , -0.77198714],\n       [ 0.4470191 , -0.77198714,  0.9999999 ]], dtype=float32)"
     },
     "execution_count": 355,
     "metadata": {},
     "output_type": "execute_result"
    }
   ],
   "source": [
    "cosine_similarity(model.forward(torch.cat([pos_edges, new_edges], dim=1), 7)[0].detach().numpy())"
   ],
   "metadata": {
    "collapsed": false,
    "pycharm": {
     "name": "#%%\n"
    }
   }
  },
  {
   "cell_type": "code",
   "execution_count": 356,
   "outputs": [],
   "source": [
    "_U, _E = model.forward(torch.cat([pos_edges, new_edges], dim=1), 7)"
   ],
   "metadata": {
    "collapsed": false,
    "pycharm": {
     "name": "#%%\n"
    }
   }
  },
  {
   "cell_type": "code",
   "execution_count": 361,
   "outputs": [
    {
     "data": {
      "text/plain": "tensor([[1., 1., 0., 0., 1., 1., 0.],\n        [0., 0., 1., 0., 1., 1., 0.],\n        [1., 0., 0., 0., 0., 0., 1.]])"
     },
     "execution_count": 361,
     "metadata": {},
     "output_type": "execute_result"
    }
   ],
   "source": [
    "torch.cat([R, new_R], dim=1)"
   ],
   "metadata": {
    "collapsed": false,
    "pycharm": {
     "name": "#%%\n"
    }
   }
  },
  {
   "cell_type": "code",
   "execution_count": 359,
   "outputs": [
    {
     "data": {
      "text/plain": "tensor([[ 7.1969,  5.7982,  0.3556,  0.0000,  6.1539,  6.1539,  1.3987],\n        [-1.1491,  0.3556,  2.2500,  0.0000,  2.6057,  2.6057, -1.5047],\n        [ 3.0872,  1.3987, -1.5047,  0.0000, -0.1060, -0.1060,  1.6885]],\n       grad_fn=<MmBackward0>)"
     },
     "execution_count": 359,
     "metadata": {},
     "output_type": "execute_result"
    }
   ],
   "source": [
    "_U @ _E.T"
   ],
   "metadata": {
    "collapsed": false,
    "pycharm": {
     "name": "#%%\n"
    }
   }
  },
  {
   "cell_type": "markdown",
   "source": [
    "### MovieLens"
   ],
   "metadata": {
    "collapsed": false,
    "pycharm": {
     "name": "#%% md\n"
    }
   }
  },
  {
   "cell_type": "code",
   "execution_count": 8,
   "outputs": [],
   "source": [
    "from sklearn.model_selection import train_test_split"
   ],
   "metadata": {
    "collapsed": false,
    "pycharm": {
     "name": "#%%\n"
    }
   }
  },
  {
   "cell_type": "code",
   "execution_count": 9,
   "outputs": [],
   "source": [
    "class MovieLens:\n",
    "    def __init__(self, path, nrows=None):\n",
    "        df = pd.read_table(path, header=None, nrows=nrows)\n",
    "        df.columns = ['user_id', 'item_id', 'rating', 'timestamp']\n",
    "        df['timestamp'] = pd.to_datetime(df['timestamp'], unit='s')\n",
    "        df['user_id'] -= 1\n",
    "        df['item_id'] -= 1\n",
    "        df = df[df['rating'] >= 4]\n",
    "        df['rating'] = 1\n",
    "        self.df = df\n",
    "\n",
    "    def train_test_split(self, test_ratio=0.25, observed_ratio=0.5):\n",
    "        df = self.df\n",
    "        all_users = self.df['user_id'].unique()\n",
    "        test_size = int(len(all_users) * test_ratio)\n",
    "\n",
    "        # Формируем выборку пользователей для теста\n",
    "        test_users = np.random.choice(a=all_users, size=test_size, replace=False)\n",
    "        df_train = df[~df['user_id'].isin(test_users)]\n",
    "        df_test = df[df['user_id'].isin(test_users)]\n",
    "        df_test = df_test[df_test['item_id'].isin(df_train['item_id'].unique())]\n",
    "\n",
    "        # Энкодим айдишники айтемов\n",
    "        encoder = LabelEncoder()\n",
    "        df_train['user_id'] = encoder.fit_transform(df_train['user_id'])\n",
    "        df_train['item_id'] = encoder.fit_transform(df_train['item_id'])\n",
    "        df_test['item_id'] = encoder.transform(df_test['item_id'])\n",
    "\n",
    "        # Делим интеракции новых пользователей на виденные и будущие\n",
    "        test_observed, test_future = train_test_split(df_test, test_size=1-observed_ratio, random_state=42)\n",
    "        test_future = test_future[test_future['user_id'].isin(test_observed['user_id'].unique())]\n",
    "        test_observed['user_id'] = encoder.fit_transform(test_observed['user_id'])\n",
    "        test_future['user_id'] = encoder.transform(test_future['user_id'])\n",
    "\n",
    "        self.train = df_train\n",
    "        self.test_observed = test_observed\n",
    "        self.test_future = test_future\n",
    "        self.n_items = df_train['item_id'].nunique()"
   ],
   "metadata": {
    "collapsed": false,
    "pycharm": {
     "name": "#%%\n"
    }
   }
  },
  {
   "cell_type": "code",
   "execution_count": 10,
   "outputs": [
    {
     "data": {
      "text/plain": "(55375, 4)"
     },
     "execution_count": 10,
     "metadata": {},
     "output_type": "execute_result"
    }
   ],
   "source": [
    "np.random.seed(42)\n",
    "mov = MovieLens('ml-100k/u.data')\n",
    "mov.df.shape"
   ],
   "metadata": {
    "collapsed": false,
    "pycharm": {
     "name": "#%%\n"
    }
   }
  },
  {
   "cell_type": "code",
   "execution_count": 769,
   "outputs": [],
   "source": [
    "mov.train_test_split(test_ratio=0.3, observed_ratio=0.1)"
   ],
   "metadata": {
    "collapsed": false,
    "pycharm": {
     "name": "#%%\n"
    }
   }
  },
  {
   "cell_type": "code",
   "execution_count": 770,
   "outputs": [
    {
     "data": {
      "text/plain": "user_id        660\nitem_id       1388\nrating           1\ntimestamp    22374\ndtype: int64"
     },
     "execution_count": 770,
     "metadata": {},
     "output_type": "execute_result"
    }
   ],
   "source": [
    "mov.train.nunique()"
   ],
   "metadata": {
    "collapsed": false,
    "pycharm": {
     "name": "#%%\n"
    }
   }
  },
  {
   "cell_type": "code",
   "execution_count": 771,
   "outputs": [
    {
     "data": {
      "text/plain": "user_id       257\nitem_id       599\nrating          1\ntimestamp    1566\ndtype: int64"
     },
     "execution_count": 771,
     "metadata": {},
     "output_type": "execute_result"
    }
   ],
   "source": [
    "mov.test_observed.nunique()"
   ],
   "metadata": {
    "collapsed": false,
    "pycharm": {
     "name": "#%%\n"
    }
   }
  },
  {
   "cell_type": "code",
   "execution_count": 772,
   "outputs": [
    {
     "data": {
      "text/plain": "user_id       257\nitem_id      1120\nrating          1\ntimestamp    9012\ndtype: int64"
     },
     "execution_count": 772,
     "metadata": {},
     "output_type": "execute_result"
    }
   ],
   "source": [
    "mov.test_future.nunique()"
   ],
   "metadata": {
    "collapsed": false,
    "pycharm": {
     "name": "#%%\n"
    }
   }
  },
  {
   "cell_type": "code",
   "execution_count": 973,
   "outputs": [
    {
     "data": {
      "text/plain": "tensor([[ 464,  455,  219,  ..., 1044,  417,  528],\n        [ 214,  186,  151,  ...,  347,  567,  479]])"
     },
     "execution_count": 973,
     "metadata": {},
     "output_type": "execute_result"
    }
   ],
   "source": [
    "pos_edges = torch.LongTensor(mov.train[['item_id', 'user_id']].values.T)\n",
    "pos_edges"
   ],
   "metadata": {
    "collapsed": false,
    "pycharm": {
     "name": "#%%\n"
    }
   }
  },
  {
   "cell_type": "code",
   "execution_count": 970,
   "outputs": [
    {
     "data": {
      "text/plain": "(tensor([  0, 660]), tensor([1364,  916]))"
     },
     "execution_count": 970,
     "metadata": {},
     "output_type": "execute_result"
    }
   ],
   "source": [
    "test_observed_edges = torch.LongTensor(mov.test_observed[['item_id', 'user_id']].values.T)\n",
    "test_observed_edges[1] += mov.train['user_id'].nunique()\n",
    "test_observed_edges.min(dim=1).values, test_observed_edges.max(dim=1).values"
   ],
   "metadata": {
    "collapsed": false,
    "pycharm": {
     "name": "#%%\n"
    }
   }
  },
  {
   "cell_type": "code",
   "execution_count": 787,
   "outputs": [],
   "source": [
    "test_future_edges = torch.LongTensor(mov.test_future[['item_id', 'user_id']].values.T)\n",
    "test_future_edges[1] += mov.train['user_id'].nunique()"
   ],
   "metadata": {
    "collapsed": false,
    "pycharm": {
     "name": "#%%\n"
    }
   }
  },
  {
   "cell_type": "code",
   "execution_count": 788,
   "outputs": [
    {
     "data": {
      "text/plain": "(torch.Size([2, 1691]), torch.Size([2, 14863]))"
     },
     "execution_count": 788,
     "metadata": {},
     "output_type": "execute_result"
    }
   ],
   "source": [
    "test_observed_edges.shape, test_future_edges.shape"
   ],
   "metadata": {
    "collapsed": false,
    "pycharm": {
     "name": "#%%\n"
    }
   }
  },
  {
   "cell_type": "code",
   "execution_count": 775,
   "outputs": [
    {
     "data": {
      "text/plain": "(1388, 660)"
     },
     "execution_count": 775,
     "metadata": {},
     "output_type": "execute_result"
    }
   ],
   "source": [
    "len(pos_edges[0].unique()), len(pos_edges[1].unique())"
   ],
   "metadata": {
    "collapsed": false,
    "pycharm": {
     "name": "#%%\n"
    }
   }
  },
  {
   "cell_type": "code",
   "execution_count": 1481,
   "outputs": [
    {
     "data": {
      "text/plain": "tensor([1, 2, 3, 4, 0])"
     },
     "execution_count": 1481,
     "metadata": {},
     "output_type": "execute_result"
    }
   ],
   "source": [
    "torch.randperm(5)"
   ],
   "metadata": {
    "collapsed": false,
    "pycharm": {
     "name": "#%%\n"
    }
   }
  },
  {
   "cell_type": "code",
   "execution_count": 1510,
   "outputs": [
    {
     "data": {
      "text/plain": "0.21181803970611224"
     },
     "execution_count": 1510,
     "metadata": {},
     "output_type": "execute_result"
    }
   ],
   "source": [
    "def train_val_split(pos_edges, val_ratio):\n",
    "    \"\"\"\n",
    "    Split edges so that all users presence both in train in validation splits.\n",
    "    Cut specified ratio of edges for each user, providing balanced partitioning.\n",
    "\n",
    "    Parameters:\n",
    "    ----------\n",
    "    pos_edges: LongTensor\n",
    "        All edges the directed (user, item) graph; the shape is (2, E)\n",
    "    val_ratio: float\n",
    "        Share of validation edges in all positive edges of given graph\n",
    "\n",
    "    Returns:\n",
    "    -------\n",
    "    train_edges: LongTensor\n",
    "    val_edges: LongTensor\n",
    "    \"\"\"\n",
    "    val_edges = []\n",
    "    train_edges = []\n",
    "    for user in pos_edges[0].unique():\n",
    "        edges = pos_edges[:, pos_edges[0] == user]\n",
    "        n_items = edges.shape[1]\n",
    "        # edges = edges[:, torch.randperm(n_items)]\n",
    "        if n_items == 1:\n",
    "            thr = 1\n",
    "        else:\n",
    "            thr = int(n_items * (1-val_ratio))\n",
    "        train_edges.append(edges[:, :thr])\n",
    "        val_edges.append(edges[:, thr:])\n",
    "\n",
    "    val_edges = torch.cat(val_edges, dim=1)\n",
    "    train_edges = torch.cat(train_edges, dim=1)\n",
    "    return train_edges, val_edges\n",
    "\n",
    "train_edges, val_edges = train_val_split(pos_edges, 0.2)\n",
    "val_edges.shape[1] / pos_edges.shape[1]"
   ],
   "metadata": {
    "collapsed": false,
    "pycharm": {
     "name": "#%%\n"
    }
   }
  },
  {
   "cell_type": "code",
   "execution_count": 1525,
   "outputs": [],
   "source": [
    "model = LGCN_U(n_users=mov.train['item_id'].nunique(), emb_dim=64, normalize=True)\n",
    "opt = torch.optim.Adam(model.parameters(), lr=3e-4)\n",
    "metrics = []\n",
    "acc_list = []"
   ],
   "metadata": {
    "collapsed": false,
    "pycharm": {
     "name": "#%%\n"
    }
   }
  },
  {
   "cell_type": "code",
   "execution_count": 1534,
   "outputs": [
    {
     "data": {
      "text/plain": "  0%|          | 0/200 [00:00<?, ?it/s]",
      "application/vnd.jupyter.widget-view+json": {
       "version_major": 2,
       "version_minor": 0,
       "model_id": "6dc3eb309d8945c6b07d496bc9599a7f"
      }
     },
     "metadata": {},
     "output_type": "display_data"
    }
   ],
   "source": [
    "for i in tqdm(range(200)):\n",
    "    opt.zero_grad()\n",
    "    neg_edges = utils.negative_sampling(train_edges, num_neg_samples=train_edges.shape[1],\n",
    "                                        num_nodes=(model.m, mov.train['user_id'].nunique()))\n",
    "    neg_val_edges = utils.negative_sampling(pos_edges, num_neg_samples=val_edges.shape[1],\n",
    "                                            num_nodes=(model.m, mov.train['user_id'].nunique()))\n",
    "\n",
    "    train_scores = model.forward(edge_index=train_edges, edge_label_index=train_edges, n_items=mov.train['user_id'].nunique())\n",
    "    neg_scores = model.forward(edge_index=train_edges, edge_label_index=neg_edges, n_items=mov.train['user_id'].nunique())\n",
    "\n",
    "    val_scores = model.forward(edge_index=train_edges, edge_label_index=val_edges, n_items=mov.train['user_id'].nunique())\n",
    "    neg_val_scores = model.forward(edge_index=train_edges, edge_label_index=neg_val_edges, n_items=mov.train['user_id'].nunique())\n",
    "\n",
    "    #  ==== VALIDATION ====\n",
    "    # _toe = test_observed_edges.clone()\n",
    "    # _toe[1] -= mov.train['user_id'].nunique()\n",
    "    # neg_val_edges = utils.negative_sampling(_toe, num_nodes=(model.m, mov.test_observed['user_id'].nunique()))\n",
    "    # neg_val_edges[1] += mov.train['user_id'].nunique()\n",
    "    # val_scores = model.forward(edge_index=torch.cat([pos_edges, test_observed_edges], dim=1),\n",
    "    #                            edge_label_index=test_observed_edges, n_items=test_observed_edges[1].max().item() + 1)\n",
    "    # neg_val_scores = model.forward(edge_index=torch.cat([pos_edges, test_observed_edges], dim=1),\n",
    "    #                                edge_label_index=neg_val_edges, n_items=test_observed_edges[1].max().item() + 1)\n",
    "\n",
    "    # ==== TEST ====\n",
    "    _tfe = test_future_edges.clone()\n",
    "    _tfe[1] -= mov.train['user_id'].nunique()\n",
    "    neg_test_edges = utils.negative_sampling(_tfe, num_nodes=(model.m, mov.test_observed['user_id'].nunique()))\n",
    "    neg_test_edges[1] += mov.train['user_id'].nunique()\n",
    "    test_scores = model.forward(edge_index=torch.cat([pos_edges, test_observed_edges], dim=1),\n",
    "                                edge_label_index=test_future_edges, n_items=test_observed_edges[1].max().item() + 1)\n",
    "    neg_test_scores = model.forward(edge_index=torch.cat([pos_edges, test_observed_edges], dim=1),\n",
    "                                   edge_label_index=neg_test_edges, n_items=test_observed_edges[1].max().item() + 1)\n",
    "\n",
    "    train_loss = torch.mean(F.softplus(neg_scores - train_scores))\n",
    "    val_loss = torch.mean(F.softplus(neg_val_scores - val_scores))\n",
    "    test_loss = torch.mean(F.softplus(neg_test_scores - test_scores))\n",
    "\n",
    "    train_acc = (train_scores > neg_scores).float().mean()\n",
    "    val_acc = (val_scores > neg_val_scores).float().mean()\n",
    "    test_acc = (test_scores > neg_test_scores).float().mean()\n",
    "\n",
    "    if i % 10 == 0:\n",
    "        print(f'Train loss = {train_loss}, val_loss = {val_loss}, test_loss = {test_loss}, test_acc={test_acc}')\n",
    "    train_loss.backward()\n",
    "    opt.step()\n",
    "    metrics.append([train_loss.item(), val_loss.item(), test_loss.item()])\n",
    "    acc_list.append([train_acc.item(), val_acc.item(), test_acc.item()])"
   ],
   "metadata": {
    "collapsed": false,
    "pycharm": {
     "name": "#%%\n"
    }
   }
  },
  {
   "cell_type": "code",
   "execution_count": 1535,
   "outputs": [
    {
     "data": {
      "text/plain": "<Figure size 432x288 with 1 Axes>",
      "image/png": "[encoded data removed]"
     },
     "metadata": {
      "image/png": {
       "width": 375,
       "height": 248
      },
      "needs_background": "light"
     },
     "output_type": "display_data"
    }
   ],
   "source": [
    "plt.plot(metrics[:], label=['train_loss', 'val_loss', 'test_loss'])\n",
    "plt.legend()\n",
    "plt.show()"
   ],
   "metadata": {
    "collapsed": false,
    "pycharm": {
     "name": "#%%\n"
    }
   }
  },
  {
   "cell_type": "code",
   "execution_count": 1536,
   "outputs": [
    {
     "data": {
      "text/plain": "<Figure size 432x288 with 1 Axes>",
      "image/png": "[encoded data removed]"
     },
     "metadata": {
      "image/png": {
       "width": 378,
       "height": 248
      },
      "needs_background": "light"
     },
     "output_type": "display_data"
    }
   ],
   "source": [
    "plt.plot(acc_list, label=['train_acc', 'val_acc', 'test_acc'])\n",
    "plt.legend()\n",
    "plt.show()"
   ],
   "metadata": {
    "collapsed": false,
    "pycharm": {
     "name": "#%%\n"
    }
   }
  },
  {
   "cell_type": "code",
   "execution_count": 1530,
   "outputs": [
    {
     "data": {
      "text/plain": "(torch.Size([1388, 64]), torch.Size([917, 64]))"
     },
     "execution_count": 1530,
     "metadata": {},
     "output_type": "execute_result"
    }
   ],
   "source": [
    "with torch.no_grad():\n",
    "    _U, _E = model.get_embeddings(torch.cat([pos_edges, test_observed_edges], dim=1))\n",
    "    # _U, _E = model.get_embeddings(pos_edges)\n",
    "_U.shape, _E.shape"
   ],
   "metadata": {
    "collapsed": false,
    "pycharm": {
     "name": "#%%\n"
    }
   }
  },
  {
   "cell_type": "code",
   "execution_count": 1537,
   "outputs": [
    {
     "data": {
      "text/plain": "torch.Size([257, 1388])"
     },
     "execution_count": 1537,
     "metadata": {},
     "output_type": "execute_result"
    }
   ],
   "source": [
    "new_scores = _E @ _U.T\n",
    "new_scores[test_observed_edges[1], test_observed_edges[0]] = -1e5  # exclude seen items\n",
    "new_scores = new_scores[mov.train['user_id'].nunique():]\n",
    "new_scores.shape"
   ],
   "metadata": {
    "collapsed": false,
    "pycharm": {
     "name": "#%%\n"
    }
   }
  },
  {
   "cell_type": "code",
   "execution_count": 1538,
   "outputs": [
    {
     "data": {
      "text/plain": "array([[310, 283, 255, ..., 291, 219,   6],\n       [ 97, 131, 473, ...,  88, 169, 208],\n       [ 49,  97, 173, ..., 419, 473,  11],\n       ...,\n       [ 49,  97, 171, ..., 213, 208,  95],\n       [299, 266, 310, ..., 268,   0, 295],\n       [297, 285, 324, ...,  14, 727, 115]])"
     },
     "execution_count": 1538,
     "metadata": {},
     "output_type": "execute_result"
    }
   ],
   "source": [
    "recs = new_scores.topk(20, dim=1).indices.numpy()\n",
    "recs"
   ],
   "metadata": {
    "collapsed": false,
    "pycharm": {
     "name": "#%%\n"
    }
   }
  },
  {
   "cell_type": "code",
   "execution_count": 1539,
   "outputs": [
    {
     "name": "stdout",
     "output_type": "stream",
     "text": [
      "===== LGCN-E =====\n",
      "Precsion = 0.41323\n",
      "Recall = 0.19772\n"
     ]
    }
   ],
   "source": [
    "y_true = mov.test_future.groupby('user_id')['item_id'].unique().values\n",
    "# y_true = mov.train.groupby('user_id')['item_id'].unique().values\n",
    "print('===== LGCN-E =====')\n",
    "print(f'Precsion = {precision_at_k(recs, y_true).round(5)}')\n",
    "print(f'Recall = {recall_at_k(recs, y_true).round(5)}')"
   ],
   "metadata": {
    "collapsed": false,
    "pycharm": {
     "name": "#%%\n"
    }
   }
  },
  {
   "cell_type": "code",
   "execution_count": 1143,
   "outputs": [
    {
     "data": {
      "text/plain": "4.0"
     },
     "execution_count": 1143,
     "metadata": {},
     "output_type": "execute_result"
    }
   ],
   "source": [
    "mov.test_observed.groupby('user_id')['item_id'].count().median()"
   ],
   "metadata": {
    "collapsed": false,
    "pycharm": {
     "name": "#%%\n"
    }
   }
  },
  {
   "cell_type": "code",
   "execution_count": 317,
   "outputs": [
    {
     "data": {
      "text/plain": "40.0"
     },
     "execution_count": 317,
     "metadata": {},
     "output_type": "execute_result"
    }
   ],
   "source": [
    "mov.test_future.groupby('user_id')['item_id'].count().median()"
   ],
   "metadata": {
    "collapsed": false,
    "pycharm": {
     "name": "#%%\n"
    }
   }
  },
  {
   "cell_type": "code",
   "execution_count": 319,
   "outputs": [
    {
     "data": {
      "text/plain": "0.030303030303030304"
     },
     "execution_count": 319,
     "metadata": {},
     "output_type": "execute_result"
    }
   ],
   "source": [
    "20 / mov.train['user_id'].nunique()"
   ],
   "metadata": {
    "collapsed": false,
    "pycharm": {
     "name": "#%%\n"
    }
   }
  },
  {
   "cell_type": "code",
   "execution_count": null,
   "outputs": [],
   "source": [],
   "metadata": {
    "collapsed": false,
    "pycharm": {
     "name": "#%%\n"
    }
   }
  }
 ],
 "metadata": {
  "kernelspec": {
   "display_name": "Python 3",
   "language": "python",
   "name": "python3"
  },
  "language_info": {
   "codemirror_mode": {
    "name": "ipython",
    "version": 2
   },
   "file_extension": ".py",
   "mimetype": "text/x-python",
   "name": "python",
   "nbconvert_exporter": "python",
   "pygments_lexer": "ipython2",
   "version": "2.7.6"
  }
 },
 "nbformat": 4,
 "nbformat_minor": 0
}