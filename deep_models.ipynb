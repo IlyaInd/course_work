{
 "cells": [
  {
   "cell_type": "code",
   "execution_count": 1,
   "metadata": {
    "collapsed": true
   },
   "outputs": [],
   "source": [
    "import pandas as pd\n",
    "import numpy as np\n",
    "import matplotlib.pyplot as plt\n",
    "import sklearn.metrics.pairwise\n",
    "from sklearn.preprocessing import LabelEncoder\n",
    "\n",
    "import torch\n",
    "import torch.nn.functional as F\n",
    "from torch.utils.tensorboard import SummaryWriter\n",
    "\n",
    "from torch_geometric import seed_everything\n",
    "from torch_geometric.data import Data, Dataset\n",
    "from torch_geometric.loader import DataLoader\n",
    "from torch_geometric.transforms import RandomLinkSplit\n",
    "\n",
    "%config InlineBackend.figure_format='retina'"
   ]
  },
  {
   "cell_type": "markdown",
   "source": [
    "# Datasets"
   ],
   "metadata": {
    "collapsed": false,
    "pycharm": {
     "name": "#%% md\n"
    }
   }
  },
  {
   "cell_type": "code",
   "execution_count": 3,
   "outputs": [],
   "source": [
    "class PlainData(Data):\n",
    "    \"\"\"\n",
    "    Custom Data class for use in PyG. Basically the same as the original Data class from PyG, but\n",
    "    overrides the __inc__ method because otherwise the DataLoader was incrementing indices unnecessarily.\n",
    "    Now it functions more like the original DataLoader from PyTorch itself.\n",
    "    See here for more information: https://pytorch-geometric.readthedocs.io/en/latest/notes/batching.html\n",
    "    \"\"\"\n",
    "    def __inc__(self, key, value, *args, **kwargs):\n",
    "        return 0\n",
    "\n",
    "class MyDataset(Dataset):\n",
    "    \"\"\"\n",
    "    Dataset object containing supervision/evaluation edges. This will be used by the DataLoader to load\n",
    "    batches of edges to calculate loss or evaluation metrics on. Here, get(idx) will return ALL outgoing edges of the graph\n",
    "    corresponding to user \"idx\". This is because when calculating metrics such as recall@k, we need all of the\n",
    "    user's positive edges in the same batch.\n",
    "    \"\"\"\n",
    "    def __init__(self, root, edge_index, transform=None, pre_transform=None):\n",
    "        self.edge_index = edge_index\n",
    "        self.unique_idxs = torch.unique(edge_index[0,:]).tolist()\n",
    "        self.num_nodes = len(self.unique_idxs)\n",
    "        super().__init__(root, transform, pre_transform)\n",
    "\n",
    "    def len(self):\n",
    "        return self.num_nodes\n",
    "\n",
    "    def get(self, idx): # returns all outgoing edges associated with playlist idx\n",
    "        edge_index = self.edge_index[:, self.edge_index[0,:] == idx]\n",
    "        return PlainData(edge_index=edge_index)"
   ],
   "metadata": {
    "collapsed": false,
    "pycharm": {
     "name": "#%%\n"
    }
   }
  },
  {
   "cell_type": "code",
   "execution_count": 4,
   "outputs": [],
   "source": [
    "class MovieLens:\n",
    "    def __init__(self):\n",
    "        # df = load_pandas_df('100k', ('UserId', 'ItemId', 'Rating'))\n",
    "        df = pd.read_table('ml-100k/u.data', header=None, usecols=[0, 1, 2])\n",
    "        df.columns = ('UserId', 'ItemId', 'Rating')\n",
    "        df = df[df['Rating'] >= 4]\n",
    "        encoder = LabelEncoder()\n",
    "        df['UserId'] = encoder.fit_transform(df['UserId'])\n",
    "        df['ItemId'] = encoder.fit_transform(df['ItemId'])\n",
    "        df['ItemId'] += df['UserId'].max() + 1\n",
    "        self.num_users = df['UserId'].nunique()\n",
    "        self.df = df\n",
    "        self._build_graph()\n",
    "        self._train_test_split()\n",
    "\n",
    "    def _build_edge_index(self):\n",
    "        users = torch.tensor(self.df['UserId'].values, dtype=torch.long)\n",
    "        items = torch.tensor(self.df['ItemId'].values, dtype=torch.long)\n",
    "        source = torch.cat([users, items]).reshape(1, -1)\n",
    "        target = torch.cat([items, users]).reshape(1, -1)\n",
    "        edges = torch.cat([source, target], dim=0)\n",
    "        return edges\n",
    "\n",
    "    def _build_graph(self):\n",
    "        edges = self._build_edge_index()\n",
    "        self.num_nodes = len(edges.unique())\n",
    "        self.edges = edges\n",
    "        graph = Data(edge_index=edges, num_nodes=self.num_nodes)\n",
    "        self.graph = graph\n",
    "\n",
    "    def _train_test_split(self, val_ratio=0.15, test_ratio=0.15):\n",
    "        splitter = RandomLinkSplit(is_undirected=True, add_negative_train_samples=False,\n",
    "                                   neg_sampling_ratio=0, num_val=val_ratio, num_test=test_ratio)\n",
    "        train_split, val_split, test_split = splitter(self.graph)\n",
    "        # Confirm that every node appears in every set above\n",
    "        assert train_split.num_nodes == val_split.num_nodes and train_split.num_nodes == test_split.num_nodes\n",
    "\n",
    "        self.train_split = train_split\n",
    "        self.val_split = val_split\n",
    "        self.test_split = test_split\n",
    "\n",
    "    def get_train(self):\n",
    "        train_ev = MyDataset('movielens', edge_index=self.train_split.edge_label_index)\n",
    "        train_mp = Data(edge_index=self.train_split.edge_index)\n",
    "        return train_ev, train_mp\n",
    "\n",
    "    def get_val(self):\n",
    "        val_ev = MyDataset('movielens', edge_index=self.val_split.edge_label_index)\n",
    "        val_mp = Data(edge_index=self.val_split.edge_index)\n",
    "        return val_ev, val_mp\n",
    "\n",
    "    def get_test(self):\n",
    "        test_ev = MyDataset('movielens', edge_index=self.test_split.edge_label_index)\n",
    "        test_mp = Data(edge_index=self.test_split.edge_index)\n",
    "        return test_ev, test_mp"
   ],
   "metadata": {
    "collapsed": false,
    "pycharm": {
     "name": "#%%\n"
    }
   }
  },
  {
   "cell_type": "code",
   "execution_count": null,
   "outputs": [],
   "source": [
    "mov = MovieLens()\n",
    "\n",
    "train_ev, train_mp = mov.get_train()\n",
    "val_ev, val_mp = mov.get_val()\n",
    "test_ev, test_mp = mov.get_test()"
   ],
   "metadata": {
    "collapsed": false,
    "pycharm": {
     "name": "#%%\n"
    }
   }
  },
  {
   "cell_type": "code",
   "execution_count": 2,
   "outputs": [],
   "source": [
    "def recall_at_k(pred_items: np.array, true_items: np.array):\n",
    "    assert pred_items.shape[0] == true_items.shape[0]\n",
    "    recall_list = []\n",
    "    for i_pred, i_true in zip(pred_items, true_items):\n",
    "        try:\n",
    "            hits = len(np.intersect1d(i_pred, i_true))\n",
    "            recall = hits / len(i_true)\n",
    "            recall_list.append(recall)\n",
    "        except ZeroDivisionError:\n",
    "            print(len(recall_list), i_true)\n",
    "    return np.mean(recall_list)\n",
    "\n",
    "def precision_at_k(pred_items: np.array, true_items: np.array):\n",
    "    assert pred_items.shape[0] == true_items.shape[0]\n",
    "    precision_list = []\n",
    "    for i_pred, i_true in zip(pred_items, true_items):\n",
    "        try:\n",
    "            hits = len(np.intersect1d(i_pred, i_true))\n",
    "            prec = hits / len(i_pred)\n",
    "            precision_list.append(prec)\n",
    "        except ZeroDivisionError:\n",
    "            print(len(precision_list), i_true)\n",
    "    return np.mean(precision_list)"
   ],
   "metadata": {
    "collapsed": false,
    "pycharm": {
     "name": "#%%\n"
    }
   }
  },
  {
   "cell_type": "markdown",
   "source": [
    "# LightGCN"
   ],
   "metadata": {
    "collapsed": false,
    "pycharm": {
     "name": "#%% md\n"
    }
   }
  },
  {
   "cell_type": "code",
   "execution_count": null,
   "outputs": [],
   "source": [
    "from torch_geometric.nn import LightGCN\n",
    "\n",
    "class CustomLightGCN(LightGCN):\n",
    "    def reset_parameters(self):\n",
    "        torch.nn.init.xavier_uniform_(self.embedding.weight, gain=1)\n",
    "        for conv in self.convs:\n",
    "            conv.reset_parameters()"
   ],
   "metadata": {
    "collapsed": false,
    "pycharm": {
     "name": "#%%\n"
    }
   }
  },
  {
   "cell_type": "code",
   "execution_count": null,
   "outputs": [],
   "source": [
    "class Trainer:\n",
    "    def __init__(self, model, optimizer, train_ev, val_ev, batch_size=256):\n",
    "        self.model = model\n",
    "        self.opt = optimizer\n",
    "        self.train_loader = DataLoader(train_ev, batch_size=batch_size, shuffle=True)\n",
    "        self.val_loader = DataLoader(val_ev, batch_size=batch_size, shuffle=False)\n",
    "        self.batch_size = batch_size\n",
    "\n",
    "        self.device = 'cpu'\n",
    "        if torch.cuda.is_available():\n",
    "            self.device = torch.cuda.current_device()\n",
    "            self.model = self.model.to(self.device)\n",
    "\n",
    "        self.global_train_step = 0\n",
    "        self.global_val_step = 0\n",
    "        self.writer = SummaryWriter(\"./logs\")\n",
    "\n",
    "        # сохраняем состояние оптимизатора и модели\n",
    "        # self.cache = self.cache_states()\n",
    "\n",
    "    @staticmethod\n",
    "    def sample_negative_edges(batch, data_mp, num_users, num_nodes):\n",
    "        negs = []\n",
    "        for i in batch.edge_index[0, :]:  # looping over users\n",
    "            assert i < num_users     # just ensuring that i is a user\n",
    "            rand_item = torch.randint(num_users, num_nodes, (1,))  # randomly sample an item\n",
    "            negs.append(rand_item.item())\n",
    "        edge_index_negs = torch.row_stack([batch.edge_index[0, :], torch.LongTensor(negs)])\n",
    "        return Data(edge_index=edge_index_negs, y=torch.LongTensor([0] * len(negs)))\n",
    "\n",
    "\n",
    "    def train(self, data_mp, k, num_users, num_nodes):\n",
    "        model = self.model\n",
    "        opt = self.opt\n",
    "        items = torch.tensor(np.arange(num_users, num_nodes))\n",
    "        recall_all = []\n",
    "\n",
    "        model.train()\n",
    "        for batch in self.train_loader:\n",
    "            del batch.batch; del batch.ptr # delete unwanted attributes\n",
    "\n",
    "            opt.zero_grad()\n",
    "            negs = self.sample_negative_edges(batch, data_mp, num_users, num_nodes)  # sample negative edges\n",
    "            data_mp, batch, negs = data_mp.to(self.device), batch.to(self.device), negs.to(self.device)\n",
    "\n",
    "            pos_scores = model.forward(data_mp['edge_index'], batch['edge_index'])\n",
    "            neg_scores = model.forward(data_mp['edge_index'], negs['edge_index'])\n",
    "\n",
    "            batch_index = batch['edge_index']\n",
    "            users = batch_index[0].unique()\n",
    "            recoms = model.recommend(data_mp['edge_index'], users, items, k=k)\n",
    "\n",
    "            recall_batch = []\n",
    "            for u, rec in zip(users, recoms):\n",
    "                true_items = batch_index[1, batch_index[0] == u].cpu()\n",
    "                hits = len(np.intersect1d(rec.cpu(), true_items))\n",
    "                recall = hits / len(true_items)\n",
    "                recall_batch.append(recall)\n",
    "                recall_all.append(recall)\n",
    "\n",
    "            # loss = pos_scores.shape[0] * model.recommendation_loss(pos_scores, neg_scores)\n",
    "            loss = torch.mean(torch.nn.functional.softplus(neg_scores - pos_scores))\n",
    "            loss.backward()\n",
    "            # for p in list(filter(lambda p: p.grad is not None, model.parameters())):\n",
    "            #     print(f'Gradient norm on this layer = {p.grad.data.norm(2).item()}')  # Посмотрим на норму градиентов\n",
    "            opt.step()\n",
    "\n",
    "            self.writer.add_scalar(\"Recall/train\", np.mean(recall_batch), global_step=self.global_train_step)\n",
    "            self.writer.add_scalar(\"Loss/train\", loss.item(), global_step=self.global_train_step)\n",
    "            self.global_train_step += 1\n",
    "\n",
    "        print(f'Train avg recall = {np.mean(recall_all).round(4)}')\n",
    "        print(f'Current loss = {loss.item()}')\n",
    "        return loss.item()\n",
    "\n",
    "\n",
    "    def test(self, data_mp, k, num_users, num_nodes, train_split=None):\n",
    "        model = self.model\n",
    "        items = torch.LongTensor(np.arange(num_users, num_nodes))\n",
    "\n",
    "        model.eval()\n",
    "        with torch.no_grad():\n",
    "            data_mp = data_mp.to(self.device)\n",
    "\n",
    "            recall_all = []\n",
    "            for batch in self.val_loader:\n",
    "                del batch.batch; del batch.ptr # delete unwanted attributes\n",
    "                batch = batch['edge_index']\n",
    "                batch = batch.to(self.device)\n",
    "                users = batch[0].unique_consecutive()\n",
    "                recoms = model.recommend(data_mp['edge_index'], users, items, k=k)\n",
    "\n",
    "                # --- FAIR BUT LONG METHOD ---\n",
    "                # for user in tqdm(users):\n",
    "                    # seen_items = set(train_split[1, train_split[0] == user].tolist())\n",
    "                    # unseen_items = torch.LongTensor(list(items.difference(seen_items)))\n",
    "                    # rec = model.recommend(data_mp['edge_index'], user, torch.tensor(list(items)), k=k)\n",
    "                    # true_items = batch[1, batch[0] == user].cpu()\n",
    "\n",
    "                recall_batch = []\n",
    "                for u, rec in zip(users, recoms):\n",
    "                    true_items = batch[1, batch[0] == u].cpu()\n",
    "                    hits = len(np.intersect1d(rec.cpu(), true_items))\n",
    "                    recall = hits / len(true_items)\n",
    "                    recall_batch.append(recall)\n",
    "                    recall_all.append(recall)\n",
    "\n",
    "                self.writer.add_scalar(\"Recall/valid\", np.mean(recall_batch), global_step=self.global_val_step)\n",
    "                self.global_val_step += 1\n",
    "\n",
    "        print(f'Valid avg recall = {np.mean(recall_all).round(4)}')"
   ],
   "metadata": {
    "collapsed": false,
    "pycharm": {
     "name": "#%%\n"
    }
   }
  },
  {
   "cell_type": "code",
   "execution_count": 2,
   "outputs": [],
   "source": [
    "%load_ext tensorboard"
   ],
   "metadata": {
    "collapsed": false,
    "pycharm": {
     "name": "#%%\n"
    }
   }
  },
  {
   "cell_type": "code",
   "execution_count": 3,
   "outputs": [
    {
     "data": {
      "text/plain": "Launching TensorBoard..."
     },
     "metadata": {},
     "output_type": "display_data"
    }
   ],
   "source": [
    "%tensorboard --logdir logs/"
   ],
   "metadata": {
    "collapsed": false,
    "pycharm": {
     "name": "#%%\n"
    }
   }
  },
  {
   "cell_type": "markdown",
   "source": [
    "# twin-LGCN-U/E"
   ],
   "metadata": {
    "collapsed": false,
    "pycharm": {
     "name": "#%% md\n"
    }
   }
  },
  {
   "cell_type": "code",
   "execution_count": 7,
   "outputs": [],
   "source": [
    "from torch_geometric.nn import MessagePassing\n",
    "# from torch_geometric import utils\n",
    "from torch_geometric.utils import degree, negative_sampling"
   ],
   "metadata": {
    "collapsed": false,
    "pycharm": {
     "name": "#%%\n"
    }
   }
  },
  {
   "cell_type": "raw",
   "source": [
    "graph = Data(U, dense_to_sparse(R)[0])"
   ],
   "metadata": {
    "collapsed": false
   }
  },
  {
   "cell_type": "code",
   "execution_count": 6,
   "outputs": [],
   "source": [
    "class SimpleProp(MessagePassing):\n",
    "    def __init__(self, **kwargs):\n",
    "        super().__init__(**kwargs)\n",
    "\n",
    "    def forward(self, x, edge_index, size):\n",
    "        return self.propagate(edge_index, x=x, size=size)\n",
    "\n",
    "    def message(self, x_j):\n",
    "        return x_j"
   ],
   "metadata": {
    "collapsed": false,
    "pycharm": {
     "name": "#%%\n"
    }
   }
  },
  {
   "cell_type": "code",
   "execution_count": 564,
   "outputs": [],
   "source": [
    "class LGCN_U(torch.nn.Module):\n",
    "    def __init__(self, n_users, emb_dim, normalize=False, **kwargs):\n",
    "        super().__init__()\n",
    "        self.m = n_users\n",
    "        self.normalize = normalize\n",
    "        self.U_0 = torch.nn.Embedding(self.m, emb_dim)\n",
    "        self.layer_1 = SimpleProp(**kwargs)  # E_1 = R.T @ U\n",
    "        self.layer_2 = SimpleProp(**kwargs)  # U_2 = R @ E_1\n",
    "        self.layer_3 = SimpleProp(**kwargs)  # E_3 = R @ U_2\n",
    "\n",
    "    def get_embeddings(self):\n",
    "        # \"\"\"\n",
    "        # Return final fused embeddings of user and items: U, E.\n",
    "        # TODO: add possibility to pass different aggregation function for fusing\n",
    "        # embeddings from different layers/nets.\n",
    "        # \"\"\"\n",
    "        # E = self.E_1 + self.E_3\n",
    "        # U = self.U_0 + self.U_2\n",
    "        # return U, E\n",
    "        pass\n",
    "\n",
    "    def forward(self, edge_index, n=None):\n",
    "        \"\"\"Propagate messages through the graph and return fused final embeddings of users ans items: U, E\"\"\"\n",
    "        if n is None:\n",
    "            n = edge_index[1].max().item() + 1\n",
    "        m = self.m\n",
    "\n",
    "        if self.normalize:\n",
    "            inv_sqrt_user_degrees = degree(edge_index[0]).pow(-0.5)\n",
    "            inv_sqrt_item_degrees = degree(edge_index[1]).pow(-0.5)\n",
    "            # inv_norm = inv_sqrt_user_degrees * inv_sqrt_item_degrees\n",
    "        else:\n",
    "            inv_sqrt_item_degrees = 1\n",
    "            inv_sqrt_user_degrees = 1\n",
    "\n",
    "        E_1 = self.layer_1.forward(self.U_0.weight, edge_index=edge_index, size=(m, n)) * inv_sqrt_item_degrees.view(-1, 1)\n",
    "        U_2 = self.layer_2.forward(E_1, edge_index[[1, 0], :], size=(n, m)) * inv_sqrt_user_degrees.view(-1, 1)\n",
    "        E_3 = self.layer_3.forward(U_2, edge_index, size=(m, n)) * inv_sqrt_item_degrees.view(-1, 1)\n",
    "\n",
    "        E = E_1 + E_3\n",
    "        U = self.U_0.weight + U_2\n",
    "        return U, E\n",
    "\n",
    "    def predict(self, edges_index, new_edges_index=None, n_items=None):\n",
    "        \"\"\"\n",
    "        Predict scores of given pairs of (user, item) with learned user's embeddings.\n",
    "        Might be used in inductive mode if new_edges_index is passed.\n",
    "        \"\"\"\n",
    "        # From paper:\n",
    "        # \"Let R𝐼 denote new user-item interaction graph such that new items (i.e. new columns) are also appended\"\n",
    "        if new_edges_index is not None:\n",
    "            edges_index = torch.cat([edges_index, new_edges_index], dim=1)\n",
    "\n",
    "        U, E = self.forward(edges_index, n_items)\n",
    "        src = U[edges_index[0]]\n",
    "        dst = E[edges_index[1]]\n",
    "        return (src * dst).sum(dim=-1)\n",
    "\n",
    "    def recommend_top_k(self):\n",
    "        pass"
   ],
   "metadata": {
    "collapsed": false,
    "pycharm": {
     "name": "#%%\n"
    }
   }
  },
  {
   "cell_type": "code",
   "execution_count": 187,
   "outputs": [
    {
     "data": {
      "text/plain": "tensor([[1, 1, 0, 0],\n        [0, 0, 1, 0],\n        [1, 0, 0, 0]])"
     },
     "execution_count": 187,
     "metadata": {},
     "output_type": "execute_result"
    }
   ],
   "source": [
    "# R = torch.randint(2, (3,4))\n",
    "R"
   ],
   "metadata": {
    "collapsed": false,
    "pycharm": {
     "name": "#%%\n"
    }
   }
  },
  {
   "cell_type": "markdown",
   "source": [
    "### Pipeline (sanity check)"
   ],
   "metadata": {
    "collapsed": false
   }
  },
  {
   "cell_type": "code",
   "execution_count": 246,
   "outputs": [
    {
     "data": {
      "text/plain": "tensor([[0, 0, 1, 2],\n        [0, 1, 2, 0]])"
     },
     "execution_count": 246,
     "metadata": {},
     "output_type": "execute_result"
    }
   ],
   "source": [
    "pos_edges = torch.nonzero(R).T\n",
    "pos_edges"
   ],
   "metadata": {
    "collapsed": false,
    "pycharm": {
     "name": "#%%\n"
    }
   }
  },
  {
   "cell_type": "code",
   "execution_count": 247,
   "outputs": [
    {
     "data": {
      "text/plain": "tensor([[0, 1, 2, 1],\n        [2, 0, 2, 3]])"
     },
     "execution_count": 247,
     "metadata": {},
     "output_type": "execute_result"
    }
   ],
   "source": [
    "neg_edges = utils.negative_sampling(pos_edges, num_nodes=(3, 4))\n",
    "neg_edges"
   ],
   "metadata": {
    "collapsed": false,
    "pycharm": {
     "name": "#%%\n"
    }
   }
  },
  {
   "cell_type": "code",
   "execution_count": 340,
   "outputs": [],
   "source": [
    "model = LGCN_U(n_users=3, emb_dim=3)\n",
    "opt = torch.optim.Adam(model.parameters(), lr=3e-2)\n",
    "metrics = []"
   ],
   "metadata": {
    "collapsed": false,
    "pycharm": {
     "name": "#%%\n"
    }
   }
  },
  {
   "cell_type": "code",
   "execution_count": 351,
   "outputs": [
    {
     "name": "stdout",
     "output_type": "stream",
     "text": [
      "0.24593006074428558\n"
     ]
    },
    {
     "data": {
      "text/plain": "<Figure size 432x288 with 1 Axes>",
      "image/png": "[encoded data removed]"
     },
     "metadata": {
      "image/png": {
       "width": 375,
       "height": 248
      },
      "needs_background": "light"
     },
     "output_type": "display_data"
    }
   ],
   "source": [
    "for i in range(10):\n",
    "    opt.zero_grad()\n",
    "    neg_edges = negative_sampling(pos_edges, num_nodes=(3, 4))\n",
    "    pos_scores = model.predict(edges_index=pos_edges, n_items=4)\n",
    "    neg_scores = model.predict(edges_index=neg_edges, n_items=4)\n",
    "\n",
    "    loss = torch.mean(F.softplus(neg_scores - pos_scores))\n",
    "    # print(loss.item())\n",
    "    loss.backward()\n",
    "    opt.step()\n",
    "    metrics.append(loss.item())\n",
    "print(metrics[-1])\n",
    "plt.plot(metrics)\n",
    "plt.show()"
   ],
   "metadata": {
    "collapsed": false,
    "pycharm": {
     "name": "#%%\n"
    }
   }
  },
  {
   "cell_type": "code",
   "execution_count": 109,
   "outputs": [],
   "source": [
    "from sklearn.metrics.pairwise import cosine_similarity"
   ],
   "metadata": {
    "collapsed": false,
    "pycharm": {
     "name": "#%%\n"
    }
   }
  },
  {
   "cell_type": "code",
   "execution_count": 344,
   "outputs": [
    {
     "data": {
      "text/plain": "tensor([[1, 1, 0, 0],\n        [0, 0, 1, 0],\n        [1, 0, 0, 0]])"
     },
     "execution_count": 344,
     "metadata": {},
     "output_type": "execute_result"
    }
   ],
   "source": [
    "R"
   ],
   "metadata": {
    "collapsed": false,
    "pycharm": {
     "name": "#%%\n"
    }
   }
  },
  {
   "cell_type": "code",
   "execution_count": 352,
   "outputs": [
    {
     "data": {
      "text/plain": "array([[ 1.       , -0.7746767,  0.8162699],\n       [-0.7746767,  1.       , -0.933676 ],\n       [ 0.8162699, -0.933676 ,  0.9999999]], dtype=float32)"
     },
     "execution_count": 352,
     "metadata": {},
     "output_type": "execute_result"
    }
   ],
   "source": [
    "cosine_similarity(model.forward(edge_index=pos_edges, n=4)[0].data.numpy())"
   ],
   "metadata": {
    "collapsed": false,
    "pycharm": {
     "name": "#%%\n"
    }
   }
  },
  {
   "cell_type": "code",
   "execution_count": 353,
   "outputs": [
    {
     "data": {
      "text/plain": "tensor([[1., 1., 0.],\n        [1., 1., 0.],\n        [0., 0., 1.]])"
     },
     "execution_count": 353,
     "metadata": {},
     "output_type": "execute_result"
    }
   ],
   "source": [
    "new_R = torch.Tensor([[1, 1, 0], [1, 1, 0], [0, 0, 1]])\n",
    "new_R"
   ],
   "metadata": {
    "collapsed": false,
    "pycharm": {
     "name": "#%%\n"
    }
   }
  },
  {
   "cell_type": "code",
   "execution_count": 354,
   "outputs": [
    {
     "data": {
      "text/plain": "tensor([[0, 0, 1, 1, 2],\n        [4, 5, 4, 5, 6]])"
     },
     "execution_count": 354,
     "metadata": {},
     "output_type": "execute_result"
    }
   ],
   "source": [
    "new_edges = torch.nonzero(new_R).T\n",
    "new_edges[1] += 4\n",
    "new_edges"
   ],
   "metadata": {
    "collapsed": false,
    "pycharm": {
     "name": "#%%\n"
    }
   }
  },
  {
   "cell_type": "code",
   "execution_count": 355,
   "outputs": [
    {
     "data": {
      "text/plain": "array([[ 0.9999999 ,  0.09845882,  0.4470191 ],\n       [ 0.09845882,  0.9999999 , -0.77198714],\n       [ 0.4470191 , -0.77198714,  0.9999999 ]], dtype=float32)"
     },
     "execution_count": 355,
     "metadata": {},
     "output_type": "execute_result"
    }
   ],
   "source": [
    "cosine_similarity(model.forward(torch.cat([pos_edges, new_edges], dim=1), 7)[0].detach().numpy())"
   ],
   "metadata": {
    "collapsed": false,
    "pycharm": {
     "name": "#%%\n"
    }
   }
  },
  {
   "cell_type": "code",
   "execution_count": 356,
   "outputs": [],
   "source": [
    "_U, _E = model.forward(torch.cat([pos_edges, new_edges], dim=1), 7)"
   ],
   "metadata": {
    "collapsed": false,
    "pycharm": {
     "name": "#%%\n"
    }
   }
  },
  {
   "cell_type": "code",
   "execution_count": 361,
   "outputs": [
    {
     "data": {
      "text/plain": "tensor([[1., 1., 0., 0., 1., 1., 0.],\n        [0., 0., 1., 0., 1., 1., 0.],\n        [1., 0., 0., 0., 0., 0., 1.]])"
     },
     "execution_count": 361,
     "metadata": {},
     "output_type": "execute_result"
    }
   ],
   "source": [
    "torch.cat([R, new_R], dim=1)"
   ],
   "metadata": {
    "collapsed": false,
    "pycharm": {
     "name": "#%%\n"
    }
   }
  },
  {
   "cell_type": "code",
   "execution_count": 359,
   "outputs": [
    {
     "data": {
      "text/plain": "tensor([[ 7.1969,  5.7982,  0.3556,  0.0000,  6.1539,  6.1539,  1.3987],\n        [-1.1491,  0.3556,  2.2500,  0.0000,  2.6057,  2.6057, -1.5047],\n        [ 3.0872,  1.3987, -1.5047,  0.0000, -0.1060, -0.1060,  1.6885]],\n       grad_fn=<MmBackward0>)"
     },
     "execution_count": 359,
     "metadata": {},
     "output_type": "execute_result"
    }
   ],
   "source": [
    "_U @ _E.T"
   ],
   "metadata": {
    "collapsed": false,
    "pycharm": {
     "name": "#%%\n"
    }
   }
  },
  {
   "cell_type": "markdown",
   "source": [
    "### MovieLens"
   ],
   "metadata": {
    "collapsed": false,
    "pycharm": {
     "name": "#%% md\n"
    }
   }
  },
  {
   "cell_type": "code",
   "execution_count": 362,
   "outputs": [],
   "source": [
    "from sklearn.model_selection import train_test_split"
   ],
   "metadata": {
    "collapsed": false,
    "pycharm": {
     "name": "#%%\n"
    }
   }
  },
  {
   "cell_type": "code",
   "execution_count": 389,
   "outputs": [],
   "source": [
    "class MovieLens:\n",
    "    def __init__(self, path, nrows=None):\n",
    "        df = pd.read_table(path, header=None, nrows=nrows)\n",
    "        df.columns = ['user_id', 'item_id', 'rating', 'timestamp']\n",
    "        df['timestamp'] = pd.to_datetime(df['timestamp'], unit='s')\n",
    "        df['user_id'] -= 1\n",
    "        df['item_id'] -= 1\n",
    "        # df = df[df['rating'] >= 4]\n",
    "        df['rating'] = 1\n",
    "        self.df = df\n",
    "\n",
    "    def train_test_split(self, test_ratio=0.25, observed_ratio=0.5):\n",
    "        df = self.df\n",
    "        all_users = self.df['user_id'].unique()\n",
    "        test_size = int(len(all_users) * test_ratio)\n",
    "\n",
    "        # Формируем выборку пользователей для теста\n",
    "        test_users = np.random.choice(a=all_users, size=test_size, replace=False)\n",
    "        df_train = df[~df['user_id'].isin(test_users)]\n",
    "        df_test = df[df['user_id'].isin(test_users)]\n",
    "        df_test = df_test[df_test['item_id'].isin(df_train['item_id'].unique())]\n",
    "\n",
    "        # Энкодим айдишники айтемов\n",
    "        encoder = LabelEncoder()\n",
    "        df_train['user_id'] = encoder.fit_transform(df_train['user_id'])\n",
    "        df_train['item_id'] = encoder.fit_transform(df_train['item_id'])\n",
    "        df_test['item_id'] = encoder.transform(df_test['item_id'])\n",
    "\n",
    "        # Делим интеракции новых пользователей на виденные и будущие\n",
    "        test_observed, test_future = train_test_split(df_test, test_size=1-observed_ratio, random_state=42)\n",
    "        test_future = test_future[test_future['user_id'].isin(test_observed['user_id'].unique())]\n",
    "        test_observed['user_id'] = encoder.fit_transform(test_observed['user_id'])\n",
    "        test_future['user_id'] = encoder.transform(test_future['user_id'])\n",
    "\n",
    "        self.train = df_train\n",
    "        self.test_observed = test_observed\n",
    "        self.test_future = test_future\n",
    "        self.n_items = df_train['item_id'].nunique()"
   ],
   "metadata": {
    "collapsed": false,
    "pycharm": {
     "name": "#%%\n"
    }
   }
  },
  {
   "cell_type": "code",
   "execution_count": 629,
   "outputs": [
    {
     "data": {
      "text/plain": "(100000, 4)"
     },
     "execution_count": 629,
     "metadata": {},
     "output_type": "execute_result"
    }
   ],
   "source": [
    "np.random.seed(42)\n",
    "mov = MovieLens('ml-100k/u.data')\n",
    "mov.df.shape"
   ],
   "metadata": {
    "collapsed": false,
    "pycharm": {
     "name": "#%%\n"
    }
   }
  },
  {
   "cell_type": "code",
   "execution_count": 828,
   "outputs": [
    {
     "name": "stderr",
     "output_type": "stream",
     "text": [
      "/var/folders/p_/sddndwcs6m30b1tfj2cy1ys40000gn/T/ipykernel_21399/2064340322.py:25: SettingWithCopyWarning: \n",
      "A value is trying to be set on a copy of a slice from a DataFrame.\n",
      "Try using .loc[row_indexer,col_indexer] = value instead\n",
      "\n",
      "See the caveats in the documentation: https://pandas.pydata.org/pandas-docs/stable/user_guide/indexing.html#returning-a-view-versus-a-copy\n",
      "  df_train['user_id'] = encoder.fit_transform(df_train['user_id'])\n",
      "/var/folders/p_/sddndwcs6m30b1tfj2cy1ys40000gn/T/ipykernel_21399/2064340322.py:26: SettingWithCopyWarning: \n",
      "A value is trying to be set on a copy of a slice from a DataFrame.\n",
      "Try using .loc[row_indexer,col_indexer] = value instead\n",
      "\n",
      "See the caveats in the documentation: https://pandas.pydata.org/pandas-docs/stable/user_guide/indexing.html#returning-a-view-versus-a-copy\n",
      "  df_train['item_id'] = encoder.fit_transform(df_train['item_id'])\n"
     ]
    }
   ],
   "source": [
    "mov.train_test_split(test_ratio=0.3, observed_ratio=0.1)"
   ],
   "metadata": {
    "collapsed": false,
    "pycharm": {
     "name": "#%%\n"
    }
   }
  },
  {
   "cell_type": "code",
   "execution_count": 829,
   "outputs": [
    {
     "data": {
      "text/plain": "user_id        661\nitem_id       1641\nrating           1\ntimestamp    33933\ndtype: int64"
     },
     "execution_count": 829,
     "metadata": {},
     "output_type": "execute_result"
    }
   ],
   "source": [
    "mov.train.nunique()"
   ],
   "metadata": {
    "collapsed": false,
    "pycharm": {
     "name": "#%%\n"
    }
   }
  },
  {
   "cell_type": "code",
   "execution_count": 830,
   "outputs": [
    {
     "data": {
      "text/plain": "user_id       272\nitem_id       931\nrating          1\ntimestamp    2879\ndtype: int64"
     },
     "execution_count": 830,
     "metadata": {},
     "output_type": "execute_result"
    }
   ],
   "source": [
    "mov.test_observed.nunique()"
   ],
   "metadata": {
    "collapsed": false,
    "pycharm": {
     "name": "#%%\n"
    }
   }
  },
  {
   "cell_type": "code",
   "execution_count": 831,
   "outputs": [
    {
     "data": {
      "text/plain": "user_id        272\nitem_id       1432\nrating           1\ntimestamp    14507\ndtype: int64"
     },
     "execution_count": 831,
     "metadata": {},
     "output_type": "execute_result"
    }
   ],
   "source": [
    "mov.test_future.nunique()"
   ],
   "metadata": {
    "collapsed": false,
    "pycharm": {
     "name": "#%%\n"
    }
   }
  },
  {
   "cell_type": "code",
   "execution_count": 832,
   "outputs": [
    {
     "data": {
      "text/plain": "tensor([[241, 301, 345,  ..., 203, 224, 202],\n        [135, 127, 113,  ..., 509,   7,   6]])"
     },
     "execution_count": 832,
     "metadata": {},
     "output_type": "execute_result"
    }
   ],
   "source": [
    "pos_edges = torch.LongTensor(mov.train[['item_id', 'user_id']].values.T)\n",
    "pos_edges"
   ],
   "metadata": {
    "collapsed": false,
    "pycharm": {
     "name": "#%%\n"
    }
   }
  },
  {
   "cell_type": "code",
   "execution_count": 833,
   "outputs": [
    {
     "data": {
      "text/plain": "(1641, 661)"
     },
     "execution_count": 833,
     "metadata": {},
     "output_type": "execute_result"
    }
   ],
   "source": [
    "len(pos_edges[0].unique()), len(pos_edges[1].unique())"
   ],
   "metadata": {
    "collapsed": false,
    "pycharm": {
     "name": "#%%\n"
    }
   }
  },
  {
   "cell_type": "code",
   "source": [
    "model = LGCN_U(n_users=mov.train['item_id'].nunique(), emb_dim=32, normalize=True)\n",
    "opt = torch.optim.Adam(model.parameters(), lr=1e-3)\n",
    "metrics = []\n",
    "# neg_edges = utils.negative_sampling(pos_edges, num_nodes=(model.m, 661))"
   ],
   "metadata": {
    "collapsed": false,
    "pycharm": {
     "name": "#%%\n"
    }
   },
   "execution_count": 969,
   "outputs": []
  },
  {
   "cell_type": "code",
   "execution_count": 970,
   "outputs": [],
   "source": [
    "# opt = torch.optim.Adam(model.parameters(), lr=1e-4)"
   ],
   "metadata": {
    "collapsed": false,
    "pycharm": {
     "name": "#%%\n"
    }
   }
  },
  {
   "cell_type": "code",
   "execution_count": 971,
   "outputs": [
    {
     "name": "stdout",
     "output_type": "stream",
     "text": [
      "2.3282928466796875\n",
      "2.3282928466796875\n"
     ]
    },
    {
     "data": {
      "text/plain": "<Figure size 432x288 with 1 Axes>",
      "image/png": "[encoded data removed]"
     },
     "metadata": {
      "image/png": {
       "width": 378,
       "height": 248
      },
      "needs_background": "light"
     },
     "output_type": "display_data"
    }
   ],
   "source": [
    "for i in range(1):\n",
    "    opt.zero_grad()\n",
    "    neg_edges = negative_sampling(pos_edges, num_nodes=(model.m, 661))\n",
    "    pos_scores = model.predict(edges_index=pos_edges, n_items=661)\n",
    "    neg_scores = model.predict(edges_index=neg_edges, n_items=661)\n",
    "\n",
    "    loss = torch.mean(F.softplus(neg_scores - pos_scores))\n",
    "    if i % 3 == 0:\n",
    "        print(loss.item())\n",
    "    loss.backward()\n",
    "    opt.step()\n",
    "    metrics.append(loss.item())\n",
    "\n",
    "print(metrics[-1])\n",
    "plt.plot(metrics[:])\n",
    "plt.show()"
   ],
   "metadata": {
    "collapsed": false,
    "pycharm": {
     "name": "#%%\n"
    }
   }
  },
  {
   "cell_type": "code",
   "execution_count": 954,
   "outputs": [
    {
     "data": {
      "text/plain": "(tensor([  0, 661]), tensor([1626,  932]))"
     },
     "execution_count": 954,
     "metadata": {},
     "output_type": "execute_result"
    }
   ],
   "source": [
    "test_observed_edges = torch.LongTensor(mov.test_observed[['item_id', 'user_id']].values.T)\n",
    "test_observed_edges[1] += 661\n",
    "test_observed_edges.min(dim=1).values, test_observed_edges.max(dim=1).values"
   ],
   "metadata": {
    "collapsed": false,
    "pycharm": {
     "name": "#%%\n"
    }
   }
  },
  {
   "cell_type": "code",
   "execution_count": 972,
   "outputs": [
    {
     "data": {
      "text/plain": "(torch.Size([1641, 32]), torch.Size([933, 32]))"
     },
     "execution_count": 972,
     "metadata": {},
     "output_type": "execute_result"
    }
   ],
   "source": [
    "with torch.no_grad():\n",
    "    _U, _E = model.forward(torch.cat([pos_edges, test_observed_edges], dim=1), n=933)\n",
    "_U.shape, _E.shape"
   ],
   "metadata": {
    "collapsed": false,
    "pycharm": {
     "name": "#%%\n"
    }
   }
  },
  {
   "cell_type": "code",
   "execution_count": 973,
   "outputs": [
    {
     "data": {
      "text/plain": "tensor([-0.0530, -2.4230,  1.6562,  1.6281, -4.6692,  1.5376,  5.6367, -1.8093,\n         3.4892,  0.9444,  3.5041, -7.1271, 13.0829, -5.4995,  4.1230, -8.0553,\n        10.0204, -5.4567, -8.4693, -1.3400,  9.0556, -1.0283,  3.8271,  1.8804,\n         4.5268, -4.6778, -2.4056, 12.7897, -8.0574, -3.2403,  8.2759,  6.7889])"
     },
     "execution_count": 973,
     "metadata": {},
     "output_type": "execute_result"
    }
   ],
   "source": [
    "_U[1]"
   ],
   "metadata": {
    "collapsed": false,
    "pycharm": {
     "name": "#%%\n"
    }
   }
  },
  {
   "cell_type": "code",
   "execution_count": 974,
   "outputs": [],
   "source": [
    "# new_scores = _E[661:] @ _U.T\n",
    "# new_scores.shape"
   ],
   "metadata": {
    "collapsed": false,
    "pycharm": {
     "name": "#%%\n"
    }
   }
  },
  {
   "cell_type": "code",
   "execution_count": 975,
   "outputs": [
    {
     "data": {
      "text/plain": "torch.Size([272, 1641])"
     },
     "execution_count": 975,
     "metadata": {},
     "output_type": "execute_result"
    }
   ],
   "source": [
    "new_scores = _E @ _U.T\n",
    "new_scores[test_observed_edges[1], test_observed_edges[0]] = -1e5  # exclude seen items\n",
    "new_scores = new_scores[661:]\n",
    "new_scores.shape"
   ],
   "metadata": {
    "collapsed": false,
    "pycharm": {
     "name": "#%%\n"
    }
   }
  },
  {
   "cell_type": "code",
   "execution_count": 976,
   "outputs": [
    {
     "data": {
      "text/plain": "array([[ 49,  99, 180, ..., 150, 237, 653],\n       [ 49, 180,  99, ..., 356, 745, 227],\n       [ 49, 180,  99, ..., 179, 167, 150],\n       ...,\n       [ 49, 180,  99, ..., 150,  70, 653],\n       [ 49, 180,  99, ..., 237, 653, 179],\n       [180,  99, 257, ..., 181, 237, 134]])"
     },
     "execution_count": 976,
     "metadata": {},
     "output_type": "execute_result"
    }
   ],
   "source": [
    "recs = new_scores.topk(50, dim=1).indices.numpy()\n",
    "recs"
   ],
   "metadata": {
    "collapsed": false,
    "pycharm": {
     "name": "#%%\n"
    }
   }
  },
  {
   "cell_type": "code",
   "execution_count": 977,
   "outputs": [
    {
     "name": "stdout",
     "output_type": "stream",
     "text": [
      "===== LGCN-E =====\n",
      "Precsion = 0.38963\n",
      "Recall = 0.23034\n"
     ]
    }
   ],
   "source": [
    "y_true = mov.test_future.groupby('user_id')['item_id'].unique().values\n",
    "print('===== LGCN-E =====')\n",
    "print(f'Precsion = {precision_at_k(recs, y_true).round(5)}')\n",
    "print(f'Recall = {recall_at_k(recs, y_true).round(5)}')"
   ],
   "metadata": {
    "collapsed": false,
    "pycharm": {
     "name": "#%%\n"
    }
   }
  },
  {
   "cell_type": "code",
   "execution_count": 825,
   "outputs": [
    {
     "data": {
      "text/plain": "31.5"
     },
     "execution_count": 825,
     "metadata": {},
     "output_type": "execute_result"
    }
   ],
   "source": [
    "mov.test_observed.groupby('user_id')['item_id'].count().median()"
   ],
   "metadata": {
    "collapsed": false,
    "pycharm": {
     "name": "#%%\n"
    }
   }
  },
  {
   "cell_type": "code",
   "execution_count": 824,
   "outputs": [
    {
     "data": {
      "text/plain": "33.0"
     },
     "execution_count": 824,
     "metadata": {},
     "output_type": "execute_result"
    }
   ],
   "source": [
    "mov.test_future.groupby('user_id')['item_id'].count().median()"
   ],
   "metadata": {
    "collapsed": false,
    "pycharm": {
     "name": "#%%\n"
    }
   }
  },
  {
   "cell_type": "code",
   "execution_count": 671,
   "outputs": [
    {
     "data": {
      "text/plain": "0.07564296520423601"
     },
     "execution_count": 671,
     "metadata": {},
     "output_type": "execute_result"
    }
   ],
   "source": [
    "50 / mov.train['user_id'].nunique()"
   ],
   "metadata": {
    "collapsed": false,
    "pycharm": {
     "name": "#%%\n"
    }
   }
  },
  {
   "cell_type": "code",
   "execution_count": null,
   "outputs": [],
   "source": [],
   "metadata": {
    "collapsed": false,
    "pycharm": {
     "name": "#%%\n"
    }
   }
  },
  {
   "cell_type": "markdown",
   "source": [
    "# LGCN-IDE"
   ],
   "metadata": {
    "collapsed": false
   }
  },
  {
   "cell_type": "code",
   "execution_count": null,
   "outputs": [],
   "source": [
    "class LGCN_IDE(object):\n",
    "    def __init__(self, adj_mat):\n",
    "        self.adj_mat = adj_mat\n",
    "\n",
    "    def train(self, threshold: int):\n",
    "        adj_mat = self.adj_mat[:threshold]\n",
    "        rowsum = np.array(adj_mat.sum(axis=1))\n",
    "        d_inv = np.power(rowsum, -0.5).flatten()\n",
    "        d_inv[np.isinf(d_inv)] = 0.\n",
    "        d_mat = sp.diags(d_inv)\n",
    "        d_mat_i = d_mat\n",
    "        norm_adj = d_mat.dot(adj_mat)\n",
    "\n",
    "        colsum = np.array(adj_mat.sum(axis=0))\n",
    "        d_inv = np.power(colsum, -0.5).flatten()\n",
    "        d_inv[np.isinf(d_inv)] = 0.\n",
    "        d_mat = sp.diags(d_inv)\n",
    "        d_mat_u = d_mat\n",
    "        d_mat_u_inv = sp.diags(1/d_inv)\n",
    "        norm_adj = norm_adj.dot(d_mat)\n",
    "        self.norm_adj = norm_adj.tocsr()\n",
    "\n",
    "    def getUsersRating(self, batch_users, ds_name):\n",
    "        norm_adj = self.norm_adj\n",
    "        batch_test = np.array(norm_adj[batch_users,:].todense())\n",
    "        U_1 = batch_test @ norm_adj.T @ norm_adj\n",
    "        if(ds_name == 'gowalla'):\n",
    "            U_2 = U_1 @ norm_adj.T @ norm_adj\n",
    "            return U_2\n",
    "        else:\n",
    "            return U_1"
   ],
   "metadata": {
    "collapsed": false,
    "pycharm": {
     "name": "#%%\n"
    }
   }
  }
 ],
 "metadata": {
  "kernelspec": {
   "display_name": "Python 3",
   "language": "python",
   "name": "python3"
  },
  "language_info": {
   "codemirror_mode": {
    "name": "ipython",
    "version": 2
   },
   "file_extension": ".py",
   "mimetype": "text/x-python",
   "name": "python",
   "nbconvert_exporter": "python",
   "pygments_lexer": "ipython2",
   "version": "2.7.6"
  }
 },
 "nbformat": 4,
 "nbformat_minor": 0
}