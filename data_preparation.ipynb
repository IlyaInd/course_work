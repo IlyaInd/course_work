{
 "cells": [
  {
   "cell_type": "code",
   "execution_count": 173,
   "metadata": {},
   "outputs": [],
   "source": [
    "from abc import ABC, abstractmethod\n",
    "import pandas as pd\n",
    "import numpy as np\n",
    "from sklearn.preprocessing import LabelEncoder\n",
    "import matplotlib.pyplot as plt\n",
    "import scipy.sparse as sp\n",
    "from tqdm.notebook import tqdm\n",
    "import json\n",
    "%config InlineBackend.figure_format='retina'"
   ]
  },
  {
   "cell_type": "markdown",
   "metadata": {
    "pycharm": {
     "name": "#%% md\n"
    }
   },
   "source": [
    "### Список датасетов\n",
    " - Gowalla\n",
    " - Yelp2018\n",
    " - Amazon-book"
   ]
  },
  {
   "cell_type": "code",
   "execution_count": 2,
   "metadata": {
    "pycharm": {
     "name": "#%%\n"
    }
   },
   "outputs": [],
   "source": [
    "class Dataset(ABC):\n",
    "    def __init__(self, ratings_filename, metadata_filename=None):\n",
    "        self.ratings_filename = ratings_filename\n",
    "        self.metadata_filename = metadata_filename\n",
    "        self.df = None\n",
    "\n",
    "    @staticmethod\n",
    "    def _parse_json(filename, nrows):\n",
    "        # pd.read_json('Musical_Instruments_5.json', nrows=10, chunksize=None, lines=True)\n",
    "        data = []\n",
    "        with open(filename) as json_file:\n",
    "            while len(data) < nrows:\n",
    "                data.append(json.loads(next(json_file)))\n",
    "        return data\n",
    "\n",
    "    @abstractmethod\n",
    "    def load_dataset(self, nrows):\n",
    "        pass\n",
    "\n",
    "    # @abstractmethod\n",
    "    def cold_start_type_split(self):\n",
    "        pass\n",
    "\n",
    "    # @abstractmethod\n",
    "    def train_test_split(self):\n",
    "        pass\n",
    "\n",
    "    # @abstractmethod\n",
    "    def build_sparse_interaction_matrix(self) -> sp.csr_matrix:\n",
    "        pass\n",
    "\n",
    "\n",
    "class AmazonDataset(Dataset):\n",
    "    def load_rating_dataset(self, nrows):\n",
    "        df = pd.read_csv('ratings_Movies_and_TV.csv', nrows=nrows, header=None, dtype={3:int})\n",
    "        df[3] = pd.to_datetime(df[3], unit='s')\n",
    "        df.columns = [\"user\", \"item\", \"rating\", \"timestamp\"]\n",
    "        self.df = df\n",
    "        return df\n",
    "\n",
    "    def load_dataset(self, nrows):\n",
    "        return self._parse_json(self.ratings_filename, nrows)\n",
    "\n",
    "    def load_metadata(self, nrows):\n",
    "        return self._parse_json(self.metadata_filename, nrows)"
   ]
  },
  {
   "cell_type": "code",
   "execution_count": 3,
   "metadata": {
    "pycharm": {
     "name": "#%%\n"
    }
   },
   "outputs": [],
   "source": [
    "amazon = AmazonDataset('Musical_Instruments_5.json', 'meta_Appliances.json')\n",
    "df = amazon.load_dataset(3)"
   ]
  },
  {
   "cell_type": "code",
   "execution_count": 4,
   "metadata": {
    "pycharm": {
     "name": "#%%\n"
    }
   },
   "outputs": [
    {
     "data": {
      "text/plain": [
       "{'category': ['Appliances', 'Parts &amp; Accessories'],\n",
       " 'tech1': '',\n",
       " 'description': [],\n",
       " 'fit': '',\n",
       " 'title': 'The Cigar - Moments of Pleasure',\n",
       " 'also_buy': [],\n",
       " 'tech2': '',\n",
       " 'brand': 'The Cigar Book',\n",
       " 'feature': [],\n",
       " 'rank': ['>#1,861,816 in Home &amp; Kitchen (See Top 100 in Home &amp; Kitchen)',\n",
       "  '>#79,974 in Tools &amp; Home Improvement &gt; Appliances &gt; Large Appliance Accessories'],\n",
       " 'also_view': ['B01HCAVSLK', '1632206579'],\n",
       " 'details': {},\n",
       " 'main_cat': 'Amazon Home',\n",
       " 'similar_item': '',\n",
       " 'date': '',\n",
       " 'price': '$150.26',\n",
       " 'asin': '8792559360',\n",
       " 'imageURL': ['https://images-na.ssl-images-amazon.com/images/I/41zzM-k9bdL._SS40_.jpg',\n",
       "  'https://images-na.ssl-images-amazon.com/images/I/51IEoSRcvyL._SS40_.jpg',\n",
       "  'https://images-na.ssl-images-amazon.com/images/I/41WubC4aJbL._SS40_.jpg',\n",
       "  'https://images-na.ssl-images-amazon.com/images/I/41fOInFBIjL._SS40_.jpg',\n",
       "  'https://images-na.ssl-images-amazon.com/images/I/41NF4UI2KGL._SS40_.jpg',\n",
       "  'https://images-na.ssl-images-amazon.com/images/I/41XKmxpyRkL._SS40_.jpg'],\n",
       " 'imageURLHighRes': ['https://images-na.ssl-images-amazon.com/images/I/41zzM-k9bdL.jpg',\n",
       "  'https://images-na.ssl-images-amazon.com/images/I/51IEoSRcvyL.jpg',\n",
       "  'https://images-na.ssl-images-amazon.com/images/I/41WubC4aJbL.jpg',\n",
       "  'https://images-na.ssl-images-amazon.com/images/I/41fOInFBIjL.jpg',\n",
       "  'https://images-na.ssl-images-amazon.com/images/I/41NF4UI2KGL.jpg',\n",
       "  'https://images-na.ssl-images-amazon.com/images/I/41XKmxpyRkL.jpg']}"
      ]
     },
     "execution_count": 4,
     "metadata": {},
     "output_type": "execute_result"
    }
   ],
   "source": [
    "amazon.load_metadata(3)[2]"
   ]
  },
  {
   "cell_type": "markdown",
   "metadata": {
    "pycharm": {
     "name": "#%% md\n"
    }
   },
   "source": [
    "## Amazon Movies"
   ]
  },
  {
   "cell_type": "code",
   "execution_count": 230,
   "metadata": {
    "pycharm": {
     "name": "#%%\n"
    }
   },
   "outputs": [],
   "source": [
    "amazon = AmazonDataset('ratings_Movies_and_TV.csv')\n",
    "df = amazon.load_rating_dataset(100_000)"
   ]
  },
  {
   "cell_type": "markdown",
   "metadata": {
    "pycharm": {
     "name": "#%% md\n"
    }
   },
   "source": [
    "### Матрица интеракций"
   ]
  },
  {
   "cell_type": "code",
   "execution_count": 98,
   "metadata": {
    "pycharm": {
     "name": "#%%\n"
    }
   },
   "outputs": [
    {
     "data": {
      "text/plain": "(82797, 4)"
     },
     "execution_count": 98,
     "metadata": {},
     "output_type": "execute_result"
    }
   ],
   "source": [
    "# отфильтруем по позитивным оценкам\n",
    "df_positive = df[df['rating'] >= 4]\n",
    "df_positive.shape"
   ]
  },
  {
   "cell_type": "code",
   "execution_count": 99,
   "metadata": {
    "pycharm": {
     "name": "#%%\n"
    }
   },
   "outputs": [
    {
     "name": "stderr",
     "output_type": "stream",
     "text": [
      "/Users/ilya/opt/miniconda3/lib/python3.9/site-packages/pandas/core/indexing.py:1676: SettingWithCopyWarning: \n",
      "A value is trying to be set on a copy of a slice from a DataFrame.\n",
      "Try using .loc[row_indexer,col_indexer] = value instead\n",
      "\n",
      "See the caveats in the documentation: https://pandas.pydata.org/pandas-docs/stable/user_guide/indexing.html#returning-a-view-versus-a-copy\n",
      "  self._setitem_single_column(ilocs[0], value, pi)\n"
     ]
    }
   ],
   "source": [
    "encoder = LabelEncoder()\n",
    "\n",
    "df_positive.loc[:, 'user'] = encoder.fit_transform(df_positive['user'])\n",
    "df_positive.loc[:, 'item'] = encoder.fit_transform(df_positive['item'])"
   ]
  },
  {
   "cell_type": "code",
   "execution_count": 100,
   "metadata": {
    "pycharm": {
     "name": "#%%\n"
    }
   },
   "outputs": [
    {
     "data": {
      "text/plain": "user         66108\nitem          1825\nrating           2\ntimestamp     5776\ndtype: int64"
     },
     "execution_count": 100,
     "metadata": {},
     "output_type": "execute_result"
    }
   ],
   "source": [
    "df_positive.nunique()"
   ]
  },
  {
   "cell_type": "code",
   "execution_count": 101,
   "metadata": {
    "pycharm": {
     "name": "#%%\n"
    }
   },
   "outputs": [],
   "source": [
    "# csr_matrix((data, (row_ind, col_ind)), [shape=(M, N)])\n",
    "sparse_interactions = sp.csr_matrix((df_positive['rating'], (df_positive['user'], df_positive['item'])))"
   ]
  },
  {
   "cell_type": "code",
   "execution_count": 102,
   "metadata": {
    "pycharm": {
     "name": "#%%\n"
    }
   },
   "outputs": [
    {
     "data": {
      "text/plain": "<66108x1825 sparse matrix of type '<class 'numpy.float64'>'\n\twith 82797 stored elements in Compressed Sparse Row format>"
     },
     "execution_count": 102,
     "metadata": {},
     "output_type": "execute_result"
    }
   ],
   "source": [
    "sparse_interactions"
   ]
  },
  {
   "cell_type": "markdown",
   "metadata": {
    "pycharm": {
     "name": "#%% md\n"
    }
   },
   "source": [
    "### Собираем граф"
   ]
  },
  {
   "cell_type": "code",
   "execution_count": 12,
   "metadata": {
    "pycharm": {
     "name": "#%%\n"
    }
   },
   "outputs": [
    {
     "data": {
      "text/plain": [
       "matrix([[0., 0., 0., 0.],\n",
       "        [0., 0., 0., 0.],\n",
       "        [0., 0., 1., 1.],\n",
       "        [0., 0., 1., 1.]])"
      ]
     },
     "execution_count": 12,
     "metadata": {},
     "output_type": "execute_result"
    }
   ],
   "source": [
    "adj_mat = sp.csr_matrix((4, 4)).tolil()\n",
    "adj_mat[2:, 2:] = [[1, 1], [1, 1]]\n",
    "adj_mat.todense()"
   ]
  },
  {
   "cell_type": "raw",
   "metadata": {
    "pycharm": {
     "name": "#%% raw\n"
    }
   },
   "source": [
    "adj_mat = sp.dok_matrix(df_positive['user'].nunique())\n",
    "adj_mat = adj_mat.tolil()\n",
    "R = self.UserItemNet.tolil()\n",
    "adj_mat[:self.n_users, self.n_users:] = R\n",
    "adj_mat[self.n_users:, :self.n_users] = R.T\n",
    "adj_mat = adj_mat.todok()"
   ]
  },
  {
   "cell_type": "markdown",
   "metadata": {
    "pycharm": {
     "name": "#%% md\n"
    }
   },
   "source": [
    "### GF-CF"
   ]
  },
  {
   "cell_type": "code",
   "execution_count": 13,
   "metadata": {
    "pycharm": {
     "name": "#%%\n"
    }
   },
   "outputs": [],
   "source": [
    "from sparsesvd import sparsesvd"
   ]
  },
  {
   "cell_type": "code",
   "execution_count": 221,
   "metadata": {
    "pycharm": {
     "name": "#%%\n"
    }
   },
   "outputs": [
    {
     "name": "stdout",
     "output_type": "stream",
     "text": [
      "Train finished\n"
     ]
    },
    {
     "name": "stderr",
     "output_type": "stream",
     "text": [
      "/var/folders/p_/sddndwcs6m30b1tfj2cy1ys40000gn/T/ipykernel_23894/3298166067.py:14: RuntimeWarning: divide by zero encountered in power\n",
      "  d_inv = np.power(colsum, -0.5).flatten()\n",
      "/var/folders/p_/sddndwcs6m30b1tfj2cy1ys40000gn/T/ipykernel_23894/3298166067.py:18: RuntimeWarning: divide by zero encountered in true_divide\n",
      "  self.d_mat_i_inv = sp.diags(1 / d_inv)\n"
     ]
    }
   ],
   "source": [
    "class GF_CF(object):\n",
    "    def __init__(self, adj_mat):\n",
    "        self.adj_mat = adj_mat\n",
    "\n",
    "    def train(self, train_threshold, dim=16):\n",
    "        adj_mat = self.adj_mat[:train_threshold]\n",
    "        rowsum = np.array(adj_mat.sum(axis=1))\n",
    "        d_inv = np.power(rowsum, -0.5).flatten()\n",
    "        d_inv[np.isinf(d_inv)] = 0.\n",
    "        d_mat = sp.diags(d_inv)\n",
    "        norm_adj = d_mat.dot(adj_mat)\n",
    "\n",
    "        colsum = np.array(adj_mat.sum(axis=0))\n",
    "        d_inv = np.power(colsum, -0.5).flatten()\n",
    "        d_inv[np.isinf(d_inv)] = 0.\n",
    "        d_mat = sp.diags(d_inv)\n",
    "        self.d_mat_i = d_mat\n",
    "        self.d_mat_i_inv = sp.diags(1 / d_inv)\n",
    "        norm_adj = norm_adj.dot(d_mat)\n",
    "        self.norm_adj = norm_adj.tocsc()\n",
    "        ut, s, self.vt = sparsesvd(self.norm_adj, dim)\n",
    "        print('Train finished')\n",
    "\n",
    "    def getUsersRating(self, batch_users, ds_name=None):\n",
    "        norm_adj = self.norm_adj\n",
    "        adj_mat = self.adj_mat\n",
    "        batch_test = np.array(adj_mat[batch_users,:].todense())\n",
    "        U_2 = batch_test @ norm_adj.T @ norm_adj\n",
    "        U_1 = batch_test @  self.d_mat_i @ self.vt.T @ self.vt @ self.d_mat_i_inv\n",
    "        #\n",
    "        # if ds_name == 'amazon-book':\n",
    "        #     ret = U_2\n",
    "        # else:\n",
    "        #     U_1 = batch_test @  self.d_mat_i @ self.vt.T @ self.vt @ self.d_mat_i_inv\n",
    "        #     ret = U_2 + 0.3 * U_1\n",
    "        # return ret\n",
    "        return U_2 + U_1\n",
    "\n",
    "gf_cf = GF_CF(sparse_interactions)\n",
    "gf_cf.train(1_000, 3)"
   ]
  },
  {
   "cell_type": "code",
   "execution_count": 222,
   "outputs": [
    {
     "data": {
      "text/plain": "(1000, 1825)"
     },
     "execution_count": 222,
     "metadata": {},
     "output_type": "execute_result"
    }
   ],
   "source": [
    "gf_cf.norm_adj.shape"
   ],
   "metadata": {
    "collapsed": false,
    "pycharm": {
     "name": "#%%\n"
    }
   }
  },
  {
   "cell_type": "code",
   "execution_count": 223,
   "outputs": [
    {
     "data": {
      "text/plain": "(66108, 1825)"
     },
     "execution_count": 223,
     "metadata": {},
     "output_type": "execute_result"
    }
   ],
   "source": [
    "sparse_interactions.shape"
   ],
   "metadata": {
    "collapsed": false,
    "pycharm": {
     "name": "#%%\n"
    }
   }
  },
  {
   "cell_type": "code",
   "execution_count": 224,
   "outputs": [
    {
     "name": "stdout",
     "output_type": "stream",
     "text": [
      "CPU times: user 4.54 s, sys: 4.46 s, total: 9 s\n",
      "Wall time: 7.06 s\n"
     ]
    }
   ],
   "source": [
    "%%time\n",
    "preds = gf_cf.getUsersRating(np.arange(sparse_interactions.shape[0]))\n",
    "preds = np.nanargmax(preds, axis=1)"
   ],
   "metadata": {
    "collapsed": false,
    "pycharm": {
     "name": "#%%\n"
    }
   }
  },
  {
   "cell_type": "code",
   "execution_count": 225,
   "outputs": [
    {
     "data": {
      "text/plain": "  0%|          | 0/66108 [00:00<?, ?it/s]",
      "application/vnd.jupyter.widget-view+json": {
       "version_major": 2,
       "version_minor": 0,
       "model_id": "0d94bce07c114d36ac1e562649e5eebd"
      }
     },
     "metadata": {},
     "output_type": "display_data"
    },
    {
     "data": {
      "text/plain": "0.8410328553276457"
     },
     "execution_count": 225,
     "metadata": {},
     "output_type": "execute_result"
    }
   ],
   "source": [
    "result = []\n",
    "for i in tqdm(range(sparse_interactions.shape[0])):\n",
    "    if preds[i] in sparse_interactions[i].nonzero()[1]:\n",
    "        result.append(1)\n",
    "    else:\n",
    "        result.append(0)\n",
    "result = np.array(result)\n",
    "result.mean()"
   ],
   "metadata": {
    "collapsed": false,
    "pycharm": {
     "name": "#%%\n"
    }
   }
  },
  {
   "cell_type": "code",
   "execution_count": 229,
   "outputs": [
    {
     "data": {
      "text/plain": "array([ 1012,  1016,  1019, ..., 66092, 66094, 66101])"
     },
     "execution_count": 229,
     "metadata": {},
     "output_type": "execute_result"
    }
   ],
   "source": [
    "np.where(result == 0)[0]"
   ],
   "metadata": {
    "collapsed": false,
    "pycharm": {
     "name": "#%%\n"
    }
   }
  },
  {
   "cell_type": "code",
   "execution_count": 220,
   "outputs": [
    {
     "data": {
      "text/plain": "14      0.0\n1418    0.0\n1457    0.0\n1456    0.0\n1455    0.0\ndtype: float64"
     },
     "metadata": {},
     "output_type": "display_data"
    },
    {
     "data": {
      "text/plain": "(array([0], dtype=int32), array([1461], dtype=int32))"
     },
     "execution_count": 220,
     "metadata": {},
     "output_type": "execute_result"
    }
   ],
   "source": [
    "i = 66101\n",
    "pred = gf_cf.getUsersRating([i])\n",
    "display(pd.Series(pred[0]).sort_values(ascending=False).head())\n",
    "sparse_interactions[i].nonzero()"
   ],
   "metadata": {
    "collapsed": false,
    "pycharm": {
     "name": "#%%\n"
    }
   }
  },
  {
   "cell_type": "code",
   "execution_count": null,
   "outputs": [],
   "source": [],
   "metadata": {
    "collapsed": false,
    "pycharm": {
     "name": "#%%\n"
    }
   }
  }
 ],
 "metadata": {
  "kernelspec": {
   "display_name": "Python 3 (ipykernel)",
   "language": "python",
   "name": "python3"
  },
  "language_info": {
   "codemirror_mode": {
    "name": "ipython",
    "version": 3
   },
   "file_extension": ".py",
   "mimetype": "text/x-python",
   "name": "python",
   "nbconvert_exporter": "python",
   "pygments_lexer": "ipython3",
   "version": "3.9.5"
  },
  "toc": {
   "base_numbering": 1,
   "nav_menu": {},
   "number_sections": true,
   "sideBar": true,
   "skip_h1_title": false,
   "title_cell": "Table of Contents",
   "title_sidebar": "Contents",
   "toc_cell": false,
   "toc_position": {},
   "toc_section_display": true,
   "toc_window_display": false
  },
  "varInspector": {
   "cols": {
    "lenName": 16,
    "lenType": 16,
    "lenVar": 40
   },
   "kernels_config": {
    "python": {
     "delete_cmd_postfix": "",
     "delete_cmd_prefix": "del ",
     "library": "var_list.py",
     "varRefreshCmd": "print(var_dic_list())"
    },
    "r": {
     "delete_cmd_postfix": ") ",
     "delete_cmd_prefix": "rm(",
     "library": "var_list.r",
     "varRefreshCmd": "cat(var_dic_list()) "
    }
   },
   "types_to_exclude": [
    "module",
    "function",
    "builtin_function_or_method",
    "instance",
    "_Feature"
   ],
   "window_display": false
  }
 },
 "nbformat": 4,
 "nbformat_minor": 1
}