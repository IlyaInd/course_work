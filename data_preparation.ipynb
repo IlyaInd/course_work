{
 "cells": [
  {
   "cell_type": "code",
   "execution_count": 835,
   "metadata": {
    "cellId": "mkk2qnf39qg2kichq4rvqf",
    "pycharm": {
     "name": "#%%\n"
    }
   },
   "outputs": [],
   "source": [
    "from abc import ABC, abstractmethod\n",
    "import pandas as pd\n",
    "import numpy as np\n",
    "from sklearn.preprocessing import LabelEncoder\n",
    "import matplotlib.pyplot as plt\n",
    "import scipy.sparse as sp\n",
    "from sklearn.metrics import ndcg_score\n",
    "from sklearn.model_selection import train_test_split\n",
    "from tqdm.notebook import tqdm\n",
    "\n",
    "import torch\n",
    "\n",
    "pd.options.mode.chained_assignment = None\n",
    "\n",
    "%config InlineBackend.figure_format='retina'"
   ]
  },
  {
   "cell_type": "code",
   "execution_count": 836,
   "metadata": {
    "cellId": "6ti9iw5vplgzp6jxsznujq"
   },
   "outputs": [
    {
     "data": {
      "text/plain": [
       "<torch._C.Generator at 0x7f347f0e2c50>"
      ]
     },
     "execution_count": 836,
     "metadata": {},
     "output_type": "execute_result"
    }
   ],
   "source": [
    "np.random.seed(42)\n",
    "torch.manual_seed(42)"
   ]
  },
  {
   "cell_type": "markdown",
   "metadata": {
    "cellId": "sccsq40n5im7qfi6hnhhb",
    "execution_id": "71e39b8e-5aa4-4a26-a9f1-1da47d1f30f9"
   },
   "source": [
    "### Метрики"
   ]
  },
  {
   "cell_type": "code",
   "execution_count": 837,
   "metadata": {
    "cellId": "hrygtewqmzg265irwdrs",
    "pycharm": {
     "name": "#%%\n"
    }
   },
   "outputs": [],
   "source": [
    "def recall_at_k(pred_items: np.array, true_items: np.array):\n",
    "    assert pred_items.shape[0] == true_items.shape[0]\n",
    "    recall_list = []\n",
    "    for i_pred, i_true in zip(pred_items, true_items):\n",
    "        try:\n",
    "            hits = len(np.intersect1d(i_pred, i_true))\n",
    "            recall = hits / len(i_true)\n",
    "            recall_list.append(recall)\n",
    "        except ZeroDivisionError:\n",
    "            print(len(recall_list), i_true)\n",
    "    return np.mean(recall_list)\n",
    "\n",
    "def precision_at_k(pred_items: np.array, true_items: np.array):\n",
    "    assert pred_items.shape[0] == true_items.shape[0]\n",
    "    precision_list = []\n",
    "    for i_pred, i_true in zip(pred_items, true_items):\n",
    "        try:\n",
    "            hits = len(np.intersect1d(i_pred, i_true))\n",
    "            prec = hits / len(i_pred)\n",
    "            precision_list.append(prec)\n",
    "        except ZeroDivisionError:\n",
    "            print(len(precision_list), i_true)\n",
    "    return np.mean(precision_list)\n",
    "\n",
    "def ndcg_at_k(ranks, recs, interactions):\n",
    "    assert ranks.shape[0] == recs.shape[0] == interactions.shape[0]\n",
    "    scores_list = []\n",
    "    for u in range(interactions.shape[0]):\n",
    "        score = ndcg_score(interactions[u, recs[u]].toarray(), [ranks[u]])\n",
    "        scores_list.append(score)\n",
    "    return np.mean(scores_list)"
   ]
  },
  {
   "cell_type": "code",
   "execution_count": 666,
   "metadata": {
    "cellId": "u18q7kehfc9nvur89c5qne",
    "collapsed": false,
    "jupyter": {
     "outputs_hidden": false
    },
    "pycharm": {
     "name": "#%%\n"
    }
   },
   "outputs": [],
   "source": [
    "def get_k_core(df, core=20):\n",
    "    df = df.clone()\n",
    "    for _ in tqdm(range(50)):\n",
    "        gpb = df.groupby('user_id')['rating'].count()\n",
    "        if gpb.min() < core:\n",
    "            print('user min = ', gpb.min())\n",
    "            core_k_users = gpb[gpb >= core].index.values\n",
    "            df = df[df['user_id'].isin(core_k_users)]\n",
    "            gpb = df.groupby('item_id')['rating'].count()\n",
    "            core_k_items = gpb[gpb >= core].index.values\n",
    "            df = df[df['item_id'].isin(core_k_items)]\n",
    "        else:\n",
    "            return df"
   ]
  },
  {
   "cell_type": "markdown",
   "metadata": {
    "cellId": "3chjtjjzg6gf29sk7d54oi",
    "execution_id": "ad08885c-db61-47fb-92ed-3b56e5262aca"
   },
   "source": [
    "# Top Popular"
   ]
  },
  {
   "cell_type": "markdown",
   "metadata": {
    "cellId": "tsel6m8jgcnaaqskwh69mt",
    "execution_id": "9137ed1e-b4d6-45a2-bfe2-eb890fba94e5",
    "pycharm": {
     "name": "#%% md\n"
    }
   },
   "source": [
    "## Amazon Books"
   ]
  },
  {
   "cell_type": "code",
   "execution_count": 856,
   "metadata": {
    "cellId": "2sw0el3bd6y5twa7g2moxs"
   },
   "outputs": [],
   "source": [
    "K = 20\n",
    "vc = amazon._df_train['item_id'].value_counts().sort_index().values\n",
    "\n",
    "all_ranks = torch.Tensor(np.tile(vc, (amazon.n_test_users, 1)))\n",
    "all_ranks[amazon.observed_interactions.nonzero()] = 0  # exclude seen items\n",
    "\n",
    "ranks, recs = ranks.topk(20, dim=1)"
   ]
  },
  {
   "cell_type": "code",
   "execution_count": 907,
   "metadata": {
    "cellId": "7hpj7vnydu23nenj25x3qd"
   },
   "outputs": [
    {
     "name": "stdout",
     "output_type": "stream",
     "text": [
      "====== ALS ======\n",
      "Precision = 0.02594\n",
      "Recall = 0.01203\n",
      "NDCG = 0.12779\n"
     ]
    }
   ],
   "source": [
    "y_true = np.array([amazon.future_interactions[i].nonzero()[1] for i in range(amazon.n_test_users)], dtype='object')\n",
    "\n",
    "print('====== ALS ======')\n",
    "print(f'Precision = {precision_at_k(recs, y_true).round(5)}')\n",
    "print(f'Recall = {recall_at_k(recs, y_true).round(5)}')\n",
    "print(f'NDCG = {ndcg_at_k(ranks.numpy(), recs, amazon.future_interactions).round(5)}')"
   ]
  },
  {
   "cell_type": "markdown",
   "metadata": {
    "cellId": "jfhbtkv41i2bxaasrz3dp",
    "pycharm": {
     "name": "#%% md\n"
    }
   },
   "source": [
    "## MovieLens1M"
   ]
  },
  {
   "cell_type": "code",
   "execution_count": 919,
   "metadata": {
    "cellId": "d6jo88sb907nvq8hsvz0b"
   },
   "outputs": [],
   "source": [
    "K = 20\n",
    "vc = mov._df_train['item_id'].value_counts().sort_index().values\n",
    "\n",
    "all_ranks = torch.Tensor(np.tile(vc, (mov.n_test_users, 1)))\n",
    "all_ranks[mov.observed_interactions.nonzero()] = 0  # exclude seen items\n",
    "\n",
    "ranks, recs = all_ranks.topk(20, dim=1)"
   ]
  },
  {
   "cell_type": "code",
   "execution_count": 924,
   "metadata": {
    "cellId": "zvcn02ds0dpdchax5wyt9"
   },
   "outputs": [
    {
     "name": "stdout",
     "output_type": "stream",
     "text": [
      "====== ALS ======\n",
      "Precision = 0.41393\n",
      "Recall = 0.08367\n",
      "NDCG = 0.72713\n"
     ]
    }
   ],
   "source": [
    "y_true = np.array([mov.future_interactions[i].nonzero()[1] for i in range(mov.n_test_users)], dtype='object')\n",
    "\n",
    "print('====== ALS ======')\n",
    "print(f'Precision = {precision_at_k(recs, y_true).round(5)}')\n",
    "print(f'Recall = {recall_at_k(recs, y_true).round(5)}')\n",
    "print(f'NDCG = {ndcg_at_k(ranks.numpy(), recs, mov.future_interactions).round(5)}')"
   ]
  },
  {
   "cell_type": "markdown",
   "metadata": {
    "cellId": "sze90pikg9zl2aogmf91",
    "execution_id": "0c38f3ab-1470-46ce-a9fc-b0b8ca64d1d4",
    "pycharm": {
     "name": "#%% md\n"
    }
   },
   "source": [
    "# ALS"
   ]
  },
  {
   "cell_type": "code",
   "execution_count": 165,
   "metadata": {
    "cellId": "mta7q9ibqapymppj84j2n9",
    "collapsed": false,
    "jupyter": {
     "outputs_hidden": false
    },
    "pycharm": {
     "name": "#%%\n"
    }
   },
   "outputs": [
    {
     "name": "stderr",
     "output_type": "stream",
     "text": [
      "/home/jupyter/.local/lib/python3.8/site-packages/implicit/gpu/__init__.py:13: UserWarning: CUDA extension is built, but disabling GPU support because of 'Cuda Error: CUDA driver version is insufficient for CUDA runtime version (/project/./implicit/gpu/utils.h:71)'\n",
      "  warnings.warn(\n"
     ]
    }
   ],
   "source": [
    "from implicit.als import AlternatingLeastSquares"
   ]
  },
  {
   "cell_type": "markdown",
   "metadata": {
    "cellId": "k289t5uqudhn67o0qtop7",
    "execution_id": "9137ed1e-b4d6-45a2-bfe2-eb890fba94e5",
    "pycharm": {
     "name": "#%% md\n"
    }
   },
   "source": [
    "## Amazon Books"
   ]
  },
  {
   "cell_type": "code",
   "execution_count": 834,
   "metadata": {
    "cellId": "k0ogviy4zxsxlg86uxso",
    "collapsed": false,
    "jupyter": {
     "outputs_hidden": false
    },
    "pycharm": {
     "name": "#%%\n"
    }
   },
   "outputs": [],
   "source": [
    "class AlsDataset:\n",
    "    def __init__(self, path, **kwargs):\n",
    "        self.path = path\n",
    "        self.df = self.load_dataset(**kwargs)\n",
    "\n",
    "    def load_dataset(self, **kwargs):\n",
    "        df = pd.read_csv(self.path, **kwargs)\n",
    "\n",
    "        df.columns = ('user_id', 'item_id', 'rating')\n",
    "        df['rating'] = 1\n",
    "        all_possible_connections = df['user_id'].nunique() * df['item_id'].nunique()\n",
    "        print(f\"Sparsity = {100 * round(1 - df.shape[0] / all_possible_connections, 5)}%\")\n",
    "        n_users, n_items = df[['user_id', 'item_id']].nunique()\n",
    "        print(f\"Users: {n_users}\")\n",
    "        print(f\"Items: {n_items}\")\n",
    "        return df\n",
    "\n",
    "\n",
    "    def train_test_split(self, test_ratio=0.25, observed_ratio=0.1):\n",
    "        df = self.df\n",
    "        all_users = self.df['user_id'].unique()\n",
    "        test_size = int(len(all_users) * test_ratio)\n",
    "\n",
    "        # Формируем выборку пользователей для теста\n",
    "        test_users = np.random.choice(a=all_users, size=test_size, replace=False)\n",
    "        df_train = df[~df['user_id'].isin(test_users)]\n",
    "        df_test = df[df['user_id'].isin(test_users)]\n",
    "        df_test = df_test[df_test['item_id'].isin(df_train['item_id'].unique())]\n",
    "\n",
    "        # Энкодим айдишники айтемов\n",
    "        encoder = LabelEncoder()\n",
    "        df_train['user_id'] = encoder.fit_transform(df_train['user_id'])\n",
    "        df_train['item_id'] = encoder.fit_transform(df_train['item_id'])\n",
    "        df_test['item_id'] = encoder.transform(df_test['item_id'])\n",
    "\n",
    "        # Делим интеракции новых пользователей на виденные и будущие\n",
    "        test_observed, test_future = train_test_split(df_test, test_size=1-observed_ratio, random_state=42)\n",
    "        common_users = np.intersect1d(test_observed['user_id'], test_future['user_id'])\n",
    "        test_observed = test_observed[test_observed['user_id'].isin(common_users)]\n",
    "        test_future = test_future[test_future['user_id'].isin(common_users)]\n",
    "        test_observed['user_id'] = encoder.fit_transform(test_observed['user_id'])\n",
    "        test_future['user_id'] = encoder.transform(test_future['user_id'])\n",
    "\n",
    "        self._df_train = df_train\n",
    "        self._test_observed = test_observed\n",
    "        self._test_future = test_future\n",
    "        self.n_items = df_train['item_id'].nunique()\n",
    "        self.n_train_users = df_train['user_id'].nunique()\n",
    "        self.n_test_users = test_observed['user_id'].nunique()\n",
    "\n",
    "    def build_sparse_interaction_matrix(self):\n",
    "        # n_train_users = self.df_train['user_id'].nunique()\n",
    "        self.train_interactions = sp.csr_matrix((self._df_train['rating'], (self._df_train['user_id'], self._df_train['item_id'])))\n",
    "        self.observed_interactions = sp.csr_matrix((self._test_observed['rating'],\n",
    "                                                    (self._test_observed['user_id'], self._test_observed['item_id'])),\n",
    "                                                   shape=(self._test_observed['user_id'].nunique(), self.n_items)\n",
    "                                                   )\n",
    "        self.future_interactions = sp.csr_matrix((self._test_future['rating'],\n",
    "                                                  (self._test_future['user_id'], self._test_future['item_id'])),\n",
    "                                                 shape=(self._test_future['user_id'].nunique(), self.n_items)\n",
    "                                                 )"
   ]
  },
  {
   "cell_type": "code",
   "execution_count": 167,
   "metadata": {
    "cellId": "op7fuq14b4q1o5cy8umnh1",
    "collapsed": false,
    "jupyter": {
     "outputs_hidden": false
    },
    "pycharm": {
     "name": "#%%\n"
    }
   },
   "outputs": [
    {
     "name": "stdout",
     "output_type": "stream",
     "text": [
      "Sparsity = 99.856%\n"
     ]
    },
    {
     "data": {
      "text/plain": [
       "user_id    35736\n",
       "item_id    38121\n",
       "rating         1\n",
       "dtype: int64"
      ]
     },
     "execution_count": 167,
     "metadata": {},
     "output_type": "execute_result"
    }
   ],
   "source": [
    "amazon = AlsDataset('amazon_20_core.csv.gz', usecols=['user_id', 'item_id', 'rating'])"
   ]
  },
  {
   "cell_type": "code",
   "execution_count": 168,
   "metadata": {
    "cellId": "qd2tkrsk1gyxzgdyeru6k",
    "collapsed": false,
    "jupyter": {
     "outputs_hidden": false
    },
    "pycharm": {
     "name": "#%%\n"
    }
   },
   "outputs": [
    {
     "data": {
      "text/plain": [
       "(<25016x38121 sparse matrix of type '<class 'numpy.longlong'>'\n",
       " \twith 1369925 stored elements in Compressed Sparse Row format>,\n",
       " <10252x38121 sparse matrix of type '<class 'numpy.longlong'>'\n",
       " \twith 59074 stored elements in Compressed Sparse Row format>,\n",
       " <10252x38121 sparse matrix of type '<class 'numpy.longlong'>'\n",
       " \twith 520114 stored elements in Compressed Sparse Row format>)"
      ]
     },
     "execution_count": 168,
     "metadata": {},
     "output_type": "execute_result"
    }
   ],
   "source": [
    "amazon.train_test_split(test_ratio=0.3, observed_ratio=0.1)\n",
    "amazon.build_sparse_interaction_matrix()\n",
    "amazon.train_interactions, amazon.observed_interactions, amazon.future_interactions"
   ]
  },
  {
   "cell_type": "code",
   "execution_count": 169,
   "metadata": {
    "cellId": "uexxelimsygt7siszs004",
    "collapsed": false,
    "jupyter": {
     "outputs_hidden": false
    },
    "pycharm": {
     "name": "#%%\n"
    }
   },
   "outputs": [
    {
     "name": "stderr",
     "output_type": "stream",
     "text": [
      "/home/jupyter/.local/lib/python3.8/site-packages/implicit/utils.py:26: UserWarning: OpenBLAS detected. Its highly recommend to set the environment variable 'export OPENBLAS_NUM_THREADS=1' to disable its internal multithreading\n",
      "  warnings.warn(\n"
     ]
    },
    {
     "data": {
      "application/vnd.jupyter.widget-view+json": {
       "model_id": "0e570af0870d4ea4a5ad4c652caff5ec",
       "version_major": 2,
       "version_minor": 0
      },
      "text/plain": [
       "HBox(children=(HTML(value=''), FloatProgress(value=0.0, max=5.0), HTML(value='')))"
      ]
     },
     "metadata": {},
     "output_type": "display_data"
    },
    {
     "name": "stdout",
     "output_type": "stream",
     "text": [
      "\n"
     ]
    }
   ],
   "source": [
    "als = AlternatingLeastSquares(256, iterations=5, regularization=0.001,\n",
    "                              calculate_training_loss=True, random_state=42, num_threads=2)\n",
    "\n",
    "als.fit(amazon.train_interactions, show_progress=True)"
   ]
  },
  {
   "cell_type": "markdown",
   "metadata": {
    "cellId": "2i8gzvh4ln7syxc4joh5en",
    "execution_id": "8f6d9a8e-0e88-4d95-9b4a-ea8f89d15cba",
    "pycharm": {
     "name": "#%% md\n"
    }
   },
   "source": [
    "### Train"
   ]
  },
  {
   "cell_type": "code",
   "execution_count": 170,
   "metadata": {
    "cellId": "lc6f1repo8svvy5lttusj",
    "collapsed": false,
    "jupyter": {
     "outputs_hidden": false
    },
    "pycharm": {
     "name": "#%%\n"
    }
   },
   "outputs": [
    {
     "name": "stdout",
     "output_type": "stream",
     "text": [
      "====== ALS ======\n",
      "Precision = 0.37797\n",
      "Recall = 0.18027\n",
      "NDCG = 0.81906\n"
     ]
    }
   ],
   "source": [
    "K = 20\n",
    "recs, ranks = np.array(als.recommend(userid=np.arange(amazon.n_train_users),\n",
    "                              filter_already_liked_items=False,\n",
    "                              user_items=amazon.train_interactions, N=K))\n",
    "y_true = np.array([amazon.train_interactions[i].nonzero()[1] for i in range(amazon.n_train_users)], dtype='object')\n",
    "\n",
    "print('====== ALS ======')\n",
    "print(f'Precision = {precision_at_k(recs, y_true).round(5)}')\n",
    "print(f'Recall = {recall_at_k(recs, y_true).round(5)}')\n",
    "print(f'NDCG = {ndcg_at_k(ranks, recs, amazon.train_interactions).round(5)}')"
   ]
  },
  {
   "cell_type": "markdown",
   "metadata": {
    "cellId": "deaj4w9wvcoyfw5nerydwc",
    "execution_id": "c1394d5f-4ab0-44a8-bae7-b155d5a8dc87",
    "pycharm": {
     "name": "#%% md\n"
    }
   },
   "source": [
    "### Test"
   ]
  },
  {
   "cell_type": "code",
   "execution_count": 171,
   "metadata": {
    "cellId": "qvgv9vsri5lhp0kkr06d7",
    "collapsed": false,
    "jupyter": {
     "outputs_hidden": false
    },
    "pycharm": {
     "name": "#%%\n"
    }
   },
   "outputs": [],
   "source": [
    "als.partial_fit_users(userids=np.arange(amazon.n_train_users, amazon.n_train_users + amazon.n_test_users),\n",
    "                      user_items=amazon.observed_interactions)"
   ]
  },
  {
   "cell_type": "code",
   "execution_count": 172,
   "metadata": {
    "cellId": "j7buyvnxto90a541qu882jq",
    "collapsed": false,
    "jupyter": {
     "outputs_hidden": false
    },
    "pycharm": {
     "name": "#%%\n"
    }
   },
   "outputs": [
    {
     "name": "stdout",
     "output_type": "stream",
     "text": [
      "====== ALS ======\n",
      "Precision = 0.13436\n",
      "Recall = 0.06331\n",
      "NDCG = 0.42584\n"
     ]
    }
   ],
   "source": [
    "K = 20\n",
    "recs, ranks = np.array(als.recommend(userid=np.arange(amazon.n_train_users, amazon.n_train_users + amazon.n_test_users),\n",
    "                                     filter_already_liked_items=True,\n",
    "                                     user_items=amazon.observed_interactions, N=K))\n",
    "y_true = np.array([amazon.future_interactions[i].nonzero()[1] for i in range(amazon.n_test_users)], dtype='object')\n",
    "\n",
    "print('====== ALS ======')\n",
    "print(f'Precision = {precision_at_k(recs, y_true).round(5)}')\n",
    "print(f'Recall = {recall_at_k(recs, y_true).round(5)}')\n",
    "print(f'NDCG = {ndcg_at_k(ranks, recs, amazon.future_interactions).round(5)}')"
   ]
  },
  {
   "cell_type": "raw",
   "metadata": {
    "cellId": "gew4yceqkowiga0msc4ldk"
   },
   "source": [
    "y_true = np.array([[1, 1, 1, 0,  0,  0, 1, 1, 1]])\n",
    "recs = np.array([[  10, 5, 3, 2, 2, 2, 0, 0, 0]])\n",
    "\n",
    "ndcg_score(y_true, recs)"
   ]
  },
  {
   "cell_type": "markdown",
   "metadata": {
    "cellId": "5uc5z099d4xgmmmfarl2i",
    "pycharm": {
     "name": "#%% md\n"
    }
   },
   "source": [
    "## MovieLens1M"
   ]
  },
  {
   "cell_type": "code",
   "execution_count": 173,
   "metadata": {
    "cellId": "usjhx1169s8jyxdgbqoudb",
    "collapsed": false,
    "jupyter": {
     "outputs_hidden": false
    },
    "pycharm": {
     "name": "#%%\n"
    }
   },
   "outputs": [
    {
     "name": "stdout",
     "output_type": "stream",
     "text": [
      "Sparsity = 95.532%\n"
     ]
    },
    {
     "data": {
      "text/plain": [
       "user_id    6040\n",
       "item_id    3706\n",
       "rating        1\n",
       "dtype: int64"
      ]
     },
     "execution_count": 173,
     "metadata": {},
     "output_type": "execute_result"
    }
   ],
   "source": [
    "mov = AlsDataset('ml-1m/ratings.dat', usecols=[0, 1, 2], header=None, sep='::', engine='python')\n",
    "mov.df.nunique()"
   ]
  },
  {
   "cell_type": "code",
   "execution_count": 174,
   "metadata": {
    "cellId": "8ffgmxuzwt564qnr7mb4p",
    "collapsed": false,
    "jupyter": {
     "outputs_hidden": false
    },
    "pycharm": {
     "name": "#%%\n"
    }
   },
   "outputs": [
    {
     "data": {
      "text/plain": [
       "(<4228x3673 sparse matrix of type '<class 'numpy.longlong'>'\n",
       " \twith 697548 stored elements in Compressed Sparse Row format>,\n",
       " <1786x3673 sparse matrix of type '<class 'numpy.longlong'>'\n",
       " \twith 30262 stored elements in Compressed Sparse Row format>,\n",
       " <1786x3673 sparse matrix of type '<class 'numpy.longlong'>'\n",
       " \twith 271672 stored elements in Compressed Sparse Row format>)"
      ]
     },
     "execution_count": 174,
     "metadata": {},
     "output_type": "execute_result"
    }
   ],
   "source": [
    "mov.train_test_split(test_ratio=0.3, observed_ratio=0.1)\n",
    "mov.build_sparse_interaction_matrix()\n",
    "mov.train_interactions, mov.observed_interactions, mov.future_interactions"
   ]
  },
  {
   "cell_type": "code",
   "execution_count": 175,
   "metadata": {
    "cellId": "jf6ig5bu276elc1fgehw5",
    "collapsed": false,
    "jupyter": {
     "outputs_hidden": false
    },
    "pycharm": {
     "name": "#%%\n"
    }
   },
   "outputs": [
    {
     "data": {
      "application/vnd.jupyter.widget-view+json": {
       "model_id": "aa0d89cacb40436193312678babd9dc7",
       "version_major": 2,
       "version_minor": 0
      },
      "text/plain": [
       "HBox(children=(HTML(value=''), FloatProgress(value=0.0, max=5.0), HTML(value='')))"
      ]
     },
     "metadata": {},
     "output_type": "display_data"
    },
    {
     "name": "stdout",
     "output_type": "stream",
     "text": [
      "\n"
     ]
    }
   ],
   "source": [
    "als = AlternatingLeastSquares(32, iterations=5, regularization=0.1,\n",
    "                              calculate_training_loss=True, random_state=42, num_threads=2)\n",
    "\n",
    "als.fit(mov.train_interactions, show_progress=True)"
   ]
  },
  {
   "cell_type": "markdown",
   "metadata": {
    "cellId": "jjj9n7oxwbi5jcxyggrgl"
   },
   "source": [
    "### Train"
   ]
  },
  {
   "cell_type": "code",
   "execution_count": 176,
   "metadata": {
    "cellId": "mmjokdlue5cvrp9kw6lhj",
    "collapsed": false,
    "jupyter": {
     "outputs_hidden": false
    },
    "pycharm": {
     "name": "#%%\n"
    }
   },
   "outputs": [
    {
     "name": "stdout",
     "output_type": "stream",
     "text": [
      "====== ALS ======\n",
      "Precision = 0.75088\n",
      "Recall = 0.18346\n",
      "NDCG = 0.9406\n"
     ]
    }
   ],
   "source": [
    "K = 20\n",
    "recs, ranks = np.array(als.recommend(userid=np.arange(mov.n_train_users),\n",
    "                              filter_already_liked_items=False,\n",
    "                              user_items=mov.train_interactions, N=K))\n",
    "y_true = np.array([mov.train_interactions[i].nonzero()[1] for i in range(mov.n_train_users)], dtype='object')\n",
    "\n",
    "print('====== ALS ======')\n",
    "print(f'Precision = {precision_at_k(recs, y_true).round(5)}')\n",
    "print(f'Recall = {recall_at_k(recs, y_true).round(5)}')\n",
    "print(f'NDCG = {ndcg_at_k(ranks, recs, mov.train_interactions).round(5)}')"
   ]
  },
  {
   "cell_type": "markdown",
   "metadata": {
    "cellId": "n38tv5rl1rc6ploioqh",
    "execution_id": "e59b978d-f13a-47b1-ae73-c7fbccdbb72f"
   },
   "source": [
    "### Test"
   ]
  },
  {
   "cell_type": "code",
   "execution_count": 177,
   "metadata": {
    "cellId": "u3gobxcucvp063gt0s73o7e",
    "collapsed": false,
    "jupyter": {
     "outputs_hidden": false
    },
    "pycharm": {
     "name": "#%%\n"
    }
   },
   "outputs": [],
   "source": [
    "als.partial_fit_users(userids=np.arange(mov.n_train_users, mov.n_train_users + mov.n_test_users),\n",
    "                      user_items=mov.observed_interactions)"
   ]
  },
  {
   "cell_type": "code",
   "execution_count": 179,
   "metadata": {
    "cellId": "5e5kl4m4tpmb0ejjk7q1kt",
    "collapsed": false,
    "jupyter": {
     "outputs_hidden": false
    },
    "pycharm": {
     "name": "#%%\n"
    }
   },
   "outputs": [
    {
     "name": "stdout",
     "output_type": "stream",
     "text": [
      "====== ALS ======\n",
      "Precision = 0.5245\n",
      "Recall = 0.11568\n",
      "NDCG = 0.80066\n"
     ]
    }
   ],
   "source": [
    "K = 20\n",
    "recs, ranks = np.array(als.recommend(userid=np.arange(mov.n_train_users, mov.n_train_users + mov.n_test_users),\n",
    "                                     filter_already_liked_items=True,\n",
    "                                     user_items=mov.observed_interactions, N=K))\n",
    "y_true = np.array([mov.future_interactions[i].nonzero()[1] for i in range(mov.n_test_users)], dtype='object')\n",
    "\n",
    "print('====== ALS ======')\n",
    "print(f'Precision = {precision_at_k(recs, y_true).round(5)}')\n",
    "print(f'Recall = {recall_at_k(recs, y_true).round(5)}')\n",
    "print(f'NDCG = {ndcg_at_k(ranks, recs, mov.future_interactions).round(5)}')"
   ]
  },
  {
   "cell_type": "code",
   "execution_count": null,
   "metadata": {
    "cellId": "2ku3d1q3jc3940vh7cby8r"
   },
   "outputs": [],
   "source": []
  },
  {
   "cell_type": "code",
   "execution_count": null,
   "metadata": {
    "cellId": "vg168le21bbqf1dg763cc8",
    "collapsed": false,
    "jupyter": {
     "outputs_hidden": false
    },
    "pycharm": {
     "name": "#%%\n"
    }
   },
   "outputs": [],
   "source": []
  },
  {
   "cell_type": "markdown",
   "metadata": {
    "cellId": "fq9wwfloqtg0sptn5ho87k9"
   },
   "source": [
    "# GF-CF"
   ]
  },
  {
   "cell_type": "code",
   "execution_count": 180,
   "metadata": {
    "cellId": "s62ukwn6u2fnc3p4veg3e",
    "collapsed": false,
    "jupyter": {
     "outputs_hidden": false
    },
    "pycharm": {
     "name": "#%%\n"
    }
   },
   "outputs": [],
   "source": [
    "from sparsesvd import sparsesvd"
   ]
  },
  {
   "cell_type": "code",
   "execution_count": 181,
   "metadata": {
    "cellId": "ixjwxeild3pq14jrp15qs",
    "collapsed": false,
    "jupyter": {
     "outputs_hidden": false
    },
    "pycharm": {
     "name": "#%%\n"
    }
   },
   "outputs": [],
   "source": [
    "class GF_CF(object):\n",
    "    def __init__(self, train_matrix):\n",
    "        self.train_matrix = train_matrix\n",
    "\n",
    "    def fit(self, dim=16):\n",
    "        R = self.train_matrix\n",
    "        rowsum = np.array(R.sum(axis=1))\n",
    "        d_inv = np.power(rowsum, -0.5).flatten()\n",
    "        d_inv[np.isinf(d_inv)] = 0.\n",
    "        d_mat = sp.diags(d_inv)\n",
    "        R_norm = d_mat @ R\n",
    "\n",
    "        colsum = np.array(R.sum(axis=0))\n",
    "        d_inv = np.power(colsum, -0.5).flatten()\n",
    "        d_inv[np.isinf(d_inv)] = 0.\n",
    "        d_mat = sp.diags(d_inv)\n",
    "        self.d_mat_i = d_mat\n",
    "        self.d_mat_i_inv = sp.diags(1 / d_inv)\n",
    "        R_norm = R_norm @ d_mat\n",
    "        self.R_norm = R_norm.tocsc()\n",
    "        ut, s, self.vt = sparsesvd(self.R_norm, dim)\n",
    "\n",
    "    def predict(self, new_ratings: sp.coo_matrix):\n",
    "        R_norm = self.R_norm\n",
    "        # new_ratings = new_ratings.todense()\n",
    "        U_2 = new_ratings @ (R_norm.T @ R_norm)\n",
    "        U_1 = new_ratings @  (self.d_mat_i @ self.vt.T @ self.vt @ self.d_mat_i_inv)\n",
    "        predict = U_2 + U_1\n",
    "        predict[np.isnan(predict)] = 0\n",
    "        return predict\n",
    "\n",
    "    def recommend_top_k(self, interactions: sp.coo_matrix, k=20):\n",
    "        \"\"\"\n",
    "        Предполагается нумерация айтемов с 0, иначе не будет работать argsort\n",
    "        \"\"\"\n",
    "        ranks = self.predict(interactions)\n",
    "        ranks[interactions.nonzero()] = -1e5  # exclude seen items\n",
    "        return np.asarray(np.argsort(-ranks, axis=1)[:, :k])"
   ]
  },
  {
   "cell_type": "markdown",
   "metadata": {
    "cellId": "rvy4mdhwe7n5j74swzi8l",
    "execution_id": "551fbf7d-fc57-44a2-9a11-8555b8ad929e",
    "pycharm": {
     "name": "#%% md\n"
    }
   },
   "source": [
    "### Amazon Books"
   ]
  },
  {
   "cell_type": "code",
   "execution_count": 182,
   "metadata": {
    "cellId": "8qj6naq7fgcts9oaj7nlgp",
    "pycharm": {
     "name": "#%%\n"
    }
   },
   "outputs": [
    {
     "name": "stdout",
     "output_type": "stream",
     "text": [
      "CPU times: user 2.63 s, sys: 632 ms, total: 3.26 s\n",
      "Wall time: 10.8 s\n"
     ]
    }
   ],
   "source": [
    "#!c1.8\n",
    "%%time\n",
    "K = 20\n",
    "\n",
    "gf_cf = GF_CF(amazon.train_interactions)\n",
    "gf_cf.fit(64)"
   ]
  },
  {
   "cell_type": "code",
   "execution_count": 183,
   "metadata": {
    "cellId": "oye3afvga4hndz4qlmct",
    "pycharm": {
     "name": "#%%\n"
    }
   },
   "outputs": [
    {
     "name": "stdout",
     "output_type": "stream",
     "text": [
      "CPU times: user 4min 13s, sys: 1min 59s, total: 6min 12s\n",
      "Wall time: 5min 12s\n"
     ]
    }
   ],
   "source": [
    "#!c1.8\n",
    "%%time\n",
    "ranks = gf_cf.predict(amazon.observed_interactions)\n",
    "recs = gf_cf.recommend_top_k(amazon.observed_interactions, K)"
   ]
  },
  {
   "cell_type": "code",
   "execution_count": 185,
   "metadata": {
    "cellId": "0m6a5l2g7kiib9zuvfj8x",
    "pycharm": {
     "name": "#%%\n"
    }
   },
   "outputs": [
    {
     "name": "stdout",
     "output_type": "stream",
     "text": [
      "====== GF-CF ======\n",
      "Precision = 0.15146\n",
      "Recall = 0.07636\n",
      "NDCG = 0.63409\n",
      "CPU times: user 1min 48s, sys: 10.6 s, total: 1min 59s\n",
      "Wall time: 1min 56s\n"
     ]
    }
   ],
   "source": [
    "#!c1.8\n",
    "%%time\n",
    "# VALUATION\n",
    "y_true = np.array([amazon.future_interactions[i].nonzero()[1] for i in range(amazon.n_test_users)], dtype='object')\n",
    "print('====== GF-CF ======')\n",
    "print(f'Precision = {precision_at_k(recs, y_true).round(5)}')\n",
    "print(f'Recall = {recall_at_k(recs, y_true).round(5)}')\n",
    "print(f'NDCG = {ndcg_score(np.array(ranks), np.array(amazon.future_interactions.todense())).round(5)}')"
   ]
  },
  {
   "cell_type": "code",
   "execution_count": 191,
   "metadata": {
    "cellId": "pjjtf93i8ql3rhezjs0y96",
    "pycharm": {
     "name": "#%%\n"
    }
   },
   "outputs": [
    {
     "name": "stdout",
     "output_type": "stream",
     "text": [
      "Background cell scheduled. Waiting for foreground cells to finish commits\n",
      "Preparing c1.8 instance...\n",
      "c1.8 instance is ready, running task...\n",
      "====== GF-CF ======\n",
      "Precision = 0.15146\n",
      "Recall = 0.07636\n",
      "NDCG = 0.63409\n",
      "Task is done, waiting for foreground cells to finish...\n",
      "Merging task result to the state\n"
     ]
    }
   ],
   "source": [
    "#pragma async\n",
    "#!c1.8\n",
    "\n",
    "# %%time\n",
    "# VALUATION\n",
    "y_true = np.array([amazon.future_interactions[i].nonzero()[1] for i in range(amazon.n_test_users)], dtype='object')\n",
    "print('====== GF-CF ======')\n",
    "print(f'Precision = {precision_at_k(recs, y_true).round(5)}')\n",
    "print(f'Recall = {recall_at_k(recs, y_true).round(5)}')\n",
    "print(f'NDCG = {ndcg_score(np.array(ranks), np.array(amazon.future_interactions.todense())).round(5)}')"
   ]
  },
  {
   "cell_type": "markdown",
   "metadata": {
    "cellId": "wlzdy31c12r238ibfs2y48",
    "pycharm": {
     "name": "#%% md\n"
    }
   },
   "source": [
    "### MovieLens1M"
   ]
  },
  {
   "cell_type": "code",
   "execution_count": 193,
   "metadata": {
    "cellId": "fhs1qyiwtf3bw0h716ssx",
    "collapsed": false,
    "execution_id": "ab090f27-6709-471a-8e26-fb737d389576",
    "jupyter": {
     "outputs_hidden": false
    },
    "pycharm": {
     "name": "#%%\n"
    }
   },
   "outputs": [
    {
     "name": "stdout",
     "output_type": "stream",
     "text": [
      "Background cell scheduled. Waiting for foreground cells to finish commits\n",
      "Preparing c1.4 instance...\n",
      "c1.4 instance is ready, running task...\n",
      "====== GF-CF ======\n",
      "Precision = 0.5741\n",
      "Recall = 0.13183\n",
      "NDCG = 0.76224\n",
      "Task is done, waiting for foreground cells to finish...\n",
      "Merging task result to the state\n"
     ]
    }
   ],
   "source": [
    "#pragma async\n",
    "#!c1.4\n",
    "K = 20\n",
    "\n",
    "gf_cf = GF_CF(mov.train_interactions)\n",
    "gf_cf.fit(64)\n",
    "ranks = gf_cf.predict(mov.observed_interactions)\n",
    "recs = gf_cf.recommend_top_k(mov.observed_interactions, K)\n",
    "\n",
    "# VALUATION\n",
    "y_true = np.array([mov.future_interactions[i].nonzero()[1] for i in range(mov.n_test_users)], dtype='object')\n",
    "# print(f'NDGC score = {ndcg_score(np.array(ranks), np.array(mov.future_interactions.todense())).round(5)}')\n",
    "print('====== GF-CF ======')\n",
    "print(f'Precision = {precision_at_k(recs, y_true).round(5)}')\n",
    "print(f'Recall = {recall_at_k(recs, y_true).round(5)}')\n",
    "print(f'NDCG = {ndcg_score(np.array(ranks), np.array(mov.future_interactions.todense())).round(5)}')"
   ]
  },
  {
   "cell_type": "markdown",
   "metadata": {
    "cellId": "natsny71mpo4y7ryns8vr",
    "execution_id": "dfd69243-3e89-461e-b145-92e79b011633",
    "jupyter": {
     "outputs_hidden": false
    },
    "pycharm": {
     "name": "#%% md\n"
    }
   },
   "source": [
    "# LGCN-E"
   ]
  },
  {
   "cell_type": "code",
   "execution_count": 753,
   "metadata": {
    "cellId": "ep45a5ph2lm9q6h9j1m139"
   },
   "outputs": [],
   "source": [
    "import torch"
   ]
  },
  {
   "cell_type": "code",
   "execution_count": 225,
   "metadata": {
    "cellId": "hnbaqq7728hno2dh2t7btl"
   },
   "outputs": [
    {
     "data": {
      "text/plain": [
       "'10.2'"
      ]
     },
     "execution_count": 225,
     "metadata": {},
     "output_type": "execute_result"
    }
   ],
   "source": [
    "torch.version.cuda"
   ]
  },
  {
   "cell_type": "code",
   "execution_count": 224,
   "metadata": {
    "cellId": "pgfcv1x2bojwxzgwo6lqwa"
   },
   "outputs": [
    {
     "data": {
      "text/plain": [
       "'1.11.0+cu102'"
      ]
     },
     "execution_count": 224,
     "metadata": {},
     "output_type": "execute_result"
    }
   ],
   "source": [
    "torch.__version__"
   ]
  },
  {
   "cell_type": "code",
   "execution_count": 579,
   "metadata": {
    "cellId": "ylbvqrr26i6gxi9j5jduj",
    "collapsed": true,
    "jupyter": {
     "outputs_hidden": true
    }
   },
   "outputs": [
    {
     "name": "stdout",
     "output_type": "stream",
     "text": [
      "Found existing installation: torch-spline-conv 1.2.1\n",
      "Uninstalling torch-spline-conv-1.2.1:\n",
      "  Successfully uninstalled torch-spline-conv-1.2.1\n",
      "\u001B[31mERROR: Exception:\n",
      "Traceback (most recent call last):\n",
      "  File \"/usr/local/lib/python3.8/dist-packages/pip/_internal/cli/base_command.py\", line 164, in exc_logging_wrapper\n",
      "    status = run_func(*args)\n",
      "  File \"/usr/local/lib/python3.8/dist-packages/pip/_internal/commands/uninstall.py\", line 102, in run\n",
      "    uninstall_pathset.commit()\n",
      "  File \"/usr/local/lib/python3.8/dist-packages/pip/_internal/req/req_uninstall.py\", line 435, in commit\n",
      "    self._moved_paths.commit()\n",
      "  File \"/usr/local/lib/python3.8/dist-packages/pip/_internal/req/req_uninstall.py\", line 288, in commit\n",
      "    save_dir.cleanup()\n",
      "  File \"/usr/local/lib/python3.8/dist-packages/pip/_internal/utils/temp_dir.py\", line 173, in cleanup\n",
      "    rmtree(self._path)\n",
      "  File \"/usr/local/lib/python3.8/dist-packages/pip/_vendor/tenacity/__init__.py\", line 326, in wrapped_f\n",
      "    return self(f, *args, **kw)\n",
      "  File \"/usr/local/lib/python3.8/dist-packages/pip/_vendor/tenacity/__init__.py\", line 406, in __call__\n",
      "    do = self.iter(retry_state=retry_state)\n",
      "  File \"/usr/local/lib/python3.8/dist-packages/pip/_vendor/tenacity/__init__.py\", line 362, in iter\n",
      "    raise retry_exc.reraise()\n",
      "  File \"/usr/local/lib/python3.8/dist-packages/pip/_vendor/tenacity/__init__.py\", line 195, in reraise\n",
      "    raise self.last_attempt.result()\n",
      "  File \"/usr/lib/python3.8/concurrent/futures/_base.py\", line 437, in result\n",
      "    return self.__get_result()\n",
      "  File \"/usr/lib/python3.8/concurrent/futures/_base.py\", line 389, in __get_result\n",
      "    raise self._exception\n",
      "  File \"/usr/local/lib/python3.8/dist-packages/pip/_vendor/tenacity/__init__.py\", line 409, in __call__\n",
      "    result = fn(*args, **kwargs)\n",
      "  File \"/usr/local/lib/python3.8/dist-packages/pip/_internal/utils/misc.py\", line 126, in rmtree\n",
      "    shutil.rmtree(dir, ignore_errors=ignore_errors, onerror=rmtree_errorhandler)\n",
      "  File \"/usr/lib/python3.8/shutil.py\", line 718, in rmtree\n",
      "    _rmtree_safe_fd(fd, path, onerror)\n",
      "  File \"/usr/lib/python3.8/shutil.py\", line 675, in _rmtree_safe_fd\n",
      "    onerror(os.unlink, fullname, sys.exc_info())\n",
      "  File \"/usr/lib/python3.8/shutil.py\", line 673, in _rmtree_safe_fd\n",
      "    os.unlink(entry.name, dir_fd=topfd)\n",
      "OSError: [Errno 16] Device or resource busy: '.nfs000000000000311b00000001'\u001B[0m\n"
     ]
    }
   ],
   "source": [
    "%pip uninstall torch_spline_conv"
   ]
  },
  {
   "cell_type": "code",
   "execution_count": 572,
   "metadata": {
    "cellId": "rfj7gw2dgnhidzqbuzmll",
    "collapsed": true,
    "jupyter": {
     "outputs_hidden": true
    }
   },
   "outputs": [
    {
     "name": "stdout",
     "output_type": "stream",
     "text": [
      "Defaulting to user installation because normal site-packages is not writeable\n",
      "Looking in links: https://data.pyg.org/whl/torch-1.11.0+cu102.html\n",
      "Requirement already satisfied: torch-scatter in /home/jupyter/.local/lib/python3.8/site-packages (2.0.9)\n",
      "Requirement already satisfied: torch-sparse in /home/jupyter/.local/lib/python3.8/site-packages (0.6.13)\n",
      "Requirement already satisfied: torch-cluster in /home/jupyter/.local/lib/python3.8/site-packages (1.6.0)\n",
      "Requirement already satisfied: torch-spline-conv in /home/jupyter/.local/lib/python3.8/site-packages (1.2.1)\n",
      "Requirement already satisfied: torch-geometric in /home/jupyter/.local/lib/python3.8/site-packages (2.0.4)\n",
      "Requirement already satisfied: scipy in /usr/local/lib/python3.8/dist-packages (from torch-sparse) (1.4.1)\n",
      "Requirement already satisfied: pandas in /usr/local/lib/python3.8/dist-packages (from torch-geometric) (0.25.3)\n",
      "Requirement already satisfied: requests in /kernel/lib/python3.8/site-packages (from torch-geometric) (2.25.1)\n",
      "Requirement already satisfied: scikit-learn in /home/jupyter/.local/lib/python3.8/site-packages (from torch-geometric) (1.1.1)\n",
      "Requirement already satisfied: tqdm in /usr/local/lib/python3.8/dist-packages (from torch-geometric) (4.50.0)\n",
      "Requirement already satisfied: jinja2 in /kernel/lib/python3.8/site-packages (from torch-geometric) (3.1.2)\n",
      "Requirement already satisfied: pyparsing in /kernel/lib/python3.8/site-packages (from torch-geometric) (2.4.7)\n",
      "Requirement already satisfied: numpy in /kernel/fallback/lib/python3.8/site-packages (from torch-geometric) (1.19.4)\n",
      "Requirement already satisfied: MarkupSafe>=2.0 in /kernel/lib/python3.8/site-packages (from jinja2->torch-geometric) (2.1.1)\n",
      "Requirement already satisfied: pytz>=2017.2 in /usr/local/lib/python3.8/dist-packages (from pandas->torch-geometric) (2021.3)\n",
      "Requirement already satisfied: python-dateutil>=2.6.1 in /kernel/lib/python3.8/site-packages (from pandas->torch-geometric) (2.8.2)\n",
      "Requirement already satisfied: certifi>=2017.4.17 in /kernel/lib/python3.8/site-packages (from requests->torch-geometric) (2022.5.18.1)\n",
      "Requirement already satisfied: idna<3,>=2.5 in /kernel/lib/python3.8/site-packages (from requests->torch-geometric) (2.10)\n",
      "Requirement already satisfied: urllib3<1.27,>=1.21.1 in /kernel/lib/python3.8/site-packages (from requests->torch-geometric) (1.26.9)\n",
      "Requirement already satisfied: chardet<5,>=3.0.2 in /kernel/lib/python3.8/site-packages (from requests->torch-geometric) (4.0.0)\n",
      "Requirement already satisfied: joblib>=1.0.0 in /usr/local/lib/python3.8/dist-packages (from scikit-learn->torch-geometric) (1.1.0)\n",
      "Requirement already satisfied: threadpoolctl>=2.0.0 in /home/jupyter/.local/lib/python3.8/site-packages (from scikit-learn->torch-geometric) (3.1.0)\n",
      "Requirement already satisfied: six>=1.5 in /kernel/lib/python3.8/site-packages (from python-dateutil>=2.6.1->pandas->torch-geometric) (1.16.0)\n",
      "\u001B[33mWARNING: You are using pip version 21.3.1; however, version 22.1.2 is available.\n",
      "You should consider upgrading via the '/usr/local/bin/python3 -m pip install --upgrade pip' command.\u001B[0m\n"
     ]
    }
   ],
   "source": [
    "%pip install torch-scatter torch-sparse torch-cluster torch-spline-conv torch-geometric -f https://data.pyg.org/whl/torch-1.11.0+cu102.html"
   ]
  },
  {
   "cell_type": "code",
   "execution_count": 580,
   "metadata": {
    "cellId": "j89yflaqg7es3bv1k2u3d",
    "collapsed": true,
    "jupyter": {
     "outputs_hidden": true
    }
   },
   "outputs": [
    {
     "name": "stdout",
     "output_type": "stream",
     "text": [
      "Defaulting to user installation because normal site-packages is not writeable\n",
      "Looking in links: https://pytorch-geometric.com/whl/torch-1.11.0+cu102.html\n",
      "Collecting torch_spline_conv\n",
      "  Downloading https://data.pyg.org/whl/torch-1.11.0%2Bcu102/torch_spline_conv-1.2.1-cp38-cp38-linux_x86_64.whl (672 kB)\n",
      "     |████████████████████████████████| 672 kB 286 kB/s            \n",
      "\u001B[?25hInstalling collected packages: torch-spline-conv\n",
      "Successfully installed torch-spline-conv-1.2.1\n",
      "\u001B[33mWARNING: You are using pip version 21.3.1; however, version 22.1.2 is available.\n",
      "You should consider upgrading via the '/usr/local/bin/python3 -m pip install --upgrade pip' command.\u001B[0m\n"
     ]
    }
   ],
   "source": [
    "%pip install torch_spline_conv -f https://pytorch-geometric.com/whl/torch-1.11.0+cu102.html"
   ]
  },
  {
   "cell_type": "markdown",
   "metadata": {
    "cellId": "g5pennypizczlg05knqbua",
    "execution_id": "cf225186-0741-49bc-8605-6e4525c3243c"
   },
   "source": [
    "Detected that PyTorch and torch_cluster were compiled with different CUDA versions. \n",
    "\n",
    "PyTorch has CUDA version 10.2 and torch_cluster has CUDA version 11.3. \n",
    "\n",
    "Please reinstall the torch_cluster that matches your PyTorch install."
   ]
  },
  {
   "cell_type": "code",
   "execution_count": 754,
   "metadata": {
    "cellId": "ooa2ylbfgfdv76tsh63yl"
   },
   "outputs": [],
   "source": [
    "from torch_geometric.nn import MessagePassing\n",
    "from torch_geometric.utils import degree, negative_sampling"
   ]
  },
  {
   "cell_type": "code",
   "execution_count": 755,
   "metadata": {
    "cellId": "minxtv6i5hba53a7ln15"
   },
   "outputs": [],
   "source": [
    "import wandb\n",
    "import torch.nn.functional as F\n",
    "from torch.utils.tensorboard import SummaryWriter"
   ]
  },
  {
   "cell_type": "code",
   "execution_count": 756,
   "metadata": {
    "cellId": "aobq143sfdg474uun6uuuo"
   },
   "outputs": [],
   "source": [
    "class SimpleProp(MessagePassing):\n",
    "    def __init__(self, **kwargs):\n",
    "        super().__init__(**kwargs)\n",
    "\n",
    "    def forward(self, x, edge_index, size):\n",
    "        return self.propagate(edge_index, x=x, size=size)\n",
    "\n",
    "    def message(self, x_j):\n",
    "        return x_j\n",
    "    \n",
    "\n",
    "class LGCN_U(torch.nn.Module):\n",
    "    def __init__(self, n_users, emb_dim, alphas=(1, 1), normalize=False, **kwargs):\n",
    "        super().__init__()\n",
    "        self.m = n_users\n",
    "        self.normalize = normalize\n",
    "        self.alphas = alphas\n",
    "        self.U_0 = torch.nn.Embedding(self.m, emb_dim)\n",
    "        self.layer_1 = SimpleProp(**kwargs)  # E_1 = R.T @ U\n",
    "        self.layer_2 = SimpleProp(**kwargs)  # U_2 = R @ E_1\n",
    "        self.layer_3 = SimpleProp(**kwargs)  # E_3 = R @ U_2\n",
    "\n",
    "    def get_embeddings(self, edge_index, n=None):\n",
    "        \"\"\"\n",
    "        Propagate messages through the graph and return fused final embeddings of users ans items: U, E.\n",
    "\n",
    "        Parameters:\n",
    "        ----------\n",
    "        edge_index : Tensor\n",
    "            Edge tensor specifying the connectivity of the graph\n",
    "        n : int (optional)\n",
    "            Number of items\n",
    "\n",
    "        Returns:\n",
    "        -------\n",
    "            U : Tensor\n",
    "                User embeddings of shape (m, emb_dim)\n",
    "            E : Tensor\n",
    "                Item embeddings of shape (n, emb_dim)\n",
    "        \"\"\"\n",
    "        if n is None:\n",
    "            n = edge_index[1].max().item() + 1\n",
    "        m = self.m\n",
    "\n",
    "        if self.normalize:\n",
    "            inv_sqrt_user_degrees = degree(edge_index[0]).pow(-0.5)\n",
    "            inv_sqrt_item_degrees = degree(edge_index[1]).pow(-0.5)\n",
    "            # inv_norm = inv_sqrt_user_degrees * inv_sqrt_item_degrees\n",
    "        else:\n",
    "            inv_sqrt_item_degrees = torch.Tensor(1)\n",
    "            inv_sqrt_user_degrees = torch.Tensor(1)\n",
    "\n",
    "        E_1 = self.layer_1.forward(self.U_0.weight, edge_index=edge_index, size=(m, n)) * inv_sqrt_item_degrees.view(-1, 1)\n",
    "        U_2 = self.layer_2.forward(E_1, edge_index[[1, 0], :], size=(n, m)) * inv_sqrt_user_degrees.view(-1, 1)\n",
    "        E_3 = self.layer_3.forward(U_2, edge_index, size=(m, n)) * inv_sqrt_item_degrees.view(-1, 1)\n",
    "\n",
    "        E = 0.5 * (E_1 + E_3)\n",
    "        U = 0.5 * (self.U_0.weight + U_2)\n",
    "        return U, E\n",
    "\n",
    "    def forward(self, edge_index, edge_label_index, n_items=None):\n",
    "        \"\"\"\n",
    "        Computes rankings for pairs of nodes using learned user embeddings.\n",
    "\n",
    "        Parameters\n",
    "        ----------\n",
    "        edge_index: Tensor\n",
    "            Edge tensor specifying the connectivity of the graph\n",
    "        edge_label_index: Tensor, optional\n",
    "            Edge tensor specifying the node pairs for which to compute rankings or probabilities\n",
    "        n_items: int (optional)\n",
    "            Number of items\n",
    "\n",
    "        Returns\n",
    "        -------\n",
    "        scores : Tensor\n",
    "            Scores of edges of shape (edge_index_label, ).\n",
    "        \"\"\"\n",
    "        if edge_label_index is None:\n",
    "            edge_label_index = edge_index\n",
    "\n",
    "        U, E = self.get_embeddings(edge_index, n=n_items)\n",
    "        src = U[edge_label_index[0]]\n",
    "        dst = E[edge_label_index[1]]\n",
    "        return (src * dst).sum(dim=-1)\n",
    "\n",
    "    def recommend_top_k(self, n):\n",
    "        pass"
   ]
  },
  {
   "cell_type": "markdown",
   "metadata": {
    "cellId": "z3zplkvg2eqbi5d27c0f",
    "execution_id": "fe65ddc6-30a6-4bda-b50c-61b957a16a68"
   },
   "source": [
    "### Amazon Books"
   ]
  },
  {
   "cell_type": "code",
   "execution_count": 757,
   "metadata": {
    "cellId": "hu6y5vk0c15uhzjujt6tw"
   },
   "outputs": [],
   "source": [
    "class GraphDataset(AlsDataset):\n",
    "    def build_interaction_graph(self):\n",
    "        if not hasattr(self, '_df_train'):\n",
    "            raise AttributeError('Perform train_test_split() before build_interaction_graph()')\n",
    "\n",
    "        pos_edges = torch.LongTensor(self._df_train[['item_id', 'user_id']].values.T)\n",
    "\n",
    "        test_observed_edges = torch.LongTensor(self._test_observed[['item_id', 'user_id']].values.T)\n",
    "        test_observed_edges[1] += self.n_train_users\n",
    "\n",
    "        test_future_edges = torch.LongTensor(self._test_future[['item_id', 'user_id']].values.T)\n",
    "        test_future_edges[1] += self.n_train_users\n",
    "\n",
    "        self.pos_edges = pos_edges\n",
    "        self.test_observed_edges = test_observed_edges\n",
    "        self.test_future_edges  = test_future_edges\n",
    "        self.n_test_users = len(test_observed_edges[1].unique())\n",
    "\n",
    "    def train_val_split(self, val_ratio=0.1):\n",
    "        \"\"\"\n",
    "        Split edges so that all users presence both in train in validation splits.\n",
    "        Cut specified ratio of edges for each user, providing balanced partitioning.\n",
    "\n",
    "        Parameters:\n",
    "        ----------\n",
    "        val_ratio: float\n",
    "            Share of validation edges in all positive edges of the given graph\n",
    "\n",
    "        Returns:\n",
    "        -------\n",
    "        train_edges: LongTensor\n",
    "        val_edges: LongTensor\n",
    "        \"\"\"\n",
    "        torch.manual_seed(42)\n",
    "        val_edges = []\n",
    "        train_edges = []\n",
    "        for user in self.pos_edges[0].unique():\n",
    "            edges = self.pos_edges[:, self.pos_edges[0] == user]\n",
    "            n_items = edges.shape[1]\n",
    "            edges = edges[:, torch.randperm(n_items)]\n",
    "            if n_items == 1:\n",
    "                thr = 1\n",
    "            else:\n",
    "                thr = int(n_items * (1-val_ratio))\n",
    "            train_edges.append(edges[:, :thr])\n",
    "            val_edges.append(edges[:, thr:])\n",
    "\n",
    "        val_edges = torch.cat(val_edges, dim=1)\n",
    "        train_edges = torch.cat(train_edges, dim=1)\n",
    "        # return train_edges, val_edges\n",
    "        self.train_edges = train_edges\n",
    "        self.val_edges = val_edges"
   ]
  },
  {
   "cell_type": "code",
   "execution_count": 812,
   "metadata": {
    "cellId": "mtpqz4rczmfpyg1cyk0o8r"
   },
   "outputs": [],
   "source": [
    "def train_amazon(n_epoch):\n",
    "    for i in tqdm(range(n_epoch)):\n",
    "        opt.zero_grad()\n",
    "        neg_train_edges = negative_sampling(train_edges, num_neg_samples=train_edges.shape[1], num_nodes=(model.m, amazon.n_train_users)).to(device)\n",
    "        neg_val_edges = negative_sampling(pos_edges, num_neg_samples=val_edges.shape[1], num_nodes=(model.m, amazon.n_train_users)).to(device)\n",
    "\n",
    "        train_scores = model.forward(edge_index=train_edges, edge_label_index=train_edges, n_items=amazon.n_train_users)\n",
    "        neg_scores = model.forward(edge_index=train_edges, edge_label_index=neg_train_edges, n_items=amazon.n_train_users)\n",
    "\n",
    "        val_scores = model.forward(edge_index=train_edges, edge_label_index=val_edges, n_items=amazon.n_train_users)\n",
    "        neg_val_scores = model.forward(edge_index=train_edges, edge_label_index=neg_val_edges, n_items=amazon.n_train_users)\n",
    "\n",
    "        # ==== TEST ====\n",
    "        neg_test_edges = negative_sampling(_tfe, num_nodes=(model.m, amazon._test_observed['user_id'].nunique()))\n",
    "        neg_test_edges[1] += amazon.n_train_users\n",
    "\n",
    "        test_scores = model.forward(edge_index=torch.cat([pos_edges, test_observed_edges], dim=1),\n",
    "                                    edge_label_index=test_future_edges, n_items=test_observed_edges[1].max().item() + 1)\n",
    "\n",
    "        neg_test_scores = model.forward(edge_index=torch.cat([pos_edges, test_observed_edges], dim=1),\n",
    "                                       edge_label_index=neg_test_edges, n_items=test_observed_edges[1].max().item() + 1)\n",
    "\n",
    "        train_loss = torch.mean(F.softplus(neg_scores - train_scores))\n",
    "        val_loss = torch.mean(F.softplus(neg_val_scores - val_scores))\n",
    "        test_loss = torch.mean(F.softplus(neg_test_scores - test_scores))\n",
    "\n",
    "        train_acc = (train_scores > neg_scores).float().mean()\n",
    "        val_acc = (val_scores > neg_val_scores).float().mean()\n",
    "        test_acc = (test_scores > neg_test_scores).float().mean()\n",
    "\n",
    "#         if i % 3 == 0:\n",
    "#             print(f'Train loss = {train_loss}, val_loss = {val_loss}, test_loss = {test_loss}, test_acc={test_acc}')\n",
    "        train_loss.backward()\n",
    "        opt.step()\n",
    "        wandb.log({'loss': {'train': train_loss, 'val': val_loss, 'test': test_loss}, \n",
    "                   'acc': {'train': train_acc, 'val': val_acc, 'test': test_acc}})"
   ]
  },
  {
   "cell_type": "code",
   "execution_count": 759,
   "metadata": {
    "cellId": "fxk09axnnyjps0oo009yg"
   },
   "outputs": [
    {
     "name": "stdout",
     "output_type": "stream",
     "text": [
      "cpu\n"
     ]
    }
   ],
   "source": [
    "device = torch.device(\"cuda:0\" if torch.cuda.is_available() else \"cpu\")\n",
    "print(device)"
   ]
  },
  {
   "cell_type": "code",
   "execution_count": 760,
   "metadata": {
    "cellId": "vxz0m816z4uqk1zuh6epp"
   },
   "outputs": [
    {
     "name": "stdout",
     "output_type": "stream",
     "text": [
      "Sparsity = 99.856%\n",
      "Users: 35736,    Items: 38121\n"
     ]
    }
   ],
   "source": [
    "amazon = GraphDataset('amazon_20_core.csv.gz', usecols=['user_id', 'item_id', 'rating'])\n",
    "# print(amazon.df.nunique())"
   ]
  },
  {
   "cell_type": "code",
   "execution_count": 761,
   "metadata": {
    "cellId": "d4ot95xgpgds1e7pfpob8"
   },
   "outputs": [
    {
     "name": "stdout",
     "output_type": "stream",
     "text": [
      "CPU times: user 2min 34s, sys: 592 ms, total: 2min 34s\n",
      "Wall time: 1min 17s\n"
     ]
    }
   ],
   "source": [
    "%%time\n",
    "amazon.train_test_split()\n",
    "amazon.build_sparse_interaction_matrix()\n",
    "amazon.build_interaction_graph()\n",
    "amazon.train_val_split()"
   ]
  },
  {
   "cell_type": "code",
   "execution_count": null,
   "metadata": {
    "cellId": "br1yijbg9xud72bnh5zik8"
   },
   "outputs": [],
   "source": [
    "model.m, (amazon.n_train_users, amazon.n_test_users)"
   ]
  },
  {
   "cell_type": "raw",
   "metadata": {
    "cellId": "ylir6ri3izgxcp8hglg3vb"
   },
   "source": [
    "#!g1.1\n",
    "from numba import cuda\n",
    "cuda.select_device(0)\n",
    "cuda.close()\n",
    "cuda.select_device(0)"
   ]
  },
  {
   "cell_type": "code",
   "execution_count": 800,
   "metadata": {
    "cellId": "np2ggcqg2r1tff43ka7sm",
    "collapsed": true,
    "jupyter": {
     "outputs_hidden": true
    }
   },
   "outputs": [
    {
     "name": "stdout",
     "output_type": "stream",
     "text": [
      "<class 'torch.Tensor'> torch.Size([2, 1466055])\n",
      "<class 'torch.Tensor'> torch.Size([2, 1302808])\n",
      "<class 'torch.Tensor'> torch.Size([2, 163247])\n",
      "<class 'torch.Tensor'> torch.Size([2, 49461])\n",
      "<class 'torch.Tensor'> torch.Size([2, 436309])\n",
      "<class 'torch.Tensor'> torch.Size([2, 436309])\n",
      "<class 'torch.Tensor'> torch.Size([2, 1466055])\n",
      "<class 'torch.Tensor'> torch.Size([2, 49461])\n",
      "<class 'torch.Tensor'> torch.Size([2, 436309])\n",
      "<class 'torch.Tensor'> torch.Size([2, 1302808])\n",
      "<class 'torch.Tensor'> torch.Size([2, 163247])\n",
      "<class 'torch.Tensor'> torch.Size([38121, 512])\n",
      "<class 'torch.Tensor'> torch.Size([38121, 512])\n",
      "<class 'torch.Tensor'> torch.Size([38121, 512])\n",
      "<class 'torch.nn.parameter.Parameter'> torch.Size([38121, 512])\n",
      "<class 'torch.Tensor'> torch.Size([19])\n"
     ]
    },
    {
     "name": "stderr",
     "output_type": "stream",
     "text": [
      "<ipython-input-39-92dd34142853>:3: DeprecationWarning: 'utils.HTMLBuilder' is deprecated and will be removed in Werkzeug 2.1.\n",
      "  if torch.is_tensor(obj) or (hasattr(obj, 'data') and torch.is_tensor(obj.data)):\n"
     ]
    }
   ],
   "source": [
    "#!g1.1\n",
    "for obj in gc.get_objects():\n",
    "    try:\n",
    "        if torch.is_tensor(obj) or (hasattr(obj, 'data') and torch.is_tensor(obj.data)):\n",
    "            print(type(obj), obj.size())\n",
    "    except:\n",
    "        pass"
   ]
  },
  {
   "cell_type": "code",
   "execution_count": 818,
   "metadata": {
    "cellId": "xhyogx0qcjrfq95ekuqao6"
   },
   "outputs": [],
   "source": [
    "#!g1.1\n",
    "del model, new_scores, _U, _E\n",
    "gc.collect()\n",
    "torch.cuda.empty_cache()"
   ]
  },
  {
   "cell_type": "code",
   "execution_count": 821,
   "metadata": {
    "cellId": "oe11qovl4qiuzf9em9kg08"
   },
   "outputs": [
    {
     "name": "stdout",
     "output_type": "stream",
     "text": [
      "Fri Jun 24 22:41:12 2022       \n",
      "+-----------------------------------------------------------------------------+\n",
      "| NVIDIA-SMI 460.91.03    Driver Version: 460.91.03    CUDA Version: 11.2     |\n",
      "|-------------------------------+----------------------+----------------------+\n",
      "| GPU  Name        Persistence-M| Bus-Id        Disp.A | Volatile Uncorr. ECC |\n",
      "| Fan  Temp  Perf  Pwr:Usage/Cap|         Memory-Usage | GPU-Util  Compute M. |\n",
      "|                               |                      |               MIG M. |\n",
      "|===============================+======================+======================|\n",
      "|   0  Tesla V100-SXM2...  Off  | 00000000:8C:00.0 Off |                    0 |\n",
      "| N/A   42C    P0    48W / 300W |      4MiB / 32510MiB |      0%      Default |\n",
      "|                               |                      |                  N/A |\n",
      "+-------------------------------+----------------------+----------------------+\n",
      "                                                                               \n",
      "+-----------------------------------------------------------------------------+\n",
      "| Processes:                                                                  |\n",
      "|  GPU   GI   CI        PID   Type   Process name                  GPU Memory |\n",
      "|        ID   ID                                                   Usage      |\n",
      "|=============================================================================|\n",
      "|  No running processes found                                                 |\n",
      "+-----------------------------------------------------------------------------+\n"
     ]
    }
   ],
   "source": [
    "#!g1.1\n",
    "!nvidia-smi"
   ]
  },
  {
   "cell_type": "code",
   "execution_count": 827,
   "metadata": {
    "cellId": "wtpq0e9j0nry6cghn5ad3"
   },
   "outputs": [
    {
     "name": "stderr",
     "output_type": "stream",
     "text": [
      "Failed to detect the name of this notebook, you can set it manually with the WANDB_NOTEBOOK_NAME environment variable to enable code saving.\n",
      "\u001B[34m\u001B[1mwandb\u001B[0m: Currently logged in as: \u001B[33milyaind\u001B[0m. Use \u001B[1m`wandb login --relogin`\u001B[0m to force relogin\n"
     ]
    },
    {
     "data": {
      "text/html": [
       "Tracking run with wandb version 0.12.19"
      ],
      "text/plain": [
       "<IPython.core.display.HTML object>"
      ]
     },
     "metadata": {},
     "output_type": "display_data"
    },
    {
     "data": {
      "text/html": [
       "Run data is saved locally in <code>/home/jupyter/work/resources/recsys/wandb/run-20220624_230128-uofm1t44</code>"
      ],
      "text/plain": [
       "<IPython.core.display.HTML object>"
      ]
     },
     "metadata": {},
     "output_type": "display_data"
    },
    {
     "data": {
      "text/html": [
       "Syncing run <strong><a href=\"https://wandb.ai/ilyaind/course_work/runs/uofm1t44\" target=\"_blank\">prime-aardvark-28</a></strong> to <a href=\"https://wandb.ai/ilyaind/course_work\" target=\"_blank\">Weights & Biases</a> (<a href=\"https://wandb.me/run\" target=\"_blank\">docs</a>)<br/>"
      ],
      "text/plain": [
       "<IPython.core.display.HTML object>"
      ]
     },
     "metadata": {},
     "output_type": "display_data"
    },
    {
     "data": {
      "application/vnd.jupyter.widget-view+json": {
       "model_id": "570a2fc6e0854be89a5d3bc786d3a1a1",
       "version_major": 2,
       "version_minor": 0
      },
      "text/plain": [
       "HBox(children=(HTML(value=''), FloatProgress(value=0.0, max=250.0), HTML(value='')))"
      ]
     },
     "metadata": {},
     "output_type": "display_data"
    },
    {
     "name": "stdout",
     "output_type": "stream",
     "text": [
      "\n"
     ]
    }
   ],
   "source": [
    "#!g1.1\n",
    "device = torch.device(\"cuda:0\" if torch.cuda.is_available() else \"cpu\")\n",
    "\n",
    "pos_edges = amazon.pos_edges.to(device)\n",
    "train_edges = amazon.train_edges.to(device)\n",
    "val_edges = amazon.val_edges.to(device)\n",
    "test_observed_edges = amazon.test_observed_edges.to(device)\n",
    "test_future_edges = amazon.test_future_edges.to(device)\n",
    "_tfe = test_future_edges.clone().to(device)\n",
    "_tfe[1] -= amazon.n_train_users\n",
    "\n",
    "config = dict(lr = 3e-4, \n",
    "              emb_dim = 256,\n",
    "              device = device\n",
    "             )\n",
    "wandb.init(project=\"course_work\", entity=\"ilyaind\", config=config, reinit=True)\n",
    "model = LGCN_U(n_users=amazon.n_items, emb_dim=config['emb_dim'], normalize=True).to(device)\n",
    "opt = torch.optim.Adam(model.parameters(), lr=config['lr'])\n",
    "train_amazon(250)"
   ]
  },
  {
   "cell_type": "code",
   "execution_count": null,
   "metadata": {
    "cellId": "4turtxty90a4ctpy5ar2d6",
    "execution_id": "158acf84-95d4-4c53-9134-426ff0a41064"
   },
   "outputs": [],
   "source": [
    "#!g1.1\n",
    "with torch.no_grad():\n",
    "    _U, _E = model.get_embeddings(torch.cat([pos_edges, test_observed_edges], dim=1))\n",
    "    # _U, _E = model.get_embeddings(pos_edges)\n",
    "print(_U.shape, _E.shape)\n",
    "\n",
    "new_scores = _E @ _U.T\n",
    "new_scores[test_observed_edges[1], test_observed_edges[0]] = -1e5  # exclude seen items\n",
    "new_scores = new_scores[amazon.n_train_users:]\n",
    "print(new_scores.shape)\n",
    "\n",
    "ranks, recs = new_scores.topk(20, dim=1)\n",
    "print(recs.shape)\n",
    "\n",
    "y_true = amazon._test_future.groupby('user_id')['item_id'].unique().values\n",
    "# y_true = mov.train.groupby('user_id')['item_id'].unique().values\n",
    "print('===== LGCN-E =====')\n",
    "print(f'Precsion = {precision_at_k(recs.cpu(), y_true).round(5)}')\n",
    "print(f'Recall = {recall_at_k(recs.cpu(), y_true).round(5)}')\n",
    "print(f'NDCG = {ndcg_at_k(ranks.cpu().numpy(), recs.cpu(), amazon.future_interactions).round(5)}')\n",
    "\n",
    "#!g1.1\n",
    "wandb.run.summary[\"test_precision\"] = precision_at_k(recs.cpu(), y_true)\n",
    "wandb.run.summary[\"test_recall\"] = recall_at_k(recs.cpu(), y_true)"
   ]
  },
  {
   "cell_type": "code",
   "execution_count": 829,
   "metadata": {
    "cellId": "t1hmn9c7wgfs53rfrgt7n"
   },
   "outputs": [
    {
     "name": "stdout",
     "output_type": "stream",
     "text": [
      "===== LGCN-E =====\n",
      "Precsion = 0.12641\n",
      "Recall = 0.06218\n",
      "NDCG = 0.41926\n"
     ]
    }
   ],
   "source": [
    "#!g1.1\n",
    "y_true = amazon._test_future.groupby('user_id')['item_id'].unique().values\n",
    "# y_true = mov.train.groupby('user_id')['item_id'].unique().values\n",
    "print('===== LGCN-E =====')\n",
    "print(f'Precsion = {precision_at_k(recs.cpu(), y_true).round(5)}')\n",
    "print(f'Recall = {recall_at_k(recs.cpu(), y_true).round(5)}')\n",
    "print(f'NDCG = {ndcg_at_k(ranks.cpu().numpy(), recs.cpu(), amazon.future_interactions).round(5)}')\n",
    "\n",
    "#!g1.1\n",
    "wandb.run.summary[\"test_precision\"] = precision_at_k(recs.cpu(), y_true)\n",
    "wandb.run.summary[\"test_recall\"] = recall_at_k(recs.cpu(), y_true)"
   ]
  },
  {
   "cell_type": "markdown",
   "metadata": {
    "cellId": "v6w8zc49tv74jjjmysm6tk",
    "execution_id": "a7b2fe10-42d2-4164-b636-5cbac4ff2945"
   },
   "source": [
    "```\n",
    "====== ALS ======\n",
    "Precision = 0.13436\n",
    "Recall = 0.06331\n",
    "NDCG = 0.42584\n",
    "\n",
    "====== GF-CF ======\n",
    "Precision = 0.15146\n",
    "Recall = 0.07636\n",
    "NDCG = 0.63409\n",
    "```"
   ]
  },
  {
   "cell_type": "markdown",
   "metadata": {
    "cellId": "bimh1h1vyme3nug4mocz9t",
    "execution_id": "57951f6f-d740-44c1-b9ed-a4896ef2af47"
   },
   "source": [
    "## MovieLens 1M"
   ]
  },
  {
   "cell_type": "code",
   "execution_count": 490,
   "metadata": {
    "cellId": "2yztvwt6tn86rrtioxw72t"
   },
   "outputs": [
    {
     "name": "stdout",
     "output_type": "stream",
     "text": [
      "Sparsity = 95.532%\n"
     ]
    }
   ],
   "source": [
    "mov = GraphDataset('ml-1m/ratings.dat', usecols=[0, 1, 2], header=None, sep='::', engine='python')"
   ]
  },
  {
   "cell_type": "code",
   "execution_count": 491,
   "metadata": {
    "cellId": "v6n247knlknvxeaq7ij9r"
   },
   "outputs": [],
   "source": [
    "mov.train_test_split()\n",
    "mov.build_sparse_interaction_matrix()\n",
    "mov.build_interaction_graph()\n",
    "mov.train_val_split()\n",
    "\n",
    "pos_edges = mov.pos_edges\n",
    "train_edges = mov.train_edges\n",
    "val_edges = mov.val_edges\n",
    "test_observed_edges = mov.test_observed_edges\n",
    "test_future_edges = mov.test_future_edges\n",
    "_tfe = test_future_edges.clone()\n",
    "_tfe[1] -= mov.n_train_users"
   ]
  },
  {
   "cell_type": "code",
   "execution_count": 567,
   "metadata": {
    "cellId": "7xn6lonnsnoqn5n8wz8duq"
   },
   "outputs": [],
   "source": [
    "#!g1.1\n",
    "model = LGCN_U(n_users=mov.n_items, emb_dim=256, normalize=True).to(device)\n",
    "opt = torch.optim.Adam(model.parameters(), lr=1e-4)\n",
    "metrics = []\n",
    "acc_list = []"
   ]
  },
  {
   "cell_type": "code",
   "execution_count": 494,
   "metadata": {
    "cellId": "2134d2yiaqv75iydfecm2"
   },
   "outputs": [
    {
     "data": {
      "text/plain": [
       "(3681, (4530, 1490))"
      ]
     },
     "execution_count": 494,
     "metadata": {},
     "output_type": "execute_result"
    }
   ],
   "source": [
    "model.m, (mov.n_train_users, mov.n_test_users)"
   ]
  },
  {
   "cell_type": "raw",
   "metadata": {
    "cellId": "qqr2dj2n7ocqso80lgsjj"
   },
   "source": [
    "writer = SummaryWriter(\"logs\")"
   ]
  },
  {
   "cell_type": "code",
   "execution_count": 566,
   "metadata": {
    "cellId": "747rc7nj14yrini69tlh"
   },
   "outputs": [
    {
     "name": "stderr",
     "output_type": "stream",
     "text": [
      "Failed to detect the name of this notebook, you can set it manually with the WANDB_NOTEBOOK_NAME environment variable to enable code saving.\n",
      "\u001B[34m\u001B[1mwandb\u001B[0m: Currently logged in as: \u001B[33milyaind\u001B[0m. Use \u001B[1m`wandb login --relogin`\u001B[0m to force relogin\n"
     ]
    },
    {
     "data": {
      "text/html": [
       "Tracking run with wandb version 0.12.19"
      ],
      "text/plain": [
       "<IPython.core.display.HTML object>"
      ]
     },
     "metadata": {},
     "output_type": "display_data"
    },
    {
     "data": {
      "text/html": [
       "Run data is saved locally in <code>/home/jupyter/work/resources/recsys/wandb/run-20220624_175852-3nptkpii</code>"
      ],
      "text/plain": [
       "<IPython.core.display.HTML object>"
      ]
     },
     "metadata": {},
     "output_type": "display_data"
    },
    {
     "data": {
      "text/html": [
       "Syncing run <strong><a href=\"https://wandb.ai/ilyaind/course_work/runs/3nptkpii\" target=\"_blank\">emb_size_256</a></strong> to <a href=\"https://wandb.ai/ilyaind/course_work\" target=\"_blank\">Weights & Biases</a> (<a href=\"https://wandb.me/run\" target=\"_blank\">docs</a>)<br/>"
      ],
      "text/plain": [
       "<IPython.core.display.HTML object>"
      ]
     },
     "metadata": {},
     "output_type": "display_data"
    },
    {
     "data": {
      "text/html": [
       "<button onClick=\"this.nextSibling.style.display='block';this.style.display='none';\">Display W&B run</button><iframe src=\"https://wandb.ai/ilyaind/course_work/runs/3nptkpii?jupyter=true\" style=\"border:none;width:100%;height:420px;display:none;\"></iframe>"
      ],
      "text/plain": [
       "<wandb.sdk.wandb_run.Run at 0x7f89180302b0>"
      ]
     },
     "execution_count": 566,
     "metadata": {},
     "output_type": "execute_result"
    }
   ],
   "source": [
    "#!g1.1\n",
    "wandb.init(project=\"course_work\", entity=\"ilyaind\", reinit=True, name='emb_size_256')"
   ]
  },
  {
   "cell_type": "code",
   "execution_count": 516,
   "metadata": {
    "cellId": "jtdffe029n39k4jrbmguw"
   },
   "outputs": [
    {
     "name": "stdout",
     "output_type": "stream",
     "text": [
      "cuda:0\n"
     ]
    }
   ],
   "source": [
    "#!g1.1\n",
    "device = torch.device(\"cuda:0\" if torch.cuda.is_available() else \"cpu\")\n",
    "print(device)"
   ]
  },
  {
   "cell_type": "code",
   "execution_count": 568,
   "metadata": {
    "cellId": "7czyoxa1pxwacl17k7nims"
   },
   "outputs": [],
   "source": [
    "#!g1.1\n",
    "pos_edges = mov.pos_edges.to(device)\n",
    "train_edges = mov.train_edges.to(device)\n",
    "val_edges = mov.val_edges.to(device)\n",
    "test_observed_edges = mov.test_observed_edges.to(device)\n",
    "test_future_edges = mov.test_future_edges.to(device)\n",
    "_tfe = test_future_edges.clone().to(device)\n",
    "_tfe[1] -= mov.n_train_users"
   ]
  },
  {
   "cell_type": "code",
   "execution_count": 569,
   "metadata": {
    "cellId": "21wx5kp2o051xffnozmls7"
   },
   "outputs": [
    {
     "data": {
      "text/plain": [
       "device(type='cuda', index=0)"
      ]
     },
     "execution_count": 569,
     "metadata": {},
     "output_type": "execute_result"
    }
   ],
   "source": [
    "#!g1.1\n",
    "val_edges.device"
   ]
  },
  {
   "cell_type": "code",
   "execution_count": 582,
   "metadata": {
    "cellId": "ct7f6gboxg4u7xk2um4i4b"
   },
   "outputs": [
    {
     "data": {
      "application/vnd.jupyter.widget-view+json": {
       "model_id": "22063e5ae76e4c4ca9137fffe4054eb8",
       "version_major": 2,
       "version_minor": 0
      },
      "text/plain": [
       "HBox(children=(HTML(value=''), FloatProgress(value=0.0, max=20.0), HTML(value='')))"
      ]
     },
     "metadata": {},
     "output_type": "display_data"
    },
    {
     "ename": "Error",
     "evalue": "You must call wandb.init() before wandb.log()",
     "output_type": "error",
     "traceback": [
      "\u001B[0;31m---------------------------------------------------------------------------\u001B[0m",
      "\u001B[0;31mError\u001B[0m                                     Traceback (most recent call last)",
      "\u001B[0;32m<ipython-input-1-c0629676fffb>\u001B[0m in \u001B[0;36m<module>\u001B[0;34m\u001B[0m\n\u001B[1;32m     47\u001B[0m     \u001B[0macc_list\u001B[0m\u001B[0;34m.\u001B[0m\u001B[0mappend\u001B[0m\u001B[0;34m(\u001B[0m\u001B[0;34m[\u001B[0m\u001B[0mtrain_acc\u001B[0m\u001B[0;34m.\u001B[0m\u001B[0mitem\u001B[0m\u001B[0;34m(\u001B[0m\u001B[0;34m)\u001B[0m\u001B[0;34m,\u001B[0m \u001B[0mval_acc\u001B[0m\u001B[0;34m.\u001B[0m\u001B[0mitem\u001B[0m\u001B[0;34m(\u001B[0m\u001B[0;34m)\u001B[0m\u001B[0;34m,\u001B[0m \u001B[0mtest_acc\u001B[0m\u001B[0;34m.\u001B[0m\u001B[0mitem\u001B[0m\u001B[0;34m(\u001B[0m\u001B[0;34m)\u001B[0m\u001B[0;34m]\u001B[0m\u001B[0;34m)\u001B[0m\u001B[0;34m\u001B[0m\u001B[0;34m\u001B[0m\u001B[0m\n\u001B[1;32m     48\u001B[0m \u001B[0;31m#     writer.add_scalars(\"Run\", {'train_acc': train_acc.item(), 'val_acc': val_acc.item(), 'test_acc': test_acc.item()})\u001B[0m\u001B[0;34m\u001B[0m\u001B[0;34m\u001B[0m\u001B[0;34m\u001B[0m\u001B[0m\n\u001B[0;32m---> 49\u001B[0;31m     wandb.log({'loss': {'train': train_loss, 'val': val_loss, 'test': test_loss}, \n\u001B[0m\u001B[1;32m     50\u001B[0m                'acc': {'train': train_acc, 'val': val_acc, 'test': test_acc}})\n\u001B[1;32m     51\u001B[0m \u001B[0;31m#\u001B[0m\u001B[0;34m\u001B[0m\u001B[0;34m\u001B[0m\u001B[0;34m\u001B[0m\u001B[0m\n",
      "\u001B[0;32m~/.local/lib/python3.8/site-packages/wandb/sdk/lib/preinit.py\u001B[0m in \u001B[0;36mpreinit_wrapper\u001B[0;34m(*args, **kwargs)\u001B[0m\n\u001B[1;32m     34\u001B[0m ) -> Callable:\n\u001B[1;32m     35\u001B[0m     \u001B[0;32mdef\u001B[0m \u001B[0mpreinit_wrapper\u001B[0m\u001B[0;34m(\u001B[0m\u001B[0;34m*\u001B[0m\u001B[0margs\u001B[0m\u001B[0;34m:\u001B[0m \u001B[0mAny\u001B[0m\u001B[0;34m,\u001B[0m \u001B[0;34m**\u001B[0m\u001B[0mkwargs\u001B[0m\u001B[0;34m:\u001B[0m \u001B[0mAny\u001B[0m\u001B[0;34m)\u001B[0m \u001B[0;34m->\u001B[0m \u001B[0mAny\u001B[0m\u001B[0;34m:\u001B[0m\u001B[0;34m\u001B[0m\u001B[0;34m\u001B[0m\u001B[0m\n\u001B[0;32m---> 36\u001B[0;31m         \u001B[0;32mraise\u001B[0m \u001B[0mwandb\u001B[0m\u001B[0;34m.\u001B[0m\u001B[0mError\u001B[0m\u001B[0;34m(\u001B[0m\u001B[0;34mf\"You must call wandb.init() before {name}()\"\u001B[0m\u001B[0;34m)\u001B[0m\u001B[0;34m\u001B[0m\u001B[0;34m\u001B[0m\u001B[0m\n\u001B[0m\u001B[1;32m     37\u001B[0m \u001B[0;34m\u001B[0m\u001B[0m\n\u001B[1;32m     38\u001B[0m     \u001B[0mpreinit_wrapper\u001B[0m\u001B[0;34m.\u001B[0m\u001B[0m__name__\u001B[0m \u001B[0;34m=\u001B[0m \u001B[0mstr\u001B[0m\u001B[0;34m(\u001B[0m\u001B[0mname\u001B[0m\u001B[0;34m)\u001B[0m\u001B[0;34m\u001B[0m\u001B[0;34m\u001B[0m\u001B[0m\n",
      "\u001B[0;31mError\u001B[0m: You must call wandb.init() before wandb.log()"
     ]
    },
    {
     "name": "stdout",
     "output_type": "stream",
     "text": [
      "Background cell scheduled. Waiting for foreground cells to finish commits\n",
      "Preparing g1.1 instance...\n",
      "g1.1 instance is ready, running task...\n",
      "Train loss = 2797.67529296875, val_loss = 2874.735595703125, test_loss = 1251.80810546875, test_acc=0.8893024325370789\n",
      "\n",
      "Task is done, waiting for foreground cells to finish...\n",
      "Merging task result to the state\n"
     ]
    }
   ],
   "source": [
    "#!g1.1\n",
    "for i in tqdm(range(20)):\n",
    "    opt.zero_grad()\n",
    "    neg_train_edges = negative_sampling(train_edges, num_neg_samples=train_edges.shape[1], num_nodes=(model.m, mov.n_train_users)).to(device)\n",
    "    neg_val_edges = negative_sampling(pos_edges, num_neg_samples=val_edges.shape[1], num_nodes=(model.m, mov.n_train_users)).to(device)\n",
    "\n",
    "    train_scores = model.forward(edge_index=train_edges, edge_label_index=train_edges, n_items=mov.n_train_users)\n",
    "    neg_scores = model.forward(edge_index=train_edges, edge_label_index=neg_train_edges, n_items=mov.n_train_users)\n",
    "\n",
    "    val_scores = model.forward(edge_index=train_edges, edge_label_index=val_edges, n_items=mov.n_train_users)\n",
    "    neg_val_scores = model.forward(edge_index=train_edges, edge_label_index=neg_val_edges, n_items=mov.n_train_users)\n",
    "\n",
    "    #  ==== VALIDATION ====\n",
    "    # _toe = test_observed_edges.clone()\n",
    "    # _toe[1] -= mov.train['user_id'].nunique()\n",
    "    # neg_val_edges = utils.negative_sampling(_toe, num_nodes=(model.m, mov.test_observed['user_id'].nunique()))\n",
    "    # neg_val_edges[1] += mov.train['user_id'].nunique()\n",
    "    # val_scores = model.forward(edge_index=torch.cat([pos_edges, test_observed_edges], dim=1),\n",
    "    #                            edge_label_index=test_observed_edges, n_items=test_observed_edges[1].max().item() + 1)\n",
    "    # neg_val_scores = model.forward(edge_index=torch.cat([pos_edges, test_observed_edges], dim=1),\n",
    "    #                                edge_label_index=neg_val_edges, n_items=test_observed_edges[1].max().item() + 1)\n",
    "\n",
    "    # ==== TEST ====\n",
    "    neg_test_edges = negative_sampling(_tfe, num_nodes=(model.m, mov._test_observed['user_id'].nunique()))\n",
    "    neg_test_edges[1] += mov.n_train_users\n",
    "    \n",
    "    test_scores = model.forward(edge_index=torch.cat([pos_edges, test_observed_edges], dim=1),\n",
    "                                edge_label_index=test_future_edges, n_items=test_observed_edges[1].max().item() + 1)\n",
    "    \n",
    "    neg_test_scores = model.forward(edge_index=torch.cat([pos_edges, test_observed_edges], dim=1),\n",
    "                                   edge_label_index=neg_test_edges, n_items=test_observed_edges[1].max().item() + 1)\n",
    "\n",
    "    train_loss = torch.mean(F.softplus(neg_scores - train_scores))\n",
    "    val_loss = torch.mean(F.softplus(neg_val_scores - val_scores))\n",
    "    test_loss = torch.mean(F.softplus(neg_test_scores - test_scores))\n",
    "\n",
    "    train_acc = (train_scores > neg_scores).float().mean()\n",
    "    val_acc = (val_scores > neg_val_scores).float().mean()\n",
    "    test_acc = (test_scores > neg_test_scores).float().mean()\n",
    "\n",
    "    if i % 1 == 0:\n",
    "        print(f'Train loss = {train_loss}, val_loss = {val_loss}, test_loss = {test_loss}, test_acc={test_acc}')\n",
    "    train_loss.backward()\n",
    "    opt.step()\n",
    "    metrics.append([train_loss.item(), val_loss.item(), test_loss.item()])\n",
    "    acc_list.append([train_acc.item(), val_acc.item(), test_acc.item()])\n",
    "#     writer.add_scalars(\"Run\", {'train_acc': train_acc.item(), 'val_acc': val_acc.item(), 'test_acc': test_acc.item()})\n",
    "    wandb.log({'loss': {'train': train_loss, 'val': val_loss, 'test': test_loss}, \n",
    "               'acc': {'train': train_acc, 'val': val_acc, 'test': test_acc}})"
   ]
  },
  {
   "cell_type": "code",
   "execution_count": 744,
   "metadata": {
    "cellId": "68avsn1o6c2foe4tri1na"
   },
   "outputs": [
    {
     "data": {
      "text/plain": [
       "'Tesla V100-SXM2-32GB'"
      ]
     },
     "execution_count": 744,
     "metadata": {},
     "output_type": "execute_result"
    }
   ],
   "source": [
    "#!g1.1\n",
    "torch.cuda.get_device_name(0)"
   ]
  },
  {
   "cell_type": "code",
   "execution_count": 589,
   "metadata": {
    "cellId": "ixz0yw6s1bdzk0e451ua7"
   },
   "outputs": [
    {
     "name": "stdout",
     "output_type": "stream",
     "text": [
      "torch.Size([3681, 256]) torch.Size([6020, 256])\n",
      "torch.Size([1490, 3681])\n"
     ]
    },
    {
     "data": {
      "text/plain": [
       "torch.Size([1490, 20])"
      ]
     },
     "execution_count": 589,
     "metadata": {},
     "output_type": "execute_result"
    }
   ],
   "source": [
    "#!g1.1\n",
    "with torch.no_grad():\n",
    "    _U, _E = model.get_embeddings(torch.cat([pos_edges, test_observed_edges], dim=1))\n",
    "    # _U, _E = model.get_embeddings(pos_edges)\n",
    "print(_U.shape, _E.shape)\n",
    "\n",
    "new_scores = _E @ _U.T\n",
    "new_scores[test_observed_edges[1], test_observed_edges[0]] = -1e5  # exclude seen items\n",
    "new_scores = new_scores[mov.n_train_users:]\n",
    "print(new_scores.shape)\n",
    "\n",
    "ranks, recs = new_scores.topk(20, dim=1)\n",
    "recs.shape"
   ]
  },
  {
   "cell_type": "code",
   "execution_count": 590,
   "metadata": {
    "cellId": "n4kd73ho9w4b2ox85b4gy"
   },
   "outputs": [
    {
     "name": "stdout",
     "output_type": "stream",
     "text": [
      "===== LGCN-E =====\n",
      "Precsion = 0.53097\n",
      "Recall = 0.11643\n",
      "NDCG = 0.80196\n"
     ]
    }
   ],
   "source": [
    "#!g1.1\n",
    "y_true = mov._test_future.groupby('user_id')['item_id'].unique().values\n",
    "# y_true = mov.train.groupby('user_id')['item_id'].unique().values\n",
    "print('===== LGCN-E =====')\n",
    "print(f'Precsion = {precision_at_k(recs.cpu(), y_true).round(5)}')\n",
    "print(f'Recall = {recall_at_k(recs.cpu(), y_true).round(5)}')\n",
    "print(f'NDCG = {ndcg_at_k(ranks.cpu().numpy(), recs.cpu(), mov.future_interactions).round(5)}')"
   ]
  },
  {
   "cell_type": "markdown",
   "metadata": {
    "cellId": "ya1hjkyuq0mm0vjjw9tpgr",
    "execution_id": "3b752ab7-345e-4c70-aa30-0fd4899c2f38"
   },
   "source": [
    "```\n",
    "====== ALS ======\n",
    "Precision = 0.5245\n",
    "Recall = 0.11568\n",
    "NDCG = 0.80066\n",
    "\n",
    "====== GF-CF ======\n",
    "Precision = 0.5741\n",
    "Recall = 0.13183\n",
    "NDCG = 0.76224\n",
    "```"
   ]
  },
  {
   "cell_type": "code",
   "execution_count": 586,
   "metadata": {
    "cellId": "gzccof7ysa7td4pjen93v",
    "collapsed": true,
    "jupyter": {
     "outputs_hidden": true
    }
   },
   "outputs": [
    {
     "name": "stderr",
     "output_type": "stream",
     "text": [
      "\u001B[34m\u001B[1mwandb\u001B[0m: \u001B[33mWARNING\u001B[0m Path /home/jupyter/work/resources/recsys/wandb/ wasn't writable, using system temp directory.\n",
      "Failed to detect the name of this notebook, you can set it manually with the WANDB_NOTEBOOK_NAME environment variable to enable code saving.\n",
      "\u001B[34m\u001B[1mwandb\u001B[0m: \u001B[33mWARNING\u001B[0m Path /home/jupyter/work/resources/recsys/wandb/ wasn't writable, using system temp directory\n",
      "\u001B[34m\u001B[1mwandb\u001B[0m: Currently logged in as: \u001B[33milyaind\u001B[0m. Use \u001B[1m`wandb login --relogin`\u001B[0m to force relogin\n"
     ]
    },
    {
     "data": {
      "text/html": [
       "Tracking run with wandb version 0.12.19"
      ],
      "text/plain": [
       "<IPython.core.display.HTML object>"
      ]
     },
     "metadata": {},
     "output_type": "display_data"
    },
    {
     "data": {
      "text/html": [
       "Run data is saved locally in <code>/tmp/wandb/run-20220624_182603-o48i6uvz</code>"
      ],
      "text/plain": [
       "<IPython.core.display.HTML object>"
      ]
     },
     "metadata": {},
     "output_type": "display_data"
    },
    {
     "data": {
      "text/html": [
       "Syncing run <strong><a href=\"https://wandb.ai/ilyaind/course_work/runs/o48i6uvz\" target=\"_blank\">emb_256_less_lr</a></strong> to <a href=\"https://wandb.ai/ilyaind/course_work\" target=\"_blank\">Weights & Biases</a> (<a href=\"https://wandb.me/run\" target=\"_blank\">docs</a>)<br/>"
      ],
      "text/plain": [
       "<IPython.core.display.HTML object>"
      ]
     },
     "metadata": {},
     "output_type": "display_data"
    },
    {
     "data": {
      "application/vnd.jupyter.widget-view+json": {
       "model_id": "eedf7e5c82e440cdb261fe02ba68f625",
       "version_major": 2,
       "version_minor": 0
      },
      "text/plain": [
       "HBox(children=(HTML(value=''), FloatProgress(value=0.0, max=150.0), HTML(value='')))"
      ]
     },
     "metadata": {},
     "output_type": "display_data"
    },
    {
     "name": "stdout",
     "output_type": "stream",
     "text": [
      "Background cell scheduled. Waiting for foreground cells to finish commits\n",
      "Preparing g1.1 instance...\n",
      "g1.1 instance is ready, running task...\n",
      "Train loss = 2937.339599609375, val_loss = 3057.262939453125, test_loss = 1322.332275390625, test_acc=0.8892236948013306\n",
      "Train loss = 2764.3154296875, val_loss = 2771.38623046875, test_loss = 1255.738525390625, test_acc=0.8895561099052429\n",
      "Train loss = 2639.123046875, val_loss = 2666.694091796875, test_loss = 1166.1314697265625, test_acc=0.8902121186256409\n",
      "Train loss = 2478.52392578125, val_loss = 2514.81884765625, test_loss = 1107.62939453125, test_acc=0.8897135257720947\n",
      "Train loss = 2328.64404296875, val_loss = 2356.132080078125, test_loss = 1050.2127685546875, test_acc=0.8902384042739868\n",
      "Train loss = 2190.9736328125, val_loss = 2220.945556640625, test_loss = 986.4285278320312, test_acc=0.8906363844871521\n",
      "Train loss = 2067.589599609375, val_loss = 2094.33984375, test_loss = 937.4827270507812, test_acc=0.8909600377082825\n",
      "Train loss = 1935.1666259765625, val_loss = 2038.3216552734375, test_loss = 872.2630615234375, test_acc=0.8915548324584961\n",
      "Train loss = 1857.4705810546875, val_loss = 1927.207763671875, test_loss = 835.7396240234375, test_acc=0.8904745578765869\n",
      "Train loss = 1726.4677734375, val_loss = 1804.025146484375, test_loss = 782.1250610351562, test_acc=0.8910693526268005\n",
      "Train loss = 1624.1192626953125, val_loss = 1644.9249267578125, test_loss = 741.9228515625, test_acc=0.8915023803710938\n",
      "Train loss = 1535.0484619140625, val_loss = 1589.119140625, test_loss = 700.1713256835938, test_acc=0.8926920294761658\n",
      "Train loss = 1454.805908203125, val_loss = 1464.549072265625, test_loss = 656.1019287109375, test_acc=0.8917779326438904\n",
      "Train loss = 1366.9229736328125, val_loss = 1426.84619140625, test_loss = 621.4590454101562, test_acc=0.8921365737915039\n",
      "Train loss = 1282.596435546875, val_loss = 1306.49462890625, test_loss = 575.8547973632812, test_acc=0.8936498165130615\n",
      "Train loss = 1211.701904296875, val_loss = 1235.5994873046875, test_loss = 543.94580078125, test_acc=0.8934224247932434\n",
      "Train loss = 1135.3013916015625, val_loss = 1168.497802734375, test_loss = 525.1151733398438, test_acc=0.8929981589317322\n",
      "Train loss = 1073.1373291015625, val_loss = 1085.850341796875, test_loss = 491.7899169921875, test_acc=0.8938335180282593\n",
      "Train loss = 999.2935180664062, val_loss = 1014.6385498046875, test_loss = 452.9560546875, test_acc=0.8950450420379639\n",
      "Train loss = 943.7162475585938, val_loss = 949.8612670898438, test_loss = 425.1065673828125, test_acc=0.8952199816703796\n",
      "Train loss = 885.681884765625, val_loss = 913.4354858398438, test_loss = 404.31231689453125, test_acc=0.8950188159942627\n",
      "Train loss = 829.6566162109375, val_loss = 850.3294067382812, test_loss = 386.33251953125, test_acc=0.8954124450683594\n",
      "Train loss = 779.7843017578125, val_loss = 785.8579711914062, test_loss = 356.8985595703125, test_acc=0.8962652683258057\n",
      "Train loss = 722.0020751953125, val_loss = 737.3192749023438, test_loss = 330.35321044921875, test_acc=0.8974680304527283\n",
      "Train loss = 684.23388671875, val_loss = 713.410888671875, test_loss = 309.8829345703125, test_acc=0.89873206615448\n",
      "Train loss = 635.7088012695312, val_loss = 653.267578125, test_loss = 292.68414306640625, test_acc=0.8986095786094666\n",
      "Train loss = 598.9851684570312, val_loss = 636.7081298828125, test_loss = 275.43853759765625, test_acc=0.8991388082504272\n",
      "Train loss = 557.048583984375, val_loss = 566.0281982421875, test_loss = 256.32342529296875, test_acc=0.8997511267662048\n",
      "Train loss = 517.898681640625, val_loss = 537.0140380859375, test_loss = 238.72413635253906, test_acc=0.9019291996955872\n",
      "Train loss = 482.95867919921875, val_loss = 504.1197509765625, test_loss = 226.0398406982422, test_acc=0.9017148613929749\n",
      "Train loss = 451.79302978515625, val_loss = 461.33856201171875, test_loss = 210.53884887695312, test_acc=0.9027208089828491\n",
      "Train loss = 419.7517395019531, val_loss = 448.12896728515625, test_loss = 196.5252685546875, test_acc=0.9045708775520325\n",
      "Train loss = 393.4597473144531, val_loss = 408.46710205078125, test_loss = 185.5906982421875, test_acc=0.9044528007507324\n",
      "Train loss = 367.21185302734375, val_loss = 372.51641845703125, test_loss = 172.94090270996094, test_acc=0.9048814177513123\n",
      "Train loss = 341.849609375, val_loss = 354.9665222167969, test_loss = 163.73220825195312, test_acc=0.9052138328552246\n",
      "Train loss = 318.5941162109375, val_loss = 331.053466796875, test_loss = 152.0216064453125, test_acc=0.9083759784698486\n",
      "Train loss = 294.42010498046875, val_loss = 307.19793701171875, test_loss = 142.55349731445312, test_acc=0.9078861474990845\n",
      "Train loss = 275.8143005371094, val_loss = 281.07501220703125, test_loss = 131.85675048828125, test_acc=0.9099067449569702\n",
      "Train loss = 259.76483154296875, val_loss = 264.70269775390625, test_loss = 123.18742370605469, test_acc=0.910952091217041\n",
      "Train loss = 240.4864959716797, val_loss = 249.36489868164062, test_loss = 116.06311798095703, test_acc=0.9117699265480042\n",
      "Train loss = 223.13839721679688, val_loss = 239.03045654296875, test_loss = 108.06425476074219, test_acc=0.9136287569999695\n",
      "Train loss = 206.6760711669922, val_loss = 213.0471649169922, test_loss = 101.8475570678711, test_acc=0.9135106801986694\n",
      "Train loss = 194.42869567871094, val_loss = 201.95738220214844, test_loss = 95.7391128540039, test_acc=0.9140092730522156\n",
      "Train loss = 182.1829376220703, val_loss = 193.76168823242188, test_loss = 90.36249542236328, test_acc=0.9149671196937561\n",
      "Train loss = 171.57225036621094, val_loss = 181.07928466796875, test_loss = 84.06401062011719, test_acc=0.9158331155776978\n",
      "Train loss = 159.8823699951172, val_loss = 167.1499481201172, test_loss = 80.7480697631836, test_acc=0.9168084263801575\n",
      "Train loss = 148.87811279296875, val_loss = 156.23568725585938, test_loss = 77.31149291992188, test_acc=0.9168434143066406\n",
      "Train loss = 139.35475158691406, val_loss = 150.94346618652344, test_loss = 71.67122650146484, test_acc=0.918203592300415\n",
      "Train loss = 131.58935546875, val_loss = 143.1921844482422, test_loss = 70.46247863769531, test_acc=0.9168521761894226\n",
      "Train loss = 125.52825164794922, val_loss = 136.49742126464844, test_loss = 65.40349578857422, test_acc=0.9184091687202454\n",
      "Train loss = 118.98915100097656, val_loss = 125.29792785644531, test_loss = 62.54520034790039, test_acc=0.9189733862876892\n",
      "Train loss = 112.79776000976562, val_loss = 123.24048614501953, test_loss = 60.62322998046875, test_acc=0.9188377857208252\n",
      "Train loss = 107.15373992919922, val_loss = 115.0574951171875, test_loss = 58.260772705078125, test_acc=0.9184048175811768\n",
      "Train loss = 101.24281311035156, val_loss = 109.94454956054688, test_loss = 56.379493713378906, test_acc=0.9186453819274902\n",
      "Train loss = 98.4843521118164, val_loss = 104.9388198852539, test_loss = 54.758453369140625, test_acc=0.9180155396461487\n",
      "Train loss = 94.55842590332031, val_loss = 105.3858871459961, test_loss = 52.94650650024414, test_acc=0.918103039264679\n",
      "Train loss = 90.4560546875, val_loss = 98.38450622558594, test_loss = 52.100372314453125, test_acc=0.9174207448959351\n",
      "Train loss = 87.78059387207031, val_loss = 98.10983276367188, test_loss = 51.43019485473633, test_acc=0.9167646765708923\n",
      "Train loss = 84.6920166015625, val_loss = 89.36646270751953, test_loss = 49.48585510253906, test_acc=0.9165547490119934\n",
      "Train loss = 82.91940307617188, val_loss = 92.4288330078125, test_loss = 47.91342544555664, test_acc=0.916113018989563\n",
      "Train loss = 81.53292846679688, val_loss = 87.25751495361328, test_loss = 48.46347427368164, test_acc=0.9149889945983887\n",
      "Train loss = 78.6356201171875, val_loss = 87.46295928955078, test_loss = 46.92900466918945, test_acc=0.9147177934646606\n",
      "Train loss = 76.47857666015625, val_loss = 85.94329833984375, test_loss = 46.16096115112305, test_acc=0.9137074947357178\n",
      "Train loss = 74.53211212158203, val_loss = 85.3759765625, test_loss = 44.997833251953125, test_acc=0.9142367243766785\n",
      "Train loss = 73.18721771240234, val_loss = 83.03587341308594, test_loss = 45.459014892578125, test_acc=0.9126796722412109\n",
      "Train loss = 71.16355895996094, val_loss = 82.1897201538086, test_loss = 44.13847732543945, test_acc=0.9128196239471436\n",
      "Train loss = 70.52356719970703, val_loss = 80.73173522949219, test_loss = 43.94461441040039, test_acc=0.9119799137115479\n",
      "Train loss = 69.32250213623047, val_loss = 74.7069320678711, test_loss = 43.64640426635742, test_acc=0.9111751317977905\n",
      "Train loss = 68.48697662353516, val_loss = 76.00739288330078, test_loss = 43.05824661254883, test_acc=0.9105190634727478\n",
      "Train loss = 67.21883392333984, val_loss = 75.013427734375, test_loss = 42.44095993041992, test_acc=0.9107727408409119\n",
      "Train loss = 66.26345825195312, val_loss = 74.08423614501953, test_loss = 41.50381088256836, test_acc=0.9099067449569702\n",
      "Train loss = 64.99304962158203, val_loss = 73.81807708740234, test_loss = 42.35325241088867, test_acc=0.908717155456543\n",
      "Train loss = 64.08042907714844, val_loss = 70.57064056396484, test_loss = 41.7314453125, test_acc=0.9095743894577026\n",
      "Train loss = 63.34413146972656, val_loss = 70.9998550415039, test_loss = 41.064754486083984, test_acc=0.9080260992050171\n",
      "Train loss = 63.10325241088867, val_loss = 70.8155517578125, test_loss = 40.253482818603516, test_acc=0.9089183211326599\n",
      "Train loss = 61.242027282714844, val_loss = 71.25564575195312, test_loss = 39.7790412902832, test_acc=0.9095262289047241\n",
      "Train loss = 60.22257995605469, val_loss = 69.06507873535156, test_loss = 39.31101608276367, test_acc=0.9090844988822937\n",
      "Train loss = 59.68265151977539, val_loss = 66.22262573242188, test_loss = 38.7179069519043, test_acc=0.909500002861023\n",
      "Train loss = 59.17882537841797, val_loss = 65.92737579345703, test_loss = 38.3682861328125, test_acc=0.9091501235961914\n",
      "Train loss = 58.20869445800781, val_loss = 65.02932739257812, test_loss = 38.48795700073242, test_acc=0.9091151356697083\n",
      "Train loss = 57.55091094970703, val_loss = 65.17578125, test_loss = 37.61686706542969, test_acc=0.9092113375663757\n",
      "Train loss = 56.84898376464844, val_loss = 62.672630310058594, test_loss = 37.357940673828125, test_acc=0.9096093773841858\n",
      "Train loss = 55.89603805541992, val_loss = 61.672584533691406, test_loss = 37.27580642700195, test_acc=0.9091282486915588\n",
      "Train loss = 55.42632293701172, val_loss = 61.61232376098633, test_loss = 36.38489532470703, test_acc=0.9100161194801331\n",
      "Train loss = 54.28889465332031, val_loss = 63.157875061035156, test_loss = 35.88888168334961, test_acc=0.9104272127151489\n",
      "Train loss = 54.78432846069336, val_loss = 59.48236083984375, test_loss = 35.62417221069336, test_acc=0.910208523273468\n",
      "Train loss = 53.57466506958008, val_loss = 58.8372917175293, test_loss = 35.62473678588867, test_acc=0.9097930788993835\n",
      "Train loss = 52.601680755615234, val_loss = 60.02207946777344, test_loss = 34.70967102050781, test_acc=0.9101254343986511\n",
      "Train loss = 51.82448196411133, val_loss = 57.823490142822266, test_loss = 34.669639587402344, test_acc=0.9105628132820129\n",
      "Train loss = 51.60016632080078, val_loss = 58.51028823852539, test_loss = 34.47650909423828, test_acc=0.9108645915985107\n",
      "Train loss = 50.96056365966797, val_loss = 56.31022644042969, test_loss = 33.78654479980469, test_acc=0.9110614061355591\n",
      "Train loss = 50.73752212524414, val_loss = 58.98746109008789, test_loss = 33.957218170166016, test_acc=0.9117918014526367\n",
      "Train loss = 49.824134826660156, val_loss = 55.38278579711914, test_loss = 33.255794525146484, test_acc=0.9105103611946106\n",
      "Train loss = 49.022708892822266, val_loss = 56.111419677734375, test_loss = 33.228946685791016, test_acc=0.9108602404594421\n",
      "Train loss = 48.37638473510742, val_loss = 54.67985534667969, test_loss = 32.950077056884766, test_acc=0.9114987850189209\n",
      "Train loss = 47.98958969116211, val_loss = 53.64951705932617, test_loss = 32.590579986572266, test_acc=0.9118224382400513\n",
      "Train loss = 48.39754104614258, val_loss = 56.51554870605469, test_loss = 32.269195556640625, test_acc=0.9111226201057434\n",
      "Train loss = 46.980648040771484, val_loss = 54.708473205566406, test_loss = 32.34987258911133, test_acc=0.910689651966095\n",
      "Train loss = 47.17819595336914, val_loss = 51.96827697753906, test_loss = 31.799596786499023, test_acc=0.9107027649879456\n",
      "Train loss = 46.41097640991211, val_loss = 52.91058349609375, test_loss = 31.70482063293457, test_acc=0.9112363457679749\n",
      "Train loss = 45.767982482910156, val_loss = 52.26585388183594, test_loss = 31.703813552856445, test_acc=0.9107377529144287\n",
      "Train loss = 45.29377365112305, val_loss = 51.719974517822266, test_loss = 31.297163009643555, test_acc=0.9114200472831726\n",
      "Train loss = 45.198795318603516, val_loss = 51.75763702392578, test_loss = 31.024200439453125, test_acc=0.9114987850189209\n",
      "Train loss = 44.3828239440918, val_loss = 51.31096267700195, test_loss = 30.337261199951172, test_acc=0.9124872088432312\n",
      "Train loss = 44.09718322753906, val_loss = 50.95774459838867, test_loss = 30.515453338623047, test_acc=0.9108558297157288\n",
      "Train loss = 44.430789947509766, val_loss = 48.25054168701172, test_loss = 30.45244598388672, test_acc=0.9111925959587097\n",
      "Train loss = 43.05985641479492, val_loss = 49.77983474731445, test_loss = 30.132661819458008, test_acc=0.9106196761131287\n",
      "Train loss = 43.191856384277344, val_loss = 48.56290054321289, test_loss = 30.28305435180664, test_acc=0.9111707806587219\n",
      "Train loss = 42.815711975097656, val_loss = 49.032718658447266, test_loss = 29.135723114013672, test_acc=0.9120979905128479\n",
      "Train loss = 42.19744873046875, val_loss = 47.88820266723633, test_loss = 29.98084259033203, test_acc=0.9105759263038635\n",
      "Train loss = 41.92087936401367, val_loss = 48.58653259277344, test_loss = 29.805831909179688, test_acc=0.9115512371063232\n",
      "Train loss = 42.061500549316406, val_loss = 48.08185958862305, test_loss = 28.865760803222656, test_acc=0.9117174744606018\n",
      "Train loss = 41.69580078125, val_loss = 47.23418426513672, test_loss = 28.87268829345703, test_acc=0.9119230508804321\n",
      "Train loss = 41.45623779296875, val_loss = 46.27030563354492, test_loss = 29.21103858947754, test_acc=0.9111794829368591\n",
      "Train loss = 41.12290954589844, val_loss = 45.3637580871582, test_loss = 28.82646942138672, test_acc=0.9111970067024231\n",
      "Train loss = 40.07178497314453, val_loss = 45.396949768066406, test_loss = 28.261301040649414, test_acc=0.9116999506950378\n",
      "Train loss = 40.569305419921875, val_loss = 46.996681213378906, test_loss = 28.321083068847656, test_acc=0.911297619342804\n",
      "Train loss = 40.25757598876953, val_loss = 44.82890319824219, test_loss = 27.969905853271484, test_acc=0.9120804667472839\n",
      "Train loss = 39.970821380615234, val_loss = 45.9898681640625, test_loss = 27.689210891723633, test_acc=0.9118530750274658\n",
      "Train loss = 39.16132736206055, val_loss = 44.471893310546875, test_loss = 27.92530632019043, test_acc=0.9118224382400513\n",
      "Train loss = 39.26134490966797, val_loss = 45.02357482910156, test_loss = 27.90118980407715, test_acc=0.9119799137115479\n",
      "Train loss = 38.87797164916992, val_loss = 43.78236770629883, test_loss = 27.763011932373047, test_acc=0.9112451076507568\n",
      "Train loss = 38.380279541015625, val_loss = 45.613319396972656, test_loss = 27.281034469604492, test_acc=0.9117393493652344\n",
      "Train loss = 38.239322662353516, val_loss = 44.30465316772461, test_loss = 27.22964859008789, test_acc=0.9116649627685547\n",
      "Train loss = 38.14234161376953, val_loss = 44.222015380859375, test_loss = 26.92336082458496, test_acc=0.9111620187759399\n",
      "Train loss = 37.868980407714844, val_loss = 42.60151672363281, test_loss = 26.960081100463867, test_acc=0.9116518497467041\n",
      "Train loss = 37.52025604248047, val_loss = 43.03994369506836, test_loss = 26.770158767700195, test_acc=0.9119930267333984\n",
      "Train loss = 37.44798278808594, val_loss = 42.346981048583984, test_loss = 26.61511993408203, test_acc=0.9112101197242737\n",
      "Train loss = 36.81389617919922, val_loss = 43.103519439697266, test_loss = 26.360193252563477, test_acc=0.9122729301452637\n",
      "Train loss = 36.87752151489258, val_loss = 41.333351135253906, test_loss = 26.554677963256836, test_acc=0.9112232327461243\n",
      "Train loss = 36.09011459350586, val_loss = 41.98786544799805, test_loss = 26.527189254760742, test_acc=0.911271333694458\n",
      "Train loss = 36.51809310913086, val_loss = 41.320159912109375, test_loss = 25.99427032470703, test_acc=0.9123778939247131\n",
      "Train loss = 36.20656967163086, val_loss = 40.99531555175781, test_loss = 26.094802856445312, test_acc=0.911734938621521\n",
      "Train loss = 35.70527648925781, val_loss = 41.77818298339844, test_loss = 26.0645694732666, test_acc=0.9112757444381714\n",
      "Train loss = 35.96513748168945, val_loss = 41.045902252197266, test_loss = 25.412511825561523, test_acc=0.9119755029678345\n",
      "Train loss = 35.781253814697266, val_loss = 40.65692901611328, test_loss = 25.618417739868164, test_acc=0.9109607934951782\n",
      "Train loss = 35.09064483642578, val_loss = 41.296627044677734, test_loss = 25.656360626220703, test_acc=0.9111489057540894\n",
      "Train loss = 35.27726745605469, val_loss = 39.42930221557617, test_loss = 25.791872024536133, test_acc=0.9110920429229736\n",
      "Train loss = 35.25006866455078, val_loss = 40.27170944213867, test_loss = 25.11081886291504, test_acc=0.9109607934951782\n",
      "Train loss = 34.65367889404297, val_loss = 40.32513427734375, test_loss = 25.375404357910156, test_acc=0.9108033776283264\n",
      "Train loss = 34.13511276245117, val_loss = 39.71188735961914, test_loss = 25.520896911621094, test_acc=0.9108821153640747\n",
      "Train loss = 34.20085525512695, val_loss = 40.08142852783203, test_loss = 25.025142669677734, test_acc=0.9118574261665344\n",
      "Train loss = 34.17667770385742, val_loss = 39.30534744262695, test_loss = 24.691699981689453, test_acc=0.9118005633354187\n",
      "Train loss = 33.9440803527832, val_loss = 39.1091194152832, test_loss = 24.942901611328125, test_acc=0.9112932085990906\n",
      "Train loss = 33.64475631713867, val_loss = 38.800865173339844, test_loss = 24.254852294921875, test_acc=0.9124435186386108\n",
      "Train loss = 33.282196044921875, val_loss = 38.27995681762695, test_loss = 24.348873138427734, test_acc=0.9117262363433838\n",
      "Train loss = 33.46980667114258, val_loss = 38.39934158325195, test_loss = 24.86090850830078, test_acc=0.9106327891349792\n",
      "Train loss = 32.979820251464844, val_loss = 37.60512161254883, test_loss = 24.42681312561035, test_acc=0.9110351800918579\n",
      "Train loss = 33.5401611328125, val_loss = 37.47926330566406, test_loss = 24.190006256103516, test_acc=0.9106765389442444\n",
      "Train loss = 33.261512756347656, val_loss = 37.685577392578125, test_loss = 24.201997756958008, test_acc=0.9110570549964905\n",
      "\n",
      "Task is done, waiting for foreground cells to finish...\n",
      "Merging task result to the state\n"
     ]
    }
   ],
   "source": [
    "#pragma async\n",
    "#!g1.1\n",
    "\n",
    "model = LGCN_U(n_users=mov.n_items, emb_dim=256, normalize=True).to(device)\n",
    "opt = torch.optim.Adam(model.parameters(), lr=1e-3)\n",
    "metrics = []\n",
    "acc_list = []\n",
    "\n",
    "wandb.init(project=\"course_work\", entity=\"ilyaind\", reinit=True, name='emb_256_less_lr')\n",
    "\n",
    "pos_edges = mov.pos_edges.to(device)\n",
    "train_edges = mov.train_edges.to(device)\n",
    "val_edges = mov.val_edges.to(device)\n",
    "test_observed_edges = mov.test_observed_edges.to(device)\n",
    "test_future_edges = mov.test_future_edges.to(device)\n",
    "_tfe = test_future_edges.clone().to(device)\n",
    "_tfe[1] -= mov.n_train_users\n",
    "\n",
    "for i in tqdm(range(150)):\n",
    "    opt.zero_grad()\n",
    "    neg_train_edges = negative_sampling(train_edges, num_neg_samples=train_edges.shape[1], num_nodes=(model.m, mov.n_train_users)).to(device)\n",
    "    neg_val_edges = negative_sampling(pos_edges, num_neg_samples=val_edges.shape[1], num_nodes=(model.m, mov.n_train_users)).to(device)\n",
    "\n",
    "    train_scores = model.forward(edge_index=train_edges, edge_label_index=train_edges, n_items=mov.n_train_users)\n",
    "    neg_scores = model.forward(edge_index=train_edges, edge_label_index=neg_train_edges, n_items=mov.n_train_users)\n",
    "\n",
    "    val_scores = model.forward(edge_index=train_edges, edge_label_index=val_edges, n_items=mov.n_train_users)\n",
    "    neg_val_scores = model.forward(edge_index=train_edges, edge_label_index=neg_val_edges, n_items=mov.n_train_users)\n",
    "\n",
    "    # ===== TEST =====\n",
    "    neg_test_edges = negative_sampling(_tfe, num_nodes=(model.m, mov._test_observed['user_id'].nunique()))\n",
    "    neg_test_edges[1] += mov.n_train_users\n",
    "    \n",
    "    test_scores = model.forward(edge_index=torch.cat([pos_edges, test_observed_edges], dim=1),\n",
    "                                edge_label_index=test_future_edges, n_items=test_observed_edges[1].max().item() + 1)\n",
    "    \n",
    "    neg_test_scores = model.forward(edge_index=torch.cat([pos_edges, test_observed_edges], dim=1),\n",
    "                                   edge_label_index=neg_test_edges, n_items=test_observed_edges[1].max().item() + 1)\n",
    "\n",
    "    train_loss = torch.mean(F.softplus(neg_scores - train_scores))\n",
    "    val_loss = torch.mean(F.softplus(neg_val_scores - val_scores))\n",
    "    test_loss = torch.mean(F.softplus(neg_test_scores - test_scores))\n",
    "\n",
    "    train_acc = (train_scores > neg_scores).float().mean()\n",
    "    val_acc = (val_scores > neg_val_scores).float().mean()\n",
    "    test_acc = (test_scores > neg_test_scores).float().mean()\n",
    "\n",
    "    train_loss.backward()\n",
    "    opt.step()\n",
    "    metrics.append([train_loss.item(), val_loss.item(), test_loss.item()])\n",
    "    acc_list.append([train_acc.item(), val_acc.item(), test_acc.item()])\n",
    "    wandb.log({'loss': {'train': train_loss, 'val': val_loss, 'test': test_loss}, \n",
    "               'acc': {'train': train_acc, 'val': val_acc, 'test': test_acc}})"
   ]
  },
  {
   "cell_type": "code",
   "execution_count": 588,
   "metadata": {
    "cellId": "lu2042fghn2d954055efk"
   },
   "outputs": [
    {
     "ename": "Error",
     "evalue": "invalid apply state command: %apply_state 287ee3b8-7b49-46de-aaf3-f5547ec88ade/487ebe10-581d-4000-af18-ac589822c7f4",
     "output_type": "error",
     "traceback": []
    }
   ],
   "source": [
    "#!g1.1\n",
    "%apply_state 287ee3b8-7b49-46de-aaf3-f5547ec88ade/487ebe10-581d-4000-af18-ac589822c7f4"
   ]
  },
  {
   "cell_type": "code",
   "execution_count": null,
   "metadata": {
    "cellId": "spy9465gzlw7g7203eds"
   },
   "outputs": [],
   "source": [
    "#!g1.1\n"
   ]
  }
 ],
 "metadata": {
  "language_info": {
   "codemirror_mode": {
    "name": "ipython",
    "version": 3
   },
   "file_extension": ".py",
   "mimetype": "text/x-python",
   "name": "python",
   "nbconvert_exporter": "python",
   "pygments_lexer": "ipython3",
   "version": "3.7.7"
  },
  "notebookId": "ed8b8d25-6ff4-4481-9025-74cdd2debbe3",
  "notebookPath": "recsys/data_preparation.ipynb",
  "toc": {
   "base_numbering": 1,
   "nav_menu": {},
   "number_sections": true,
   "sideBar": true,
   "skip_h1_title": false,
   "title_cell": "Table of Contents",
   "title_sidebar": "Contents",
   "toc_cell": false,
   "toc_position": {},
   "toc_section_display": true,
   "toc_window_display": false
  },
  "varInspector": {
   "cols": {
    "lenName": 16,
    "lenType": 16,
    "lenVar": 40
   },
   "kernels_config": {
    "python": {
     "delete_cmd_postfix": "",
     "delete_cmd_prefix": "del ",
     "library": "var_list.py",
     "varRefreshCmd": "print(var_dic_list())"
    },
    "r": {
     "delete_cmd_postfix": ") ",
     "delete_cmd_prefix": "rm(",
     "library": "var_list.r",
     "varRefreshCmd": "cat(var_dic_list()) "
    }
   },
   "types_to_exclude": [
    "module",
    "function",
    "builtin_function_or_method",
    "instance",
    "_Feature"
   ],
   "window_display": false
  }
 },
 "nbformat": 4,
 "nbformat_minor": 4
}