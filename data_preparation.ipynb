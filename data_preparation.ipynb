{
 "cells": [
  {
   "cell_type": "code",
   "metadata": {
    "pycharm": {
     "name": "#%%\n"
    }
   },
   "source": [
    "from abc import ABC, abstractmethod\n",
    "import pandas as pd\n",
    "import numpy as np\n",
    "import scipy.sparse.csr\n",
    "from sklearn.preprocessing import LabelEncoder\n",
    "import matplotlib.pyplot as plt\n",
    "import scipy.sparse as sp\n",
    "from sklearn.metrics import ndcg_score\n",
    "from tqdm.notebook import tqdm\n",
    "import json\n",
    "%config InlineBackend.figure_format='retina'"
   ],
   "execution_count": 2,
   "outputs": []
  },
  {
   "cell_type": "markdown",
   "metadata": {
    "pycharm": {
     "name": "#%% md\n"
    }
   },
   "source": [
    "### Список датасетов\n",
    " - Gowalla\n",
    " - Yelp2018\n",
    " - Amazon-book"
   ]
  },
  {
   "cell_type": "code",
   "execution_count": 7,
   "metadata": {
    "pycharm": {
     "name": "#%%\n"
    }
   },
   "outputs": [],
   "source": [
    "class Dataset(ABC):\n",
    "    def __init__(self, ratings_filename, metadata_filename=None):\n",
    "        self.ratings_filename = ratings_filename\n",
    "        self.metadata_filename = metadata_filename\n",
    "        self.df = None\n",
    "\n",
    "    @staticmethod\n",
    "    def _parse_json(filename, nrows):\n",
    "        # pd.read_json('Musical_Instruments_5.json', nrows=10, chunksize=None, lines=True)\n",
    "        data = []\n",
    "        with open(filename) as json_file:\n",
    "            while len(data) < nrows:\n",
    "                data.append(json.loads(next(json_file)))\n",
    "        return data\n",
    "\n",
    "    @abstractmethod\n",
    "    def load_dataset(self, nrows):\n",
    "        pass\n",
    "\n",
    "    # @abstractmethod\n",
    "    def cold_start_type_split(self):\n",
    "        pass\n",
    "\n",
    "    # @abstractmethod\n",
    "    def train_test_split(self):\n",
    "        pass\n",
    "\n",
    "    # @abstractmethod\n",
    "    def build_sparse_interaction_matrix(self) -> sp.csr_matrix:\n",
    "        pass\n",
    "\n",
    "\n",
    "class AmazonDataset(Dataset):\n",
    "    def load_rating_dataset(self, nrows):\n",
    "        df = pd.read_csv(self.ratings_filename, nrows=nrows, header=None, dtype={3: int})\n",
    "        df[3] = pd.to_datetime(df[3], unit='s')\n",
    "        df.columns = [\"user\", \"item\", \"rating\", \"timestamp\"]\n",
    "        self.df = df\n",
    "        return df\n",
    "\n",
    "    def load_dataset(self, nrows):\n",
    "        return self._parse_json(self.ratings_filename, nrows)\n",
    "\n",
    "    def load_metadata(self, nrows):\n",
    "        return self._parse_json(self.metadata_filename, nrows)"
   ]
  },
  {
   "cell_type": "code",
   "execution_count": 8,
   "metadata": {
    "pycharm": {
     "name": "#%%\n"
    }
   },
   "outputs": [],
   "source": [
    "amazon = AmazonDataset('Musical_Instruments_5.json', 'meta_Appliances.json')\n",
    "df = amazon.load_dataset(3)"
   ]
  },
  {
   "cell_type": "code",
   "execution_count": null,
   "metadata": {
    "pycharm": {
     "name": "#%%\n"
    }
   },
   "outputs": [],
   "source": [
    "amazon.load_metadata(3)[2]"
   ]
  },
  {
   "cell_type": "markdown",
   "metadata": {
    "pycharm": {
     "name": "#%% md\n"
    }
   },
   "source": [
    "## Amazon Movies"
   ]
  },
  {
   "cell_type": "code",
   "execution_count": null,
   "outputs": [],
   "source": [
    "amazon = AmazonDataset('ratings_Movies_and_TV.csv')\n",
    "df = amazon.load_rating_dataset(500_000)"
   ],
   "metadata": {
    "collapsed": false,
    "pycharm": {
     "name": "#%%\n"
    }
   }
  },
  {
   "cell_type": "markdown",
   "metadata": {
    "pycharm": {
     "name": "#%% md\n"
    }
   },
   "source": [
    "### Матрица интеракций"
   ]
  },
  {
   "cell_type": "code",
   "execution_count": null,
   "metadata": {
    "pycharm": {
     "name": "#%%\n"
    }
   },
   "outputs": [],
   "source": [
    "# отфильтруем по позитивным оценкам\n",
    "df_positive = df[df['rating'] >= 4]\n",
    "df_positive.shape"
   ]
  },
  {
   "cell_type": "code",
   "execution_count": null,
   "metadata": {
    "pycharm": {
     "name": "#%%\n"
    }
   },
   "outputs": [],
   "source": [
    "encoder = LabelEncoder()\n",
    "\n",
    "df_positive.loc[:, 'user'] = encoder.fit_transform(df_positive['user'])\n",
    "df_positive.loc[:, 'item'] = encoder.fit_transform(df_positive['item'])"
   ]
  },
  {
   "cell_type": "code",
   "execution_count": null,
   "metadata": {
    "pycharm": {
     "name": "#%%\n"
    }
   },
   "outputs": [],
   "source": [
    "df_positive.nunique()"
   ]
  },
  {
   "cell_type": "code",
   "execution_count": null,
   "metadata": {
    "pycharm": {
     "name": "#%%\n"
    }
   },
   "outputs": [],
   "source": [
    "# csr_matrix((data, (row_ind, col_ind)), [shape=(M, N)])\n",
    "sparse_interactions = sp.csr_matrix((df_positive['rating'], (df_positive['user'], df_positive['item'])))"
   ]
  },
  {
   "cell_type": "code",
   "execution_count": null,
   "metadata": {
    "pycharm": {
     "name": "#%%\n"
    }
   },
   "outputs": [],
   "source": [
    "sparse_interactions"
   ]
  },
  {
   "cell_type": "code",
   "execution_count": null,
   "outputs": [],
   "source": [
    "sparse_interactions = sp.csr_matrix((df_positive['rating'], (df_positive['user'], df_positive['item'])))"
   ],
   "metadata": {
    "collapsed": false,
    "pycharm": {
     "name": "#%%\n"
    }
   }
  },
  {
   "cell_type": "markdown",
   "metadata": {
    "pycharm": {
     "name": "#%% md\n"
    }
   },
   "source": [
    "### Собираем граф"
   ]
  },
  {
   "cell_type": "code",
   "execution_count": null,
   "metadata": {
    "pycharm": {
     "name": "#%%\n"
    }
   },
   "outputs": [],
   "source": [
    "adj_mat = sp.csr_matrix((4, 4)).tolil()\n",
    "adj_mat[2:, 2:] = [[1, 1], [1, 1]]\n",
    "adj_mat.todense()"
   ]
  },
  {
   "cell_type": "raw",
   "metadata": {
    "pycharm": {
     "name": "#%% raw\n"
    }
   },
   "source": [
    "adj_mat = sp.dok_matrix(df_positive['user'].nunique())\n",
    "adj_mat = adj_mat.tolil()\n",
    "R = self.UserItemNet.tolil()\n",
    "adj_mat[:self.n_users, self.n_users:] = R\n",
    "adj_mat[self.n_users:, :self.n_users] = R.T\n",
    "adj_mat = adj_mat.todok()"
   ]
  },
  {
   "cell_type": "code",
   "execution_count": null,
   "outputs": [],
   "source": [
    "del adj_mat"
   ],
   "metadata": {
    "collapsed": false,
    "pycharm": {
     "name": "#%%\n"
    }
   }
  },
  {
   "cell_type": "markdown",
   "metadata": {
    "pycharm": {
     "name": "#%% md\n"
    }
   },
   "source": [
    "### GF-CF"
   ]
  },
  {
   "cell_type": "code",
   "execution_count": 6,
   "metadata": {
    "pycharm": {
     "name": "#%%\n"
    }
   },
   "outputs": [],
   "source": [
    "from sparsesvd import sparsesvd"
   ]
  },
  {
   "cell_type": "code",
   "execution_count": 71,
   "metadata": {
    "pycharm": {
     "name": "#%%\n"
    }
   },
   "outputs": [],
   "source": [
    "class GF_CF(object):\n",
    "    def __init__(self, train_matrix):\n",
    "        self.train_matrix = train_matrix\n",
    "\n",
    "    def fit(self, dim=16):\n",
    "        R = self.train_matrix\n",
    "        rowsum = np.array(R.sum(axis=1))\n",
    "        d_inv = np.power(rowsum, -0.5).flatten()\n",
    "        d_inv[np.isinf(d_inv)] = 0.\n",
    "        d_mat = sp.diags(d_inv)\n",
    "        R_norm = d_mat @ R\n",
    "\n",
    "        colsum = np.array(R.sum(axis=0))\n",
    "        d_inv = np.power(colsum, -0.5).flatten()\n",
    "        d_inv[np.isinf(d_inv)] = 0.\n",
    "        d_mat = sp.diags(d_inv)\n",
    "        self.d_mat_i = d_mat\n",
    "        self.d_mat_i_inv = sp.diags(1 / d_inv)\n",
    "        R_norm = R_norm @ d_mat\n",
    "        self.R_norm = R_norm.tocsc()\n",
    "        ut, s, self.vt = sparsesvd(self.R_norm, dim)\n",
    "        print('Train finished')\n",
    "\n",
    "    def predict(self, new_ratings: sp.coo_matrix):\n",
    "        R_norm = self.R_norm\n",
    "        # new_ratings = new_ratings.todense()\n",
    "        U_2 = new_ratings @ R_norm.T @ R_norm\n",
    "        U_1 = new_ratings @  self.d_mat_i @ self.vt.T @ self.vt @ self.d_mat_i_inv\n",
    "        predict = U_2 + U_1\n",
    "        predict[np.isnan(predict)] = 0\n",
    "\n",
    "        # if ds_name == 'amazon-book':\n",
    "        #     ret = U_2\n",
    "        # else:\n",
    "        #     U_1 = batch_test @  self.d_mat_i @ self.vt.T @ self.vt @ self.d_mat_i_inv\n",
    "        #     ret = U_2 + 0.3 * U_1\n",
    "        # return ret\n",
    "        return predict\n",
    "\n",
    "    def recommend_top_k(self, interactions: sp.coo_matrix, k=20):\n",
    "        \"\"\"\n",
    "        Предполагается нумерация айтемов с 0, иначе не будет работать argsort\n",
    "        \"\"\"\n",
    "        ranks = self.predict(interactions)\n",
    "        return np.asarray(np.argsort(-ranks, axis=1)[:, :k])"
   ]
  },
  {
   "cell_type": "code",
   "execution_count": null,
   "outputs": [],
   "source": [
    "gf_cf = GF_CF(sparse_interactions[:10_000])\n",
    "gf_cf.fit(1)"
   ],
   "metadata": {
    "collapsed": false,
    "pycharm": {
     "name": "#%%\n"
    }
   }
  },
  {
   "cell_type": "code",
   "execution_count": null,
   "outputs": [],
   "source": [
    "sparse_interactions.shape"
   ],
   "metadata": {
    "collapsed": false,
    "pycharm": {
     "name": "#%%\n"
    }
   }
  },
  {
   "cell_type": "code",
   "execution_count": null,
   "outputs": [],
   "source": [
    "gf_cf.R_norm.shape"
   ],
   "metadata": {
    "collapsed": false,
    "pycharm": {
     "name": "#%%\n"
    }
   }
  },
  {
   "cell_type": "code",
   "source": [
    "%%time\n",
    "preds = gf_cf.predict(sparse_interactions[10_000:20_000])\n",
    "# preds = np.nanargmax(preds, axis=1)\n",
    "preds[np.isnan(preds)] = 0"
   ],
   "metadata": {
    "collapsed": false,
    "pycharm": {
     "name": "#%%\n"
    }
   },
   "execution_count": null,
   "outputs": []
  },
  {
   "cell_type": "code",
   "execution_count": null,
   "outputs": [],
   "source": [
    "%%time\n",
    "ndcg_score(np.array(preds),\n",
    "           np.array(sparse_interactions[10_000:20_000].todense()))"
   ],
   "metadata": {
    "collapsed": false,
    "pycharm": {
     "name": "#%%\n"
    }
   }
  },
  {
   "cell_type": "code",
   "execution_count": null,
   "outputs": [],
   "source": [
    "result = []\n",
    "for i in tqdm(range(sparse_interactions.shape[0])):\n",
    "    if preds[i] in sparse_interactions[i].nonzero()[1]:\n",
    "        result.append(1)\n",
    "    else:\n",
    "        result.append(0)\n",
    "result = np.array(result)\n",
    "result.mean()"
   ],
   "metadata": {
    "collapsed": false,
    "pycharm": {
     "name": "#%%\n"
    }
   }
  },
  {
   "cell_type": "code",
   "execution_count": null,
   "outputs": [],
   "source": [
    "np.where(result == 0)"
   ],
   "metadata": {
    "collapsed": false,
    "pycharm": {
     "name": "#%%\n"
    }
   }
  },
  {
   "cell_type": "code",
   "execution_count": null,
   "outputs": [],
   "source": [
    "def normalizing(R):\n",
    "    rowsum = np.array(R.sum(axis=1))\n",
    "    d_inv = np.power(rowsum, -0.5).flatten()\n",
    "    d_inv[np.isinf(d_inv)] = 0.\n",
    "    d_mat = sp.diags(d_inv)\n",
    "    norm_R = d_mat @ R\n",
    "\n",
    "    colsum = np.array(R.sum(axis=0))\n",
    "    d_inv = np.power(colsum, -0.5).flatten()\n",
    "    d_inv[np.isinf(d_inv)] = 0.\n",
    "    d_mat = sp.diags(d_inv)\n",
    "    d_mat_i = d_mat.copy()\n",
    "    d_mat_i_inv = sp.diags(1 / d_inv)\n",
    "    norm_R = norm_R @ d_mat\n",
    "    return norm_R"
   ],
   "metadata": {
    "collapsed": false,
    "pycharm": {
     "name": "#%%\n"
    }
   }
  },
  {
   "cell_type": "code",
   "execution_count": null,
   "outputs": [],
   "source": [
    "normalizing(np.array([[1, 0, 0], [0, 1, 1], [0, 0, 1]]))"
   ],
   "metadata": {
    "collapsed": false,
    "pycharm": {
     "name": "#%%\n"
    }
   }
  },
  {
   "cell_type": "markdown",
   "source": [
    "### LGCN-IDE"
   ],
   "metadata": {
    "collapsed": false,
    "pycharm": {
     "name": "#%% md\n"
    }
   }
  },
  {
   "cell_type": "code",
   "source": [
    "class LGCN_IDE(object):\n",
    "    def __init__(self, adj_mat):\n",
    "        self.adj_mat = adj_mat\n",
    "\n",
    "    def train(self):\n",
    "        adj_mat = self.adj_mat[:threshold]\n",
    "        rowsum = np.array(adj_mat.sum(axis=1))\n",
    "        d_inv = np.power(rowsum, -0.5).flatten()\n",
    "        d_inv[np.isinf(d_inv)] = 0.\n",
    "        d_mat = sp.diags(d_inv)\n",
    "        d_mat_i = d_mat\n",
    "        norm_adj = d_mat.dot(adj_mat)\n",
    "\n",
    "        colsum = np.array(adj_mat.sum(axis=0))\n",
    "        d_inv = np.power(colsum, -0.5).flatten()\n",
    "        d_inv[np.isinf(d_inv)] = 0.\n",
    "        d_mat = sp.diags(d_inv)\n",
    "        d_mat_u = d_mat\n",
    "        d_mat_u_inv = sp.diags(1/d_inv)\n",
    "        norm_adj = norm_adj.dot(d_mat)\n",
    "        self.norm_adj = norm_adj.tocsr()\n",
    "\n",
    "    def getUsersRating(self, batch_users, ds_name):\n",
    "        norm_adj = self.norm_adj\n",
    "        batch_test = np.array(norm_adj[batch_users,:].todense())\n",
    "        U_1 = batch_test @ norm_adj.T @ norm_adj\n",
    "        if(ds_name == 'gowalla'):\n",
    "            U_2 = U_1 @ norm_adj.T @ norm_adj\n",
    "            return U_2\n",
    "        else:\n",
    "            return U_1"
   ],
   "metadata": {
    "collapsed": false,
    "pycharm": {
     "name": "#%%\n"
    }
   },
   "execution_count": null,
   "outputs": []
  },
  {
   "cell_type": "markdown",
   "source": [
    "### Метрики"
   ],
   "metadata": {
    "collapsed": false,
    "pycharm": {
     "name": "#%% md\n"
    }
   }
  },
  {
   "cell_type": "code",
   "execution_count": 152,
   "outputs": [],
   "source": [
    "def recall_at_k(pred_items: np.array, true_items: np.array):\n",
    "    assert pred_items.shape[0] == true_items.shape[0]\n",
    "    recall_list = []\n",
    "    for i_pred, i_true in zip(pred_items, true_items):\n",
    "        try:\n",
    "            hits = len(np.intersect1d(i_pred, i_true))\n",
    "            recall = hits / len(i_true)\n",
    "            recall_list.append(recall)\n",
    "        except ZeroDivisionError:\n",
    "            print(len(recall_list), i_true)\n",
    "    return np.mean(recall_list)\n",
    "\n",
    "def precision_at_k(pred_items: np.array, true_items: np.array):\n",
    "    assert pred_items.shape[0] == true_items.shape[0]\n",
    "    precision_list = []\n",
    "    for i_pred, i_true in zip(pred_items, true_items):\n",
    "        try:\n",
    "            hits = len(np.intersect1d(i_pred, i_true))\n",
    "            prec = hits / len(i_pred)\n",
    "            precision_list.append(prec)\n",
    "        except ZeroDivisionError:\n",
    "            print(len(precision_list), i_true)\n",
    "    return np.mean(precision_list)"
   ],
   "metadata": {
    "collapsed": false,
    "pycharm": {
     "name": "#%%\n"
    }
   }
  },
  {
   "cell_type": "code",
   "execution_count": null,
   "outputs": [],
   "source": [
    "y_true = [\n",
    "    [1, 1, 0, 0, 0],\n",
    "    [1, 1, 1, 0, 0]\n",
    "]\n",
    "\n",
    "y_pred = [\n",
    "    [2, 3, 0, 0, 0],\n",
    "    [100, 200, 300, 0, 0]\n",
    "]\n",
    "\n",
    "# y_true : ndarray of shape (n_samples, n_labels)\n",
    "# True targets of multilabel classification, or true scores of entities to be ranked.\n",
    "#\n",
    "# y_score: ndarray of shape (n_samples, n_labels)\n",
    "# Target scores, can either be probability estimates, confidence values, or non-thresholded measure of decisions (as returned by “decision_function” on some classifiers).\n",
    "\n",
    "ndcg_score(y_true, y_pred)"
   ],
   "metadata": {
    "collapsed": false,
    "pycharm": {
     "name": "#%%\n"
    }
   }
  },
  {
   "cell_type": "code",
   "execution_count": null,
   "outputs": [],
   "source": [
    "preds = gf_cf.predict(sparse_interactions)"
   ],
   "metadata": {
    "collapsed": false,
    "pycharm": {
     "name": "#%%\n"
    }
   }
  },
  {
   "cell_type": "code",
   "execution_count": null,
   "outputs": [],
   "source": [
    "%%time\n",
    "ndcg_score(np.array(preds), np.array(sparse_interactions.todense()))"
   ],
   "metadata": {
    "collapsed": false,
    "pycharm": {
     "name": "#%%\n"
    }
   }
  },
  {
   "cell_type": "markdown",
   "source": [
    "## MovieLens 100k"
   ],
   "metadata": {
    "collapsed": false,
    "pycharm": {
     "name": "#%% md\n"
    }
   }
  },
  {
   "cell_type": "code",
   "execution_count": 4,
   "outputs": [],
   "source": [
    "class MovieLens(Dataset):\n",
    "    def load_rating_dataset(self, nrows=None):\n",
    "        df = pd.read_table(self.ratings_filename,  header=None, nrows=nrows)\n",
    "        df.columns = ['user_id', 'item_id', 'rating', 'timestamp']\n",
    "        df['timestamp'] = pd.to_datetime(df['timestamp'], unit='s')\n",
    "        df['user_id'] -= 1\n",
    "        df['item_id'] -= 1\n",
    "        self.df = df\n",
    "        return df\n",
    "\n",
    "    def load_dataset(self, nrows):\n",
    "        pass\n",
    "\n",
    "    def load_metadata(self, nrows):\n",
    "        pass"
   ],
   "metadata": {
    "collapsed": false,
    "pycharm": {
     "name": "#%%\n"
    }
   }
  },
  {
   "cell_type": "code",
   "execution_count": 23,
   "outputs": [
    {
     "name": "stderr",
     "output_type": "stream",
     "text": [
      "/var/folders/p_/sddndwcs6m30b1tfj2cy1ys40000gn/T/ipykernel_11478/2692659937.py:4: SettingWithCopyWarning: \n",
      "A value is trying to be set on a copy of a slice from a DataFrame.\n",
      "Try using .loc[row_indexer,col_indexer] = value instead\n",
      "\n",
      "See the caveats in the documentation: https://pandas.pydata.org/pandas-docs/stable/user_guide/indexing.html#returning-a-view-versus-a-copy\n",
      "  df['rating'] = 1\n"
     ]
    }
   ],
   "source": [
    "mov = MovieLens('ml-100k/u.data')\n",
    "df = mov.load_rating_dataset()\n",
    "df = df[df['rating'] >= 4]\n",
    "df['rating'] = 1"
   ],
   "metadata": {
    "collapsed": false,
    "pycharm": {
     "name": "#%%\n"
    }
   }
  },
  {
   "cell_type": "code",
   "execution_count": 24,
   "outputs": [],
   "source": [
    "sparse_interactions = sp.csr_matrix((df['rating'], (df['user_id'], df['item_id'])))"
   ],
   "metadata": {
    "collapsed": false,
    "pycharm": {
     "name": "#%%\n"
    }
   }
  },
  {
   "cell_type": "code",
   "execution_count": 25,
   "outputs": [
    {
     "data": {
      "text/plain": "<943x1674 sparse matrix of type '<class 'numpy.int64'>'\n\twith 55375 stored elements in Compressed Sparse Row format>"
     },
     "execution_count": 25,
     "metadata": {},
     "output_type": "execute_result"
    }
   ],
   "source": [
    "sparse_interactions"
   ],
   "metadata": {
    "collapsed": false,
    "pycharm": {
     "name": "#%%\n"
    }
   }
  },
  {
   "cell_type": "code",
   "execution_count": 156,
   "outputs": [
    {
     "name": "stderr",
     "output_type": "stream",
     "text": [
      "/var/folders/p_/sddndwcs6m30b1tfj2cy1ys40000gn/T/ipykernel_11478/1620172724.py:14: RuntimeWarning: divide by zero encountered in power\n",
      "  d_inv = np.power(colsum, -0.5).flatten()\n",
      "/var/folders/p_/sddndwcs6m30b1tfj2cy1ys40000gn/T/ipykernel_11478/1620172724.py:18: RuntimeWarning: divide by zero encountered in true_divide\n",
      "  self.d_mat_i_inv = sp.diags(1 / d_inv)\n"
     ]
    },
    {
     "name": "stdout",
     "output_type": "stream",
     "text": [
      "Train finished\n",
      "NDGC score = 0.77876\n",
      "34 []\n",
      "Recall = 0.21262\n",
      "Precision = 0.62867\n"
     ]
    }
   ],
   "source": [
    "SPLIT_THRESHOLD = 650\n",
    "K = 10\n",
    "\n",
    "gf_cf = GF_CF(sparse_interactions[:SPLIT_THRESHOLD])\n",
    "gf_cf.fit(32)\n",
    "ranks = gf_cf.predict(sparse_interactions[SPLIT_THRESHOLD:])\n",
    "recs = gf_cf.recommend_top_k(sparse_interactions[SPLIT_THRESHOLD:, :], K)\n",
    "\n",
    "# valuation\n",
    "y_true = np.array([sparse_interactions[i].nonzero()[1] for i in range(SPLIT_THRESHOLD, sparse_interactions.shape[0])], dtype='object')\n",
    "print(f'NDGC score = {ndcg_score(np.array(ranks), np.array(sparse_interactions[SPLIT_THRESHOLD:].todense())).round(5)}')\n",
    "print(f'Recall = {recall_at_k(recs, y_true).round(5)}')\n",
    "print(f'Precision = {precision_at_k(recs, y_true).round(5)}')"
   ],
   "metadata": {
    "collapsed": false,
    "pycharm": {
     "name": "#%%\n"
    }
   }
  },
  {
   "cell_type": "code",
   "execution_count": 157,
   "outputs": [
    {
     "data": {
      "text/plain": "<1x1674 sparse matrix of type '<class 'numpy.int64'>'\n\twith 0 stored elements in Compressed Sparse Row format>"
     },
     "execution_count": 157,
     "metadata": {},
     "output_type": "execute_result"
    }
   ],
   "source": [
    "sparse_interactions[684]"
   ],
   "metadata": {
    "collapsed": false,
    "pycharm": {
     "name": "#%%\n"
    }
   }
  },
  {
   "cell_type": "code",
   "execution_count": 127,
   "outputs": [
    {
     "data": {
      "text/plain": "Empty DataFrame\nColumns: [user_id, item_id, rating, timestamp]\nIndex: []",
      "text/html": "<div>\n<style scoped>\n    .dataframe tbody tr th:only-of-type {\n        vertical-align: middle;\n    }\n\n    .dataframe tbody tr th {\n        vertical-align: top;\n    }\n\n    .dataframe thead th {\n        text-align: right;\n    }\n</style>\n<table border=\"1\" class=\"dataframe\">\n  <thead>\n    <tr style=\"text-align: right;\">\n      <th></th>\n      <th>user_id</th>\n      <th>item_id</th>\n      <th>rating</th>\n      <th>timestamp</th>\n    </tr>\n  </thead>\n  <tbody>\n  </tbody>\n</table>\n</div>"
     },
     "execution_count": 127,
     "metadata": {},
     "output_type": "execute_result"
    }
   ],
   "source": [
    "df[df['user_id'] == 684]"
   ],
   "metadata": {
    "collapsed": false,
    "pycharm": {
     "name": "#%%\n"
    }
   }
  },
  {
   "cell_type": "code",
   "execution_count": null,
   "outputs": [],
   "source": [],
   "metadata": {
    "collapsed": false,
    "pycharm": {
     "name": "#%%\n"
    }
   }
  }
 ],
 "metadata": {
  "kernelspec": {
   "display_name": "Python 3 (ipykernel)",
   "language": "python",
   "name": "python3"
  },
  "language_info": {
   "codemirror_mode": {
    "name": "ipython",
    "version": 3
   },
   "file_extension": ".py",
   "mimetype": "text/x-python",
   "name": "python",
   "nbconvert_exporter": "python",
   "pygments_lexer": "ipython3",
   "version": "3.9.5"
  },
  "toc": {
   "base_numbering": 1,
   "nav_menu": {},
   "number_sections": true,
   "sideBar": true,
   "skip_h1_title": false,
   "title_cell": "Table of Contents",
   "title_sidebar": "Contents",
   "toc_cell": false,
   "toc_position": {},
   "toc_section_display": true,
   "toc_window_display": false
  },
  "varInspector": {
   "cols": {
    "lenName": 16,
    "lenType": 16,
    "lenVar": 40
   },
   "kernels_config": {
    "python": {
     "delete_cmd_postfix": "",
     "delete_cmd_prefix": "del ",
     "library": "var_list.py",
     "varRefreshCmd": "print(var_dic_list())"
    },
    "r": {
     "delete_cmd_postfix": ") ",
     "delete_cmd_prefix": "rm(",
     "library": "var_list.r",
     "varRefreshCmd": "cat(var_dic_list()) "
    }
   },
   "types_to_exclude": [
    "module",
    "function",
    "builtin_function_or_method",
    "instance",
    "_Feature"
   ],
   "window_display": false
  }
 },
 "nbformat": 4,
 "nbformat_minor": 1
}