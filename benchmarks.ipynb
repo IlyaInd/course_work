{
 "cells": [
  {
   "cell_type": "code",
   "execution_count": 9,
   "metadata": {
    "cellId": "mkk2qnf39qg2kichq4rvqf",
    "pycharm": {
     "name": "#%%\n"
    }
   },
   "outputs": [],
   "source": [
    "import pandas as pd\n",
    "import numpy as np\n",
    "import torch\n",
    "\n",
    "pd.options.mode.chained_assignment = None\n",
    "np.random.seed(42)\n",
    "torch.manual_seed(42)\n",
    "\n",
    "%config InlineBackend.figure_format='retina'"
   ]
  },
  {
   "cell_type": "code",
   "execution_count": 10,
   "metadata": {
    "cellId": "l4484os14ybef9gi2ejvh",
    "collapsed": false,
    "jupyter": {
     "outputs_hidden": false
    },
    "pycharm": {
     "name": "#%%\n"
    }
   },
   "outputs": [
    {
     "data": {
      "text/plain": [
       "'Tesla V100-SXM2-32GB'"
      ]
     },
     "execution_count": 10,
     "metadata": {},
     "output_type": "execute_result"
    }
   ],
   "source": [
    "#!g1.1\n",
    "torch.cuda.get_device_name(0)"
   ]
  },
  {
   "cell_type": "markdown",
   "metadata": {
    "cellId": "sccsq40n5im7qfi6hnhhb",
    "execution_id": "ba85aedd-cf9a-4beb-a6dd-81c2fef86b31"
   },
   "source": [
    "## Metrics and Datasets"
   ]
  },
  {
   "cell_type": "code",
   "execution_count": 11,
   "metadata": {
    "cellId": "l26vox10je88r13q2o96ne",
    "collapsed": false,
    "jupyter": {
     "outputs_hidden": false
    },
    "pycharm": {
     "name": "#%%\n"
    }
   },
   "outputs": [],
   "source": [
    "from sklearn.metrics import ndcg_score\n",
    "from utils import precision_at_k, recall_at_k, ndcg_at_k\n",
    "from datasets import InteractionMatrixDataset, GraphDataset"
   ]
  },
  {
   "cell_type": "code",
   "execution_count": 48,
   "metadata": {
    "cellId": "xt33vps1vdqi17acbmhp7l",
    "collapsed": false,
    "jupyter": {
     "outputs_hidden": false
    },
    "pycharm": {
     "name": "#%%\n"
    }
   },
   "outputs": [
    {
     "name": "stdout",
     "output_type": "stream",
     "text": [
      "Sparsity = 99.856%\n",
      "Users: 35736\n",
      "Items: 38121\n"
     ]
    }
   ],
   "source": [
    "amazon = InteractionMatrixDataset('amazon_20_core.csv.gz', usecols=['user_id', 'item_id', 'rating'])\n",
    "amazon.train_test_split(test_ratio=0.3, observed_ratio=0.1)\n",
    "amazon.build_sparse_interaction_matrix()"
   ]
  },
  {
   "cell_type": "code",
   "execution_count": 13,
   "metadata": {
    "cellId": "pz0ppty236kykp5z6894d",
    "collapsed": false,
    "jupyter": {
     "outputs_hidden": false
    },
    "pycharm": {
     "name": "#%%\n"
    }
   },
   "outputs": [
    {
     "name": "stdout",
     "output_type": "stream",
     "text": [
      "Sparsity = 95.532%\n",
      "Users: 6040\n",
      "Items: 3706\n"
     ]
    }
   ],
   "source": [
    "mov = InteractionMatrixDataset('ml-1m/ratings.dat', usecols=[0, 1, 2], header=None, sep='::', engine='python')\n",
    "mov.train_test_split(test_ratio=0.3, observed_ratio=0.1)\n",
    "mov.build_sparse_interaction_matrix()"
   ]
  },
  {
   "cell_type": "markdown",
   "metadata": {
    "cellId": "3chjtjjzg6gf29sk7d54oi",
    "execution_id": "955d0b3a-6263-4849-bdcf-81a7359b6596"
   },
   "source": [
    "# Top Popular"
   ]
  },
  {
   "cell_type": "markdown",
   "metadata": {
    "cellId": "tsel6m8jgcnaaqskwh69mt",
    "execution_id": "b50f3a1c-658b-4665-883a-33de7617b0c3",
    "pycharm": {
     "name": "#%% md\n"
    }
   },
   "source": [
    "## Amazon Books"
   ]
  },
  {
   "cell_type": "code",
   "execution_count": 14,
   "metadata": {
    "cellId": "2sw0el3bd6y5twa7g2moxs"
   },
   "outputs": [
    {
     "name": "stdout",
     "output_type": "stream",
     "text": [
      "====== ALS ======\n",
      "Precision = 0.02621\n",
      "Recall = 0.0123\n",
      "NDCG = 0.12631\n"
     ]
    }
   ],
   "source": [
    "K = 20\n",
    "vc = amazon._df_train['item_id'].value_counts().sort_index().values\n",
    "\n",
    "all_ranks = torch.Tensor(np.tile(vc, (amazon.n_test_users, 1)))\n",
    "all_ranks[amazon.observed_interactions.nonzero()] = 0  # exclude seen items\n",
    "\n",
    "ranks, recs = all_ranks.topk(20, dim=1)\n",
    "y_true = np.array([amazon.future_interactions[i].nonzero()[1] for i in range(amazon.n_test_users)], dtype='object')\n",
    "\n",
    "print('====== ALS ======')\n",
    "print(f'Precision = {precision_at_k(recs, y_true).round(5)}')\n",
    "print(f'Recall = {recall_at_k(recs, y_true).round(5)}')\n",
    "print(f'NDCG = {ndcg_at_k(ranks.numpy(), recs, amazon.future_interactions).round(5)}')"
   ]
  },
  {
   "cell_type": "markdown",
   "metadata": {
    "cellId": "jfhbtkv41i2bxaasrz3dp",
    "execution_id": "cbbb32c8-0e52-477d-b47e-2ba17757877c",
    "pycharm": {
     "name": "#%% md\n"
    }
   },
   "source": [
    "## MovieLens1M"
   ]
  },
  {
   "cell_type": "code",
   "execution_count": 15,
   "metadata": {
    "cellId": "d6jo88sb907nvq8hsvz0b"
   },
   "outputs": [],
   "source": [
    "K = 20\n",
    "vc = mov._df_train['item_id'].value_counts().sort_index().values\n",
    "\n",
    "all_ranks = torch.Tensor(np.tile(vc, (mov.n_test_users, 1)))\n",
    "all_ranks[mov.observed_interactions.nonzero()] = 0  # exclude seen items\n",
    "\n",
    "ranks, recs = all_ranks.topk(20, dim=1)"
   ]
  },
  {
   "cell_type": "code",
   "execution_count": 16,
   "metadata": {
    "cellId": "zvcn02ds0dpdchax5wyt9"
   },
   "outputs": [
    {
     "name": "stdout",
     "output_type": "stream",
     "text": [
      "====== ALS ======\n",
      "Precision = 0.41206\n",
      "Recall = 0.08408\n",
      "NDCG = 0.72144\n"
     ]
    }
   ],
   "source": [
    "y_true = np.array([mov.future_interactions[i].nonzero()[1] for i in range(mov.n_test_users)], dtype='object')\n",
    "\n",
    "print('====== ALS ======')\n",
    "print(f'Precision = {precision_at_k(recs, y_true).round(5)}')\n",
    "print(f'Recall = {recall_at_k(recs, y_true).round(5)}')\n",
    "print(f'NDCG = {ndcg_at_k(ranks.numpy(), recs, mov.future_interactions).round(5)}')"
   ]
  },
  {
   "cell_type": "markdown",
   "metadata": {
    "cellId": "sze90pikg9zl2aogmf91",
    "execution_id": "37ab1cf4-1802-47fa-ac63-ede340ab25f1",
    "pycharm": {
     "name": "#%% md\n"
    }
   },
   "source": [
    "# ALS"
   ]
  },
  {
   "cell_type": "code",
   "execution_count": 17,
   "metadata": {
    "cellId": "mta7q9ibqapymppj84j2n9",
    "collapsed": false,
    "jupyter": {
     "outputs_hidden": false
    },
    "pycharm": {
     "name": "#%%\n"
    }
   },
   "outputs": [
    {
     "name": "stderr",
     "output_type": "stream",
     "text": [
      "/home/jupyter/.local/lib/python3.8/site-packages/implicit/gpu/__init__.py:13: UserWarning: CUDA extension is built, but disabling GPU support because of 'Cuda Error: CUDA driver version is insufficient for CUDA runtime version (/project/./implicit/gpu/utils.h:71)'\n",
      "  warnings.warn(\n"
     ]
    }
   ],
   "source": [
    "from implicit.als import AlternatingLeastSquares"
   ]
  },
  {
   "cell_type": "markdown",
   "metadata": {
    "cellId": "k289t5uqudhn67o0qtop7",
    "execution_id": "336aa0ae-6a91-4d47-8ea7-9b5aa1618e46",
    "pycharm": {
     "name": "#%% md\n"
    }
   },
   "source": [
    "## Amazon Books"
   ]
  },
  {
   "cell_type": "code",
   "execution_count": 18,
   "metadata": {
    "cellId": "uexxelimsygt7siszs004",
    "collapsed": false,
    "jupyter": {
     "outputs_hidden": false
    },
    "pycharm": {
     "name": "#%%\n"
    }
   },
   "outputs": [
    {
     "name": "stderr",
     "output_type": "stream",
     "text": [
      "/home/jupyter/.local/lib/python3.8/site-packages/implicit/utils.py:26: UserWarning: OpenBLAS detected. Its highly recommend to set the environment variable 'export OPENBLAS_NUM_THREADS=1' to disable its internal multithreading\n",
      "  warnings.warn(\n"
     ]
    },
    {
     "data": {
      "application/vnd.jupyter.widget-view+json": {
       "model_id": "8ad52b54a9fb4394b58e1d3b92a48419",
       "version_major": 2,
       "version_minor": 0
      },
      "text/plain": [
       "HBox(children=(HTML(value=''), FloatProgress(value=0.0, max=5.0), HTML(value='')))"
      ]
     },
     "metadata": {},
     "output_type": "display_data"
    },
    {
     "name": "stdout",
     "output_type": "stream",
     "text": [
      "\n"
     ]
    }
   ],
   "source": [
    "als = AlternatingLeastSquares(256, iterations=5, regularization=0.001,\n",
    "                              calculate_training_loss=True, random_state=42, num_threads=2)\n",
    "\n",
    "als.fit(amazon.train_interactions, show_progress=True)\n",
    "\n",
    "als.partial_fit_users(userids=np.arange(amazon.n_train_users, amazon.n_train_users + amazon.n_test_users),\n",
    "                      user_items=amazon.observed_interactions)"
   ]
  },
  {
   "cell_type": "code",
   "execution_count": 21,
   "metadata": {
    "cellId": "j7buyvnxto90a541qu882jq",
    "collapsed": false,
    "jupyter": {
     "outputs_hidden": false
    },
    "pycharm": {
     "name": "#%%\n"
    }
   },
   "outputs": [
    {
     "name": "stdout",
     "output_type": "stream",
     "text": [
      "====== ALS ======\n",
      "Precision = 0.13513\n",
      "Recall = 0.06321\n",
      "NDCG = 0.42516\n"
     ]
    }
   ],
   "source": [
    "K = 20\n",
    "recs, ranks = np.array(als.recommend(userid=np.arange(amazon.n_train_users, amazon.n_train_users + amazon.n_test_users),\n",
    "                                     filter_already_liked_items=True,\n",
    "                                     user_items=amazon.observed_interactions, N=K))\n",
    "y_true = np.array([amazon.future_interactions[i].nonzero()[1] for i in range(amazon.n_test_users)], dtype='object')\n",
    "\n",
    "print('====== ALS ======')\n",
    "print(f'Precision = {precision_at_k(recs, y_true).round(5)}')\n",
    "print(f'Recall = {recall_at_k(recs, y_true).round(5)}')\n",
    "print(f'NDCG = {ndcg_at_k(ranks, recs, amazon.future_interactions).round(5)}')"
   ]
  },
  {
   "cell_type": "markdown",
   "metadata": {
    "cellId": "5uc5z099d4xgmmmfarl2i",
    "execution_id": "e6ef9128-95a9-4d95-81db-253a57cbf9ca",
    "pycharm": {
     "name": "#%% md\n"
    }
   },
   "source": [
    "## MovieLens1M"
   ]
  },
  {
   "cell_type": "code",
   "execution_count": 22,
   "metadata": {
    "cellId": "jf6ig5bu276elc1fgehw5",
    "collapsed": false,
    "jupyter": {
     "outputs_hidden": false
    },
    "pycharm": {
     "name": "#%%\n"
    }
   },
   "outputs": [
    {
     "data": {
      "application/vnd.jupyter.widget-view+json": {
       "model_id": "063428d002054668bbcf2211dd956bc2",
       "version_major": 2,
       "version_minor": 0
      },
      "text/plain": [
       "HBox(children=(HTML(value=''), FloatProgress(value=0.0, max=5.0), HTML(value='')))"
      ]
     },
     "metadata": {},
     "output_type": "display_data"
    },
    {
     "name": "stdout",
     "output_type": "stream",
     "text": [
      "\n"
     ]
    }
   ],
   "source": [
    "als = AlternatingLeastSquares(32, iterations=5, regularization=0.1,\n",
    "                              calculate_training_loss=True, random_state=42, num_threads=2)\n",
    "\n",
    "als.fit(mov.train_interactions, show_progress=True)\n",
    "\n",
    "als.partial_fit_users(userids=np.arange(mov.n_train_users, mov.n_train_users + mov.n_test_users),\n",
    "                      user_items=mov.observed_interactions)"
   ]
  },
  {
   "cell_type": "code",
   "execution_count": 25,
   "metadata": {
    "cellId": "5e5kl4m4tpmb0ejjk7q1kt",
    "collapsed": false,
    "jupyter": {
     "outputs_hidden": false
    },
    "pycharm": {
     "name": "#%%\n"
    }
   },
   "outputs": [
    {
     "name": "stdout",
     "output_type": "stream",
     "text": [
      "====== ALS ======\n",
      "Precision = 0.52862\n",
      "Recall = 0.11839\n",
      "NDCG = 0.80017\n"
     ]
    }
   ],
   "source": [
    "K = 20\n",
    "recs, ranks = np.array(als.recommend(userid=np.arange(mov.n_train_users, mov.n_train_users + mov.n_test_users),\n",
    "                                     filter_already_liked_items=True,\n",
    "                                     user_items=mov.observed_interactions, N=K))\n",
    "y_true = np.array([mov.future_interactions[i].nonzero()[1] for i in range(mov.n_test_users)], dtype='object')\n",
    "\n",
    "print('====== ALS ======')\n",
    "print(f'Precision = {precision_at_k(recs, y_true).round(5)}')\n",
    "print(f'Recall = {recall_at_k(recs, y_true).round(5)}')\n",
    "print(f'NDCG = {ndcg_at_k(ranks, recs, mov.future_interactions).round(5)}')"
   ]
  },
  {
   "cell_type": "markdown",
   "metadata": {
    "cellId": "fq9wwfloqtg0sptn5ho87k9",
    "execution_id": "33b7ba36-8bd3-4917-91ba-170bf7014459"
   },
   "source": [
    "# GF-CF"
   ]
  },
  {
   "cell_type": "code",
   "execution_count": 26,
   "metadata": {
    "cellId": "s62ukwn6u2fnc3p4veg3e",
    "collapsed": false,
    "jupyter": {
     "outputs_hidden": false
    },
    "pycharm": {
     "name": "#%%\n"
    }
   },
   "outputs": [],
   "source": [
    "from models import GF_CF"
   ]
  },
  {
   "cell_type": "markdown",
   "metadata": {
    "cellId": "rvy4mdhwe7n5j74swzi8l",
    "execution_id": "6cc9d8e4-59f6-497d-9830-538e8bb8d6b1",
    "pycharm": {
     "name": "#%% md\n"
    }
   },
   "source": [
    "### Amazon Books"
   ]
  },
  {
   "cell_type": "code",
   "execution_count": 27,
   "metadata": {
    "cellId": "8qj6naq7fgcts9oaj7nlgp",
    "pycharm": {
     "name": "#%%\n"
    }
   },
   "outputs": [
    {
     "name": "stdout",
     "output_type": "stream",
     "text": [
      "====== GF-CF ======\n",
      "Precision = 0.1542\n",
      "Recall = 0.07702\n",
      "NDCG = 0.6333 \n",
      "\n",
      "CPU times: user 6min 37s, sys: 2min 26s, total: 9min 3s\n",
      "Wall time: 8min 14s\n"
     ]
    }
   ],
   "source": [
    "#!c1.8\n",
    "%%time\n",
    "K = 20\n",
    "\n",
    "gf_cf = GF_CF(amazon.train_interactions)\n",
    "gf_cf.fit(64)\n",
    "ranks = gf_cf.predict(amazon.observed_interactions)\n",
    "recs = gf_cf.recommend_top_k(amazon.observed_interactions, K)\n",
    "\n",
    "y_true = np.array([amazon.future_interactions[i].nonzero()[1] for i in range(amazon.n_test_users)], dtype='object')\n",
    "print('====== GF-CF ======')\n",
    "print(f'Precision = {precision_at_k(recs, y_true).round(5)}')\n",
    "print(f'Recall = {recall_at_k(recs, y_true).round(5)}')\n",
    "print(f'NDCG = {ndcg_score(np.array(ranks), np.array(amazon.future_interactions.todense())).round(5)} \\n')"
   ]
  },
  {
   "cell_type": "markdown",
   "metadata": {
    "cellId": "wlzdy31c12r238ibfs2y48",
    "execution_id": "3b4156af-1179-4bdc-94c1-16ffc6bb99f1",
    "pycharm": {
     "name": "#%% md\n"
    }
   },
   "source": [
    "### MovieLens1M"
   ]
  },
  {
   "cell_type": "code",
   "execution_count": 28,
   "metadata": {
    "cellId": "fhs1qyiwtf3bw0h716ssx",
    "collapsed": false,
    "jupyter": {
     "outputs_hidden": false
    },
    "pycharm": {
     "name": "#%%\n"
    }
   },
   "outputs": [
    {
     "name": "stdout",
     "output_type": "stream",
     "text": [
      "====== GF-CF ======\n",
      "Precision = 0.57339\n",
      "Recall = 0.13319\n",
      "NDCG = 0.76124 \n",
      "\n",
      "CPU times: user 7.66 s, sys: 4.82 s, total: 12.5 s\n",
      "Wall time: 2min 15s\n"
     ]
    }
   ],
   "source": [
    "#!c1.8\n",
    "%%time\n",
    "K = 20\n",
    "\n",
    "gf_cf = GF_CF(mov.train_interactions)\n",
    "gf_cf.fit(64)\n",
    "ranks = gf_cf.predict(mov.observed_interactions)\n",
    "recs = gf_cf.recommend_top_k(mov.observed_interactions, K)\n",
    "\n",
    "y_true = np.array([mov.future_interactions[i].nonzero()[1] for i in range(mov.n_test_users)], dtype='object')\n",
    "print('====== GF-CF ======')\n",
    "print(f'Precision = {precision_at_k(recs, y_true).round(5)}')\n",
    "print(f'Recall = {recall_at_k(recs, y_true).round(5)}')\n",
    "print(f'NDCG = {ndcg_score(np.array(ranks), np.array(mov.future_interactions.todense())).round(5)} \\n')"
   ]
  },
  {
   "cell_type": "markdown",
   "metadata": {
    "cellId": "natsny71mpo4y7ryns8vr",
    "execution_id": "a7039e95-1d52-4787-ab34-11611e5ac6ff",
    "jupyter": {
     "outputs_hidden": false
    },
    "pycharm": {
     "name": "#%% md\n"
    }
   },
   "source": [
    "# LGCN-E"
   ]
  },
  {
   "cell_type": "code",
   "execution_count": 29,
   "metadata": {
    "cellId": "qu3nrj3dlxuvorl7kb4z",
    "collapsed": false,
    "jupyter": {
     "outputs_hidden": false
    },
    "pycharm": {
     "name": "#%%\n"
    }
   },
   "outputs": [],
   "source": [
    "from models import LGCN_E\n",
    "from utils import train\n",
    "pd.options.mode.chained_assignment = None"
   ]
  },
  {
   "cell_type": "markdown",
   "metadata": {
    "cellId": "z3zplkvg2eqbi5d27c0f",
    "execution_id": "bb4e7d87-9100-495f-aa0e-15e2a3070cde"
   },
   "source": [
    "### Amazon Books"
   ]
  },
  {
   "cell_type": "code",
   "execution_count": 50,
   "metadata": {
    "cellId": "vxz0m816z4uqk1zuh6epp"
   },
   "outputs": [
    {
     "name": "stdout",
     "output_type": "stream",
     "text": [
      "Sparsity = 99.856%\n",
      "Users: 35736\n",
      "Items: 38121\n"
     ]
    }
   ],
   "source": [
    "amazon = GraphDataset('amazon_20_core.csv.gz', usecols=['user_id', 'item_id', 'rating'])\n",
    "amazon.train_test_split(test_ratio=0.25, observed_ratio=0.1)\n",
    "amazon.build_sparse_interaction_matrix()\n",
    "amazon.build_interaction_graph()\n",
    "amazon.train_val_split(val_ratio=0.1)"
   ]
  },
  {
   "cell_type": "code",
   "execution_count": 32,
   "metadata": {
    "cellId": "wtpq0e9j0nry6cghn5ad3"
   },
   "outputs": [
    {
     "data": {
      "application/vnd.jupyter.widget-view+json": {
       "model_id": "ac8bdf8c7bce49dd87a956044f0e1d27",
       "version_major": 2,
       "version_minor": 0
      },
      "text/plain": [
       "HBox(children=(HTML(value=''), FloatProgress(value=0.0, max=250.0), HTML(value='')))"
      ]
     },
     "metadata": {},
     "output_type": "display_data"
    },
    {
     "name": "stdout",
     "output_type": "stream",
     "text": [
      "\n"
     ]
    }
   ],
   "source": [
    "#!g1.1\n",
    "device = torch.device(\"cuda:0\" if torch.cuda.is_available() else \"cpu\")\n",
    "\n",
    "pos_edges = amazon.pos_edges.to(device)\n",
    "train_edges = amazon.train_edges.to(device)\n",
    "val_edges = amazon.val_edges.to(device)\n",
    "test_observed_edges = amazon.test_observed_edges.to(device)\n",
    "test_future_edges = amazon.test_future_edges.to(device)\n",
    "_tfe = test_future_edges.clone().to(device)\n",
    "_tfe[1] -= amazon.n_train_users\n",
    "\n",
    "config = dict(lr = 2e-4,\n",
    "              emb_dim = 512,\n",
    "              device = device\n",
    "             )\n",
    "# wandb.init(project=\"course_work\", entity=\"ilyaind\", config=config, reinit=True)\n",
    "model = LGCN_E(n_users=amazon.n_items, emb_dim=config['emb_dim'], normalize=True).to(device)\n",
    "opt = torch.optim.Adam(model.parameters(), lr=config['lr'])\n",
    "model, opt = train(model, opt, amazon, train_edges, device, 250)"
   ]
  },
  {
   "cell_type": "code",
   "execution_count": 33,
   "metadata": {
    "cellId": "4turtxty90a4ctpy5ar2d6"
   },
   "outputs": [
    {
     "name": "stdout",
     "output_type": "stream",
     "text": [
      "===== LGCN-E =====\n",
      "Precsion = 0.14617\n",
      "Recall = 0.07154\n",
      "NDCG = 0.45866\n"
     ]
    }
   ],
   "source": [
    "#!g1.1\n",
    "K = 20\n",
    "\n",
    "with torch.no_grad():\n",
    "    _U, _E = model.get_embeddings(torch.cat([pos_edges, test_observed_edges], dim=1))\n",
    "\n",
    "new_scores = _E @ _U.T\n",
    "new_scores[test_observed_edges[1], test_observed_edges[0]] = -1e5  # exclude seen items\n",
    "new_scores = new_scores[amazon.n_train_users:]\n",
    "ranks, recs = new_scores.topk(K, dim=1)\n",
    "\n",
    "y_true = amazon._test_future.groupby('user_id')['item_id'].unique().values\n",
    "print('===== LGCN-E =====')\n",
    "print(f'Precsion = {precision_at_k(recs.cpu(), y_true).round(5)}')\n",
    "print(f'Recall = {recall_at_k(recs.cpu(), y_true).round(5)}')\n",
    "print(f'NDCG = {ndcg_at_k(ranks.cpu().numpy(), recs.cpu(), amazon.future_interactions).round(5)}')\n",
    "\n",
    "# wandb.run.summary[\"test_precision\"] = precision_at_k(recs.cpu(), y_true)\n",
    "# wandb.run.summary[\"test_recall\"] = recall_at_k(recs.cpu(), y_true)"
   ]
  },
  {
   "cell_type": "markdown",
   "metadata": {
    "cellId": "bimh1h1vyme3nug4mocz9t",
    "execution_id": "b63227ab-d8dc-4970-bf2a-bd3d3d1712f7"
   },
   "source": [
    "## MovieLens 1M"
   ]
  },
  {
   "cell_type": "code",
   "execution_count": 35,
   "metadata": {
    "cellId": "2yztvwt6tn86rrtioxw72t"
   },
   "outputs": [
    {
     "name": "stdout",
     "output_type": "stream",
     "text": [
      "Sparsity = 95.532%\n",
      "Users: 6040\n",
      "Items: 3706\n"
     ]
    }
   ],
   "source": [
    "mov = GraphDataset('ml-1m/ratings.dat', usecols=[0, 1, 2], header=None, sep='::', engine='python')\n",
    "mov.train_test_split(test_ratio=0.25, observed_ratio=0.1)\n",
    "mov.build_sparse_interaction_matrix()\n",
    "mov.build_interaction_graph()\n",
    "mov.train_val_split(val_ratio=0.1)"
   ]
  },
  {
   "cell_type": "code",
   "execution_count": 38,
   "outputs": [
    {
     "data": {
      "application/vnd.jupyter.widget-view+json": {
       "model_id": "b1d3789851224eceacbe96ef220b3175",
       "version_major": 2,
       "version_minor": 0
      },
      "text/plain": [
       "HBox(children=(HTML(value=''), FloatProgress(value=0.0, max=250.0), HTML(value='')))"
      ]
     },
     "metadata": {},
     "output_type": "display_data"
    },
    {
     "name": "stdout",
     "output_type": "stream",
     "text": [
      "\n"
     ]
    }
   ],
   "source": [
    "#!g1.1\n",
    "device = torch.device(\"cuda:0\" if torch.cuda.is_available() else \"cpu\")\n",
    "\n",
    "pos_edges = mov.pos_edges.to(device)\n",
    "train_edges = mov.train_edges.to(device)\n",
    "val_edges = mov.val_edges.to(device)\n",
    "test_observed_edges = mov.test_observed_edges.to(device)\n",
    "test_future_edges = mov.test_future_edges.to(device)\n",
    "_tfe = test_future_edges.clone().to(device)\n",
    "_tfe[1] -= mov.n_train_users\n",
    "\n",
    "config = dict(lr = 4e-4,\n",
    "              emb_dim = 256,\n",
    "              device = device\n",
    "              )\n",
    "# wandb.init(project=\"course_work\", entity=\"ilyaind\", config=config, reinit=True)\n",
    "model = LGCN_E(n_users=mov.n_items, emb_dim=config['emb_dim'], normalize=True).to(device)\n",
    "opt = torch.optim.Adam(model.parameters(), lr=config['lr'])\n",
    "model, opt = train(model, opt, mov, train_edges, device, 600)"
   ],
   "metadata": {
    "collapsed": false,
    "pycharm": {
     "name": "#%%\n"
    }
   }
  },
  {
   "cell_type": "code",
   "execution_count": 47,
   "outputs": [
    {
     "name": "stdout",
     "output_type": "stream",
     "text": [
      "===== LGCN-E =====\n",
      "Precsion = 0.53209\n",
      "Recall = 0.11721\n",
      "NDCG = 0.80396\n"
     ]
    }
   ],
   "source": [
    "#!g1.1\n",
    "K = 20\n",
    "\n",
    "with torch.no_grad():\n",
    "    _U, _E = model.get_embeddings(torch.cat([pos_edges, test_observed_edges], dim=1))\n",
    "\n",
    "new_scores = _E @ _U.T\n",
    "new_scores[test_observed_edges[1], test_observed_edges[0]] = -1e5  # exclude seen items\n",
    "new_scores = new_scores[mov.n_train_users:]\n",
    "ranks, recs = new_scores.topk(K, dim=1)\n",
    "\n",
    "y_true = mov._test_future.groupby('user_id')['item_id'].unique().values\n",
    "print('===== LGCN-E =====')\n",
    "print(f'Precsion = {precision_at_k(recs.cpu(), y_true).round(5)}')\n",
    "print(f'Recall = {recall_at_k(recs.cpu(), y_true).round(5)}')\n",
    "print(f'NDCG = {ndcg_at_k(ranks.cpu().numpy(), recs.cpu(), mov.future_interactions).round(5)}')"
   ],
   "metadata": {
    "collapsed": false,
    "pycharm": {
     "name": "#%%\n"
    }
   }
  }
 ],
 "metadata": {
  "language_info": {
   "codemirror_mode": {
    "name": "ipython",
    "version": 3
   },
   "file_extension": ".py",
   "mimetype": "text/x-python",
   "name": "python",
   "nbconvert_exporter": "python",
   "pygments_lexer": "ipython3",
   "version": "3.7.7"
  },
  "notebookId": "9121d43e-31c3-4532-8de8-402a79a403b4",
  "notebookPath": "recsys/benchmarks.ipynb",
  "toc": {
   "base_numbering": 1,
   "nav_menu": {},
   "number_sections": true,
   "sideBar": true,
   "skip_h1_title": false,
   "title_cell": "Table of Contents",
   "title_sidebar": "Contents",
   "toc_cell": false,
   "toc_position": {},
   "toc_section_display": true,
   "toc_window_display": false
  },
  "varInspector": {
   "cols": {
    "lenName": 16,
    "lenType": 16,
    "lenVar": 40
   },
   "kernels_config": {
    "python": {
     "delete_cmd_postfix": "",
     "delete_cmd_prefix": "del ",
     "library": "var_list.py",
     "varRefreshCmd": "print(var_dic_list())"
    },
    "r": {
     "delete_cmd_postfix": ") ",
     "delete_cmd_prefix": "rm(",
     "library": "var_list.r",
     "varRefreshCmd": "cat(var_dic_list()) "
    }
   },
   "types_to_exclude": [
    "module",
    "function",
    "builtin_function_or_method",
    "instance",
    "_Feature"
   ],
   "window_display": false
  }
 },
 "nbformat": 4,
 "nbformat_minor": 4
}